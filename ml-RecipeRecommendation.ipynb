{
 "cells": [
  {
   "cell_type": "markdown",
   "metadata": {},
   "source": [
    " <img src=\"./markdown/reco.jpg\" alt=\"Recommendation system\" style=\"display: block;\n",
    "  margin-left: auto;\n",
    "  margin-right: auto;\n",
    "  width: 80%;height:350px\"> "
   ]
  },
  {
   "cell_type": "markdown",
   "metadata": {},
   "source": [
    "<h1 style=\"text-align:center;font-size:35px;\">Recipe recommendation system</h1>\n",
    "<br>"
   ]
  },
  {
   "cell_type": "markdown",
   "metadata": {},
   "source": [
    "<h1 style=\"font-size:30px;color:#008abc;\">Introduction</h1>"
   ]
  },
  {
   "cell_type": "markdown",
   "metadata": {},
   "source": [
    "#### The goal of this project is to ultimately create a personalized recipe recommendation system that learns from the choice of its users. \n",
    "##### Data source and fields explanation:https://data.world/atlas-query/cookbook\n",
    "\n",
    "\n",
    "##### Due to feasibility limitations, the recommender system will not be able to track users` preferences so that we will come up with a new goal.\n",
    "\n",
    "## Healthy recommender system \n",
    "##### This system will keep track of the ingredients from each recipe, also will keep track of the important and needed intake of nutrients for a healthy nutrition.\n",
    "<br>"
   ]
  },
  {
   "cell_type": "markdown",
   "metadata": {},
   "source": [
    "### Import required Libraries."
   ]
  },
  {
   "cell_type": "code",
   "execution_count": 533,
   "metadata": {},
   "outputs": [],
   "source": [
    "import pandas as pd\n",
    "import numpy as np\n",
    "import matplotlib.pyplot as plt\n",
    "import seaborn as sns\n",
    "from sklearn.cluster import KMeans\n",
    "from sklearn.preprocessing import MinMaxScaler\n",
    "import random"
   ]
  },
  {
   "cell_type": "markdown",
   "metadata": {},
   "source": [
    "### Load data"
   ]
  },
  {
   "cell_type": "code",
   "execution_count": 534,
   "metadata": {},
   "outputs": [],
   "source": [
    "df_recipe_recommender = pd.read_csv('./exports/recipe_recommender.csv')\n",
    "df_recipe_clean = pd.read_csv('./exports/recipe_clean.csv')\n",
    "df_healthy_nutrients = pd.read_csv('./exports/nutrients_for_health.csv')"
   ]
  },
  {
   "cell_type": "markdown",
   "metadata": {},
   "source": [
    "#### Add a total duration time for each recipe"
   ]
  },
  {
   "cell_type": "code",
   "execution_count": 535,
   "metadata": {},
   "outputs": [
    {
     "data": {
      "text/html": [
       "<div>\n",
       "<style scoped>\n",
       "    .dataframe tbody tr th:only-of-type {\n",
       "        vertical-align: middle;\n",
       "    }\n",
       "\n",
       "    .dataframe tbody tr th {\n",
       "        vertical-align: top;\n",
       "    }\n",
       "\n",
       "    .dataframe thead th {\n",
       "        text-align: right;\n",
       "    }\n",
       "</style>\n",
       "<table border=\"1\" class=\"dataframe\">\n",
       "  <thead>\n",
       "    <tr style=\"text-align: right;\">\n",
       "      <th></th>\n",
       "      <th>recipe_id</th>\n",
       "      <th>title</th>\n",
       "      <th>servings</th>\n",
       "      <th>prep_min</th>\n",
       "      <th>cook_min</th>\n",
       "      <th>stnd_min</th>\n",
       "      <th>directions</th>\n",
       "      <th>total_min</th>\n",
       "    </tr>\n",
       "  </thead>\n",
       "  <tbody>\n",
       "    <tr>\n",
       "      <th>0</th>\n",
       "      <td>214</td>\n",
       "      <td>Raspberry Chiffon Pie</td>\n",
       "      <td>10</td>\n",
       "      <td>20</td>\n",
       "      <td>8</td>\n",
       "      <td>305</td>\n",
       "      <td>For crust, preheat oven to 375 degrees F.\\nIn...</td>\n",
       "      <td>333</td>\n",
       "    </tr>\n",
       "    <tr>\n",
       "      <th>1</th>\n",
       "      <td>215</td>\n",
       "      <td>Apricot Yogurt Parfaits</td>\n",
       "      <td>4</td>\n",
       "      <td>5</td>\n",
       "      <td>2</td>\n",
       "      <td>65</td>\n",
       "      <td>Drain canned apricots, pour 1/4 cup of the ju...</td>\n",
       "      <td>72</td>\n",
       "    </tr>\n",
       "    <tr>\n",
       "      <th>2</th>\n",
       "      <td>216</td>\n",
       "      <td>Fresh Apricot Bavarian</td>\n",
       "      <td>8</td>\n",
       "      <td>5</td>\n",
       "      <td>13</td>\n",
       "      <td>0</td>\n",
       "      <td>Drop apricots into boiling water to cover.  R...</td>\n",
       "      <td>18</td>\n",
       "    </tr>\n",
       "    <tr>\n",
       "      <th>3</th>\n",
       "      <td>217</td>\n",
       "      <td>Fresh Peaches with Banana Cream Whip</td>\n",
       "      <td>4</td>\n",
       "      <td>10</td>\n",
       "      <td>0</td>\n",
       "      <td>0</td>\n",
       "      <td>In a small bowl, beat egg white until foamy. ...</td>\n",
       "      <td>10</td>\n",
       "    </tr>\n",
       "    <tr>\n",
       "      <th>4</th>\n",
       "      <td>218</td>\n",
       "      <td>Canned Cherry Crisp</td>\n",
       "      <td>6</td>\n",
       "      <td>10</td>\n",
       "      <td>5</td>\n",
       "      <td>0</td>\n",
       "      <td>Pour cherry pie filling into an 8-inch, round...</td>\n",
       "      <td>15</td>\n",
       "    </tr>\n",
       "  </tbody>\n",
       "</table>\n",
       "</div>"
      ],
      "text/plain": [
       "   recipe_id                                 title  servings  prep_min  \\\n",
       "0        214                 Raspberry Chiffon Pie        10        20   \n",
       "1        215               Apricot Yogurt Parfaits         4         5   \n",
       "2        216                Fresh Apricot Bavarian         8         5   \n",
       "3        217  Fresh Peaches with Banana Cream Whip         4        10   \n",
       "4        218                   Canned Cherry Crisp         6        10   \n",
       "\n",
       "   cook_min  stnd_min                                         directions  \\\n",
       "0         8       305   For crust, preheat oven to 375 degrees F.\\nIn...   \n",
       "1         2        65   Drain canned apricots, pour 1/4 cup of the ju...   \n",
       "2        13         0   Drop apricots into boiling water to cover.  R...   \n",
       "3         0         0   In a small bowl, beat egg white until foamy. ...   \n",
       "4         5         0   Pour cherry pie filling into an 8-inch, round...   \n",
       "\n",
       "   total_min  \n",
       "0        333  \n",
       "1         72  \n",
       "2         18  \n",
       "3         10  \n",
       "4         15  "
      ]
     },
     "execution_count": 535,
     "metadata": {},
     "output_type": "execute_result"
    }
   ],
   "source": [
    "df_recipe_clean['total_min'] = df_recipe_clean['prep_min'] + df_recipe_clean['cook_min'] + df_recipe_clean['stnd_min']\n",
    "df_recipe_clean.head()"
   ]
  },
  {
   "cell_type": "code",
   "execution_count": 536,
   "metadata": {},
   "outputs": [],
   "source": [
    "df_ml_recipe = df_recipe_clean.drop(['servings','directions','prep_min', 'cook_min', 'stnd_min'], axis=1)"
   ]
  },
  {
   "cell_type": "code",
   "execution_count": 537,
   "metadata": {},
   "outputs": [
    {
     "data": {
      "text/html": [
       "<div>\n",
       "<style scoped>\n",
       "    .dataframe tbody tr th:only-of-type {\n",
       "        vertical-align: middle;\n",
       "    }\n",
       "\n",
       "    .dataframe tbody tr th {\n",
       "        vertical-align: top;\n",
       "    }\n",
       "\n",
       "    .dataframe thead th {\n",
       "        text-align: right;\n",
       "    }\n",
       "</style>\n",
       "<table border=\"1\" class=\"dataframe\">\n",
       "  <thead>\n",
       "    <tr style=\"text-align: right;\">\n",
       "      <th></th>\n",
       "      <th>recipe_id</th>\n",
       "      <th>title</th>\n",
       "      <th>total_min</th>\n",
       "      <th>rating_outOf_5</th>\n",
       "    </tr>\n",
       "  </thead>\n",
       "  <tbody>\n",
       "    <tr>\n",
       "      <th>0</th>\n",
       "      <td>214</td>\n",
       "      <td>Raspberry Chiffon Pie</td>\n",
       "      <td>333</td>\n",
       "      <td>3.0</td>\n",
       "    </tr>\n",
       "    <tr>\n",
       "      <th>1</th>\n",
       "      <td>215</td>\n",
       "      <td>Apricot Yogurt Parfaits</td>\n",
       "      <td>72</td>\n",
       "      <td>3.0</td>\n",
       "    </tr>\n",
       "    <tr>\n",
       "      <th>2</th>\n",
       "      <td>216</td>\n",
       "      <td>Fresh Apricot Bavarian</td>\n",
       "      <td>18</td>\n",
       "      <td>3.0</td>\n",
       "    </tr>\n",
       "    <tr>\n",
       "      <th>3</th>\n",
       "      <td>217</td>\n",
       "      <td>Fresh Peaches with Banana Cream Whip</td>\n",
       "      <td>10</td>\n",
       "      <td>3.0</td>\n",
       "    </tr>\n",
       "    <tr>\n",
       "      <th>4</th>\n",
       "      <td>218</td>\n",
       "      <td>Canned Cherry Crisp</td>\n",
       "      <td>15</td>\n",
       "      <td>3.0</td>\n",
       "    </tr>\n",
       "    <tr>\n",
       "      <th>...</th>\n",
       "      <td>...</td>\n",
       "      <td>...</td>\n",
       "      <td>...</td>\n",
       "      <td>...</td>\n",
       "    </tr>\n",
       "    <tr>\n",
       "      <th>873</th>\n",
       "      <td>1410</td>\n",
       "      <td>No-Bake Chocolate Cheesecake</td>\n",
       "      <td>150</td>\n",
       "      <td>3.0</td>\n",
       "    </tr>\n",
       "    <tr>\n",
       "      <th>874</th>\n",
       "      <td>1411</td>\n",
       "      <td>Mexican Cocoa Torte</td>\n",
       "      <td>222</td>\n",
       "      <td>3.0</td>\n",
       "    </tr>\n",
       "    <tr>\n",
       "      <th>875</th>\n",
       "      <td>1426</td>\n",
       "      <td>-Pancakes-</td>\n",
       "      <td>20</td>\n",
       "      <td>3.0</td>\n",
       "    </tr>\n",
       "    <tr>\n",
       "      <th>876</th>\n",
       "      <td>1427</td>\n",
       "      <td>-Waffles-</td>\n",
       "      <td>25</td>\n",
       "      <td>3.0</td>\n",
       "    </tr>\n",
       "    <tr>\n",
       "      <th>877</th>\n",
       "      <td>1432</td>\n",
       "      <td>Curried Chicken Livers Topped Spud</td>\n",
       "      <td>25</td>\n",
       "      <td>3.0</td>\n",
       "    </tr>\n",
       "  </tbody>\n",
       "</table>\n",
       "<p>878 rows × 4 columns</p>\n",
       "</div>"
      ],
      "text/plain": [
       "     recipe_id                                 title  total_min  \\\n",
       "0          214                 Raspberry Chiffon Pie        333   \n",
       "1          215               Apricot Yogurt Parfaits         72   \n",
       "2          216                Fresh Apricot Bavarian         18   \n",
       "3          217  Fresh Peaches with Banana Cream Whip         10   \n",
       "4          218                   Canned Cherry Crisp         15   \n",
       "..         ...                                   ...        ...   \n",
       "873       1410          No-Bake Chocolate Cheesecake        150   \n",
       "874       1411                   Mexican Cocoa Torte        222   \n",
       "875       1426                            -Pancakes-         20   \n",
       "876       1427                             -Waffles-         25   \n",
       "877       1432    Curried Chicken Livers Topped Spud         25   \n",
       "\n",
       "     rating_outOf_5  \n",
       "0               3.0  \n",
       "1               3.0  \n",
       "2               3.0  \n",
       "3               3.0  \n",
       "4               3.0  \n",
       "..              ...  \n",
       "873             3.0  \n",
       "874             3.0  \n",
       "875             3.0  \n",
       "876             3.0  \n",
       "877             3.0  \n",
       "\n",
       "[878 rows x 4 columns]"
      ]
     },
     "execution_count": 537,
     "metadata": {},
     "output_type": "execute_result"
    }
   ],
   "source": [
    "df_ml_recipe['rating_outOf_5'] = 3.0\n",
    "df_ml_recipe"
   ]
  },
  {
   "cell_type": "markdown",
   "metadata": {},
   "source": [
    "### Make healthy recipes"
   ]
  },
  {
   "cell_type": "code",
   "execution_count": 538,
   "metadata": {},
   "outputs": [
    {
     "data": {
      "text/plain": [
       "(878, 8)"
      ]
     },
     "execution_count": 538,
     "metadata": {},
     "output_type": "execute_result"
    }
   ],
   "source": [
    "df_healthy_nutrients['healthy'] = False\n",
    "df_healthy_nutrients.shape"
   ]
  },
  {
   "cell_type": "code",
   "execution_count": 539,
   "metadata": {},
   "outputs": [
    {
     "data": {
      "text/html": [
       "<div>\n",
       "<style scoped>\n",
       "    .dataframe tbody tr th:only-of-type {\n",
       "        vertical-align: middle;\n",
       "    }\n",
       "\n",
       "    .dataframe tbody tr th {\n",
       "        vertical-align: top;\n",
       "    }\n",
       "\n",
       "    .dataframe thead th {\n",
       "        text-align: right;\n",
       "    }\n",
       "</style>\n",
       "<table border=\"1\" class=\"dataframe\">\n",
       "  <thead>\n",
       "    <tr style=\"text-align: right;\">\n",
       "      <th></th>\n",
       "      <th>recipe_id</th>\n",
       "      <th>protein</th>\n",
       "      <th>carbo</th>\n",
       "      <th>total_fat</th>\n",
       "      <th>cholestrl</th>\n",
       "      <th>sodium</th>\n",
       "      <th>calories</th>\n",
       "      <th>healthy</th>\n",
       "    </tr>\n",
       "  </thead>\n",
       "  <tbody>\n",
       "    <tr>\n",
       "      <th>0</th>\n",
       "      <td>214</td>\n",
       "      <td>5.47</td>\n",
       "      <td>41.29</td>\n",
       "      <td>11.53</td>\n",
       "      <td>1.39</td>\n",
       "      <td>260.78</td>\n",
       "      <td>290.79</td>\n",
       "      <td>False</td>\n",
       "    </tr>\n",
       "    <tr>\n",
       "      <th>1</th>\n",
       "      <td>215</td>\n",
       "      <td>5.70</td>\n",
       "      <td>23.75</td>\n",
       "      <td>1.08</td>\n",
       "      <td>3.48</td>\n",
       "      <td>46.17</td>\n",
       "      <td>141.01</td>\n",
       "      <td>False</td>\n",
       "    </tr>\n",
       "    <tr>\n",
       "      <th>2</th>\n",
       "      <td>216</td>\n",
       "      <td>4.90</td>\n",
       "      <td>26.88</td>\n",
       "      <td>1.10</td>\n",
       "      <td>3.46</td>\n",
       "      <td>41.79</td>\n",
       "      <td>137.06</td>\n",
       "      <td>False</td>\n",
       "    </tr>\n",
       "    <tr>\n",
       "      <th>3</th>\n",
       "      <td>217</td>\n",
       "      <td>1.77</td>\n",
       "      <td>18.17</td>\n",
       "      <td>0.21</td>\n",
       "      <td>0.00</td>\n",
       "      <td>14.01</td>\n",
       "      <td>81.70</td>\n",
       "      <td>False</td>\n",
       "    </tr>\n",
       "    <tr>\n",
       "      <th>4</th>\n",
       "      <td>218</td>\n",
       "      <td>1.38</td>\n",
       "      <td>36.63</td>\n",
       "      <td>5.47</td>\n",
       "      <td>10.36</td>\n",
       "      <td>50.22</td>\n",
       "      <td>201.23</td>\n",
       "      <td>False</td>\n",
       "    </tr>\n",
       "    <tr>\n",
       "      <th>...</th>\n",
       "      <td>...</td>\n",
       "      <td>...</td>\n",
       "      <td>...</td>\n",
       "      <td>...</td>\n",
       "      <td>...</td>\n",
       "      <td>...</td>\n",
       "      <td>...</td>\n",
       "      <td>...</td>\n",
       "    </tr>\n",
       "    <tr>\n",
       "      <th>873</th>\n",
       "      <td>1427</td>\n",
       "      <td>6.57</td>\n",
       "      <td>30.14</td>\n",
       "      <td>13.74</td>\n",
       "      <td>60.38</td>\n",
       "      <td>173.88</td>\n",
       "      <td>270.50</td>\n",
       "      <td>False</td>\n",
       "    </tr>\n",
       "    <tr>\n",
       "      <th>874</th>\n",
       "      <td>1428</td>\n",
       "      <td>9.13</td>\n",
       "      <td>29.91</td>\n",
       "      <td>16.88</td>\n",
       "      <td>144.36</td>\n",
       "      <td>458.80</td>\n",
       "      <td>308.10</td>\n",
       "      <td>False</td>\n",
       "    </tr>\n",
       "    <tr>\n",
       "      <th>875</th>\n",
       "      <td>1429</td>\n",
       "      <td>1.35</td>\n",
       "      <td>3.13</td>\n",
       "      <td>0.26</td>\n",
       "      <td>0.00</td>\n",
       "      <td>15.34</td>\n",
       "      <td>20.31</td>\n",
       "      <td>False</td>\n",
       "    </tr>\n",
       "    <tr>\n",
       "      <th>876</th>\n",
       "      <td>1432</td>\n",
       "      <td>23.04</td>\n",
       "      <td>60.78</td>\n",
       "      <td>9.27</td>\n",
       "      <td>430.09</td>\n",
       "      <td>1075.80</td>\n",
       "      <td>418.73</td>\n",
       "      <td>False</td>\n",
       "    </tr>\n",
       "    <tr>\n",
       "      <th>877</th>\n",
       "      <td>1436</td>\n",
       "      <td>17.13</td>\n",
       "      <td>45.05</td>\n",
       "      <td>19.23</td>\n",
       "      <td>9.76</td>\n",
       "      <td>131.73</td>\n",
       "      <td>421.79</td>\n",
       "      <td>True</td>\n",
       "    </tr>\n",
       "  </tbody>\n",
       "</table>\n",
       "<p>878 rows × 8 columns</p>\n",
       "</div>"
      ],
      "text/plain": [
       "     recipe_id  protein  carbo  total_fat  cholestrl   sodium  calories  \\\n",
       "0          214     5.47  41.29      11.53       1.39   260.78    290.79   \n",
       "1          215     5.70  23.75       1.08       3.48    46.17    141.01   \n",
       "2          216     4.90  26.88       1.10       3.46    41.79    137.06   \n",
       "3          217     1.77  18.17       0.21       0.00    14.01     81.70   \n",
       "4          218     1.38  36.63       5.47      10.36    50.22    201.23   \n",
       "..         ...      ...    ...        ...        ...      ...       ...   \n",
       "873       1427     6.57  30.14      13.74      60.38   173.88    270.50   \n",
       "874       1428     9.13  29.91      16.88     144.36   458.80    308.10   \n",
       "875       1429     1.35   3.13       0.26       0.00    15.34     20.31   \n",
       "876       1432    23.04  60.78       9.27     430.09  1075.80    418.73   \n",
       "877       1436    17.13  45.05      19.23       9.76   131.73    421.79   \n",
       "\n",
       "     healthy  \n",
       "0      False  \n",
       "1      False  \n",
       "2      False  \n",
       "3      False  \n",
       "4      False  \n",
       "..       ...  \n",
       "873    False  \n",
       "874    False  \n",
       "875    False  \n",
       "876    False  \n",
       "877     True  \n",
       "\n",
       "[878 rows x 8 columns]"
      ]
     },
     "execution_count": 539,
     "metadata": {},
     "output_type": "execute_result"
    }
   ],
   "source": [
    "df_copy = df_healthy_nutrients.copy()\n",
    "for index, row in df_healthy_nutrients.iterrows():\n",
    "    if (row['protein'] >= 10 and row['protein'] <= 25) and (row['total_fat'] >= 0 and row['total_fat'] <=25) and (row['calories'] >= 200 and row['calories'] <= 500) and (row['carbo'] >= 5 and row['carbo'] <= 100) and (row['sodium']>= 0 and row['sodium']<=800):\n",
    "        df_copy.loc[index, 'healthy'] = True\n",
    "df_copy"
   ]
  },
  {
   "cell_type": "code",
   "execution_count": 540,
   "metadata": {},
   "outputs": [
    {
     "data": {
      "text/html": [
       "<div>\n",
       "<style scoped>\n",
       "    .dataframe tbody tr th:only-of-type {\n",
       "        vertical-align: middle;\n",
       "    }\n",
       "\n",
       "    .dataframe tbody tr th {\n",
       "        vertical-align: top;\n",
       "    }\n",
       "\n",
       "    .dataframe thead th {\n",
       "        text-align: right;\n",
       "    }\n",
       "</style>\n",
       "<table border=\"1\" class=\"dataframe\">\n",
       "  <thead>\n",
       "    <tr style=\"text-align: right;\">\n",
       "      <th></th>\n",
       "      <th>recipe_id</th>\n",
       "      <th>protein</th>\n",
       "      <th>carbo</th>\n",
       "      <th>total_fat</th>\n",
       "      <th>cholestrl</th>\n",
       "      <th>sodium</th>\n",
       "      <th>calories</th>\n",
       "      <th>healthy</th>\n",
       "      <th>title</th>\n",
       "      <th>total_min</th>\n",
       "      <th>rating_outOf_5</th>\n",
       "    </tr>\n",
       "  </thead>\n",
       "  <tbody>\n",
       "    <tr>\n",
       "      <th>0</th>\n",
       "      <td>214</td>\n",
       "      <td>5.47</td>\n",
       "      <td>41.29</td>\n",
       "      <td>11.53</td>\n",
       "      <td>1.39</td>\n",
       "      <td>260.78</td>\n",
       "      <td>290.79</td>\n",
       "      <td>False</td>\n",
       "      <td>Raspberry Chiffon Pie</td>\n",
       "      <td>333</td>\n",
       "      <td>3.0</td>\n",
       "    </tr>\n",
       "    <tr>\n",
       "      <th>1</th>\n",
       "      <td>215</td>\n",
       "      <td>5.70</td>\n",
       "      <td>23.75</td>\n",
       "      <td>1.08</td>\n",
       "      <td>3.48</td>\n",
       "      <td>46.17</td>\n",
       "      <td>141.01</td>\n",
       "      <td>False</td>\n",
       "      <td>Apricot Yogurt Parfaits</td>\n",
       "      <td>72</td>\n",
       "      <td>3.0</td>\n",
       "    </tr>\n",
       "    <tr>\n",
       "      <th>2</th>\n",
       "      <td>216</td>\n",
       "      <td>4.90</td>\n",
       "      <td>26.88</td>\n",
       "      <td>1.10</td>\n",
       "      <td>3.46</td>\n",
       "      <td>41.79</td>\n",
       "      <td>137.06</td>\n",
       "      <td>False</td>\n",
       "      <td>Fresh Apricot Bavarian</td>\n",
       "      <td>18</td>\n",
       "      <td>3.0</td>\n",
       "    </tr>\n",
       "    <tr>\n",
       "      <th>3</th>\n",
       "      <td>217</td>\n",
       "      <td>1.77</td>\n",
       "      <td>18.17</td>\n",
       "      <td>0.21</td>\n",
       "      <td>0.00</td>\n",
       "      <td>14.01</td>\n",
       "      <td>81.70</td>\n",
       "      <td>False</td>\n",
       "      <td>Fresh Peaches with Banana Cream Whip</td>\n",
       "      <td>10</td>\n",
       "      <td>3.0</td>\n",
       "    </tr>\n",
       "    <tr>\n",
       "      <th>4</th>\n",
       "      <td>218</td>\n",
       "      <td>1.38</td>\n",
       "      <td>36.63</td>\n",
       "      <td>5.47</td>\n",
       "      <td>10.36</td>\n",
       "      <td>50.22</td>\n",
       "      <td>201.23</td>\n",
       "      <td>False</td>\n",
       "      <td>Canned Cherry Crisp</td>\n",
       "      <td>15</td>\n",
       "      <td>3.0</td>\n",
       "    </tr>\n",
       "    <tr>\n",
       "      <th>...</th>\n",
       "      <td>...</td>\n",
       "      <td>...</td>\n",
       "      <td>...</td>\n",
       "      <td>...</td>\n",
       "      <td>...</td>\n",
       "      <td>...</td>\n",
       "      <td>...</td>\n",
       "      <td>...</td>\n",
       "      <td>...</td>\n",
       "      <td>...</td>\n",
       "      <td>...</td>\n",
       "    </tr>\n",
       "    <tr>\n",
       "      <th>873</th>\n",
       "      <td>1427</td>\n",
       "      <td>6.57</td>\n",
       "      <td>30.14</td>\n",
       "      <td>13.74</td>\n",
       "      <td>60.38</td>\n",
       "      <td>173.88</td>\n",
       "      <td>270.50</td>\n",
       "      <td>False</td>\n",
       "      <td>-Waffles-</td>\n",
       "      <td>25</td>\n",
       "      <td>3.0</td>\n",
       "    </tr>\n",
       "    <tr>\n",
       "      <th>874</th>\n",
       "      <td>1428</td>\n",
       "      <td>9.13</td>\n",
       "      <td>29.91</td>\n",
       "      <td>16.88</td>\n",
       "      <td>144.36</td>\n",
       "      <td>458.80</td>\n",
       "      <td>308.10</td>\n",
       "      <td>False</td>\n",
       "      <td>-French Toast-</td>\n",
       "      <td>15</td>\n",
       "      <td>3.0</td>\n",
       "    </tr>\n",
       "    <tr>\n",
       "      <th>875</th>\n",
       "      <td>1429</td>\n",
       "      <td>1.35</td>\n",
       "      <td>3.13</td>\n",
       "      <td>0.26</td>\n",
       "      <td>0.00</td>\n",
       "      <td>15.34</td>\n",
       "      <td>20.31</td>\n",
       "      <td>False</td>\n",
       "      <td>-Mixed Green Salad-</td>\n",
       "      <td>0</td>\n",
       "      <td>3.0</td>\n",
       "    </tr>\n",
       "    <tr>\n",
       "      <th>876</th>\n",
       "      <td>1432</td>\n",
       "      <td>23.04</td>\n",
       "      <td>60.78</td>\n",
       "      <td>9.27</td>\n",
       "      <td>430.09</td>\n",
       "      <td>1075.80</td>\n",
       "      <td>418.73</td>\n",
       "      <td>False</td>\n",
       "      <td>Curried Chicken Livers Topped Spud</td>\n",
       "      <td>25</td>\n",
       "      <td>3.0</td>\n",
       "    </tr>\n",
       "    <tr>\n",
       "      <th>877</th>\n",
       "      <td>1436</td>\n",
       "      <td>17.13</td>\n",
       "      <td>45.05</td>\n",
       "      <td>19.23</td>\n",
       "      <td>9.76</td>\n",
       "      <td>131.73</td>\n",
       "      <td>421.79</td>\n",
       "      <td>True</td>\n",
       "      <td>T.B.P.B. Smoothie</td>\n",
       "      <td>5</td>\n",
       "      <td>3.0</td>\n",
       "    </tr>\n",
       "  </tbody>\n",
       "</table>\n",
       "<p>878 rows × 11 columns</p>\n",
       "</div>"
      ],
      "text/plain": [
       "     recipe_id  protein  carbo  total_fat  cholestrl   sodium  calories  \\\n",
       "0          214     5.47  41.29      11.53       1.39   260.78    290.79   \n",
       "1          215     5.70  23.75       1.08       3.48    46.17    141.01   \n",
       "2          216     4.90  26.88       1.10       3.46    41.79    137.06   \n",
       "3          217     1.77  18.17       0.21       0.00    14.01     81.70   \n",
       "4          218     1.38  36.63       5.47      10.36    50.22    201.23   \n",
       "..         ...      ...    ...        ...        ...      ...       ...   \n",
       "873       1427     6.57  30.14      13.74      60.38   173.88    270.50   \n",
       "874       1428     9.13  29.91      16.88     144.36   458.80    308.10   \n",
       "875       1429     1.35   3.13       0.26       0.00    15.34     20.31   \n",
       "876       1432    23.04  60.78       9.27     430.09  1075.80    418.73   \n",
       "877       1436    17.13  45.05      19.23       9.76   131.73    421.79   \n",
       "\n",
       "     healthy                                 title  total_min  rating_outOf_5  \n",
       "0      False                 Raspberry Chiffon Pie        333             3.0  \n",
       "1      False               Apricot Yogurt Parfaits         72             3.0  \n",
       "2      False                Fresh Apricot Bavarian         18             3.0  \n",
       "3      False  Fresh Peaches with Banana Cream Whip         10             3.0  \n",
       "4      False                   Canned Cherry Crisp         15             3.0  \n",
       "..       ...                                   ...        ...             ...  \n",
       "873    False                             -Waffles-         25             3.0  \n",
       "874    False                        -French Toast-         15             3.0  \n",
       "875    False                   -Mixed Green Salad-          0             3.0  \n",
       "876    False    Curried Chicken Livers Topped Spud         25             3.0  \n",
       "877     True                     T.B.P.B. Smoothie          5             3.0  \n",
       "\n",
       "[878 rows x 11 columns]"
      ]
     },
     "execution_count": 540,
     "metadata": {},
     "output_type": "execute_result"
    }
   ],
   "source": [
    "df_recipe_final = pd.merge(df_copy, df_ml_recipe, on='recipe_id', how='left')\n",
    "df_recipe_final"
   ]
  },
  {
   "cell_type": "markdown",
   "metadata": {},
   "source": [
    "### Search for total-min outliers"
   ]
  },
  {
   "cell_type": "code",
   "execution_count": 541,
   "metadata": {},
   "outputs": [
    {
     "data": {
      "text/plain": [
       "<AxesSubplot:xlabel='total_min'>"
      ]
     },
     "execution_count": 541,
     "metadata": {},
     "output_type": "execute_result"
    },
    {
     "data": {
      "image/png": "[encoded data removed]",
      "text/plain": [
       "<Figure size 432x288 with 1 Axes>"
      ]
     },
     "metadata": {
      "needs_background": "light"
     },
     "output_type": "display_data"
    }
   ],
   "source": [
    "sns.boxplot(x=df_recipe_final['total_min'])"
   ]
  },
  {
   "cell_type": "markdown",
   "metadata": {},
   "source": [
    "#### Let`s remove all recipes with less than 5 mins and more than 150 mins."
   ]
  },
  {
   "cell_type": "code",
   "execution_count": 542,
   "metadata": {},
   "outputs": [
    {
     "data": {
      "text/plain": [
       "(749, 11)"
      ]
     },
     "execution_count": 542,
     "metadata": {},
     "output_type": "execute_result"
    }
   ],
   "source": [
    "more_5 = df_recipe_final['total_min'] >= 5\n",
    "less_200 = df_recipe_final['total_min'] < 500\n",
    "df_result = df_recipe_final[more_5& less_200]\n",
    "df_result.shape"
   ]
  },
  {
   "cell_type": "code",
   "execution_count": 543,
   "metadata": {},
   "outputs": [
    {
     "data": {
      "text/plain": [
       "<AxesSubplot:xlabel='total_min'>"
      ]
     },
     "execution_count": 543,
     "metadata": {},
     "output_type": "execute_result"
    },
    {
     "data": {
      "image/png": "[encoded data removed]",
      "text/plain": [
       "<Figure size 432x288 with 1 Axes>"
      ]
     },
     "metadata": {
      "needs_background": "light"
     },
     "output_type": "display_data"
    }
   ],
   "source": [
    "sns.boxplot(x=df_result['total_min'])"
   ]
  },
  {
   "cell_type": "code",
   "execution_count": 544,
   "metadata": {},
   "outputs": [
    {
     "data": {
      "text/plain": [
       "(749, 11)"
      ]
     },
     "execution_count": 544,
     "metadata": {},
     "output_type": "execute_result"
    }
   ],
   "source": [
    "df_result.shape"
   ]
  },
  {
   "cell_type": "code",
   "execution_count": 545,
   "metadata": {},
   "outputs": [
    {
     "data": {
      "text/plain": [
       "<matplotlib.collections.PathCollection at 0x2336b7e7550>"
      ]
     },
     "execution_count": 545,
     "metadata": {},
     "output_type": "execute_result"
    },
    {
     "data": {
      "image/png": "[encoded data removed]",
      "text/plain": [
       "<Figure size 432x288 with 1 Axes>"
      ]
     },
     "metadata": {
      "needs_background": "light"
     },
     "output_type": "display_data"
    }
   ],
   "source": [
    "calories = df_result['calories'] < 600\n",
    "df_ml = df_result[calories]\n",
    "df_ml\n",
    "plt.scatter(df_ml['calories'], df_ml['total_min'])"
   ]
  },
  {
   "cell_type": "markdown",
   "metadata": {},
   "source": [
    "We cannot differentiate clusters in this"
   ]
  },
  {
   "cell_type": "code",
   "execution_count": 546,
   "metadata": {},
   "outputs": [],
   "source": [
    "k_range = range(1, 10)\n",
    "sse = []\n",
    "for k in k_range:\n",
    "    km = KMeans(n_clusters=k)\n",
    "    km.fit(df_ml[['calories', 'total_min']])\n",
    "    sse.append(km.inertia_)"
   ]
  },
  {
   "cell_type": "code",
   "execution_count": 547,
   "metadata": {},
   "outputs": [
    {
     "data": {
      "text/plain": [
       "[18312220.337023914,\n",
       " 8820762.99136904,\n",
       " 5969637.098404678,\n",
       " 3870752.7634837045,\n",
       " 3108485.975194998,\n",
       " 2538694.3979751724,\n",
       " 2196838.0082603595,\n",
       " 1851124.8803068884,\n",
       " 1635101.4725010628]"
      ]
     },
     "execution_count": 547,
     "metadata": {},
     "output_type": "execute_result"
    }
   ],
   "source": [
    "sse"
   ]
  },
  {
   "cell_type": "code",
   "execution_count": 548,
   "metadata": {},
   "outputs": [
    {
     "data": {
      "text/plain": [
       "[<matplotlib.lines.Line2D at 0x2336721b9a0>]"
      ]
     },
     "execution_count": 548,
     "metadata": {},
     "output_type": "execute_result"
    },
    {
     "data": {
      "image/png": "[encoded data removed]",
      "text/plain": [
       "<Figure size 432x288 with 1 Axes>"
      ]
     },
     "metadata": {
      "needs_background": "light"
     },
     "output_type": "display_data"
    }
   ],
   "source": [
    "plt.xlabel('K')\n",
    "plt.ylabel('Sum of squared error')\n",
    "plt.plot(k_range, sse)"
   ]
  },
  {
   "cell_type": "code",
   "execution_count": 549,
   "metadata": {},
   "outputs": [
    {
     "data": {
      "text/html": [
       "<div>\n",
       "<style scoped>\n",
       "    .dataframe tbody tr th:only-of-type {\n",
       "        vertical-align: middle;\n",
       "    }\n",
       "\n",
       "    .dataframe tbody tr th {\n",
       "        vertical-align: top;\n",
       "    }\n",
       "\n",
       "    .dataframe thead th {\n",
       "        text-align: right;\n",
       "    }\n",
       "</style>\n",
       "<table border=\"1\" class=\"dataframe\">\n",
       "  <thead>\n",
       "    <tr style=\"text-align: right;\">\n",
       "      <th></th>\n",
       "      <th>calories</th>\n",
       "      <th>total_min</th>\n",
       "    </tr>\n",
       "  </thead>\n",
       "  <tbody>\n",
       "    <tr>\n",
       "      <th>0</th>\n",
       "      <td>239.471133</td>\n",
       "      <td>48.554687</td>\n",
       "    </tr>\n",
       "    <tr>\n",
       "      <th>1</th>\n",
       "      <td>86.907333</td>\n",
       "      <td>30.916667</td>\n",
       "    </tr>\n",
       "    <tr>\n",
       "      <th>2</th>\n",
       "      <td>180.872464</td>\n",
       "      <td>267.275362</td>\n",
       "    </tr>\n",
       "    <tr>\n",
       "      <th>3</th>\n",
       "      <td>420.123684</td>\n",
       "      <td>69.695906</td>\n",
       "    </tr>\n",
       "  </tbody>\n",
       "</table>\n",
       "</div>"
      ],
      "text/plain": [
       "     calories   total_min\n",
       "0  239.471133   48.554687\n",
       "1   86.907333   30.916667\n",
       "2  180.872464  267.275362\n",
       "3  420.123684   69.695906"
      ]
     },
     "execution_count": 549,
     "metadata": {},
     "output_type": "execute_result"
    }
   ],
   "source": [
    "X_km = df_ml[['recipe_id','calories', 'total_min', 'rating_outOf_5', 'healthy']].copy()\n",
    "km = KMeans(n_clusters=4)\n",
    "km.fit(X_km[['calories', 'total_min']])\n",
    "centers = pd.DataFrame(km.cluster_centers_, columns=X_km[['calories', 'total_min']].columns)\n",
    "centers"
   ]
  },
  {
   "cell_type": "code",
   "execution_count": 550,
   "metadata": {},
   "outputs": [
    {
     "data": {
      "text/html": [
       "<div>\n",
       "<style scoped>\n",
       "    .dataframe tbody tr th:only-of-type {\n",
       "        vertical-align: middle;\n",
       "    }\n",
       "\n",
       "    .dataframe tbody tr th {\n",
       "        vertical-align: top;\n",
       "    }\n",
       "\n",
       "    .dataframe thead th {\n",
       "        text-align: right;\n",
       "    }\n",
       "</style>\n",
       "<table border=\"1\" class=\"dataframe\">\n",
       "  <thead>\n",
       "    <tr style=\"text-align: right;\">\n",
       "      <th></th>\n",
       "      <th>recipe_id</th>\n",
       "      <th>calories</th>\n",
       "      <th>total_min</th>\n",
       "      <th>rating_outOf_5</th>\n",
       "      <th>healthy</th>\n",
       "      <th>cluster</th>\n",
       "    </tr>\n",
       "  </thead>\n",
       "  <tbody>\n",
       "    <tr>\n",
       "      <th>0</th>\n",
       "      <td>214</td>\n",
       "      <td>290.79</td>\n",
       "      <td>333</td>\n",
       "      <td>3.0</td>\n",
       "      <td>False</td>\n",
       "      <td>2</td>\n",
       "    </tr>\n",
       "    <tr>\n",
       "      <th>1</th>\n",
       "      <td>215</td>\n",
       "      <td>141.01</td>\n",
       "      <td>72</td>\n",
       "      <td>3.0</td>\n",
       "      <td>False</td>\n",
       "      <td>1</td>\n",
       "    </tr>\n",
       "    <tr>\n",
       "      <th>2</th>\n",
       "      <td>216</td>\n",
       "      <td>137.06</td>\n",
       "      <td>18</td>\n",
       "      <td>3.0</td>\n",
       "      <td>False</td>\n",
       "      <td>1</td>\n",
       "    </tr>\n",
       "    <tr>\n",
       "      <th>3</th>\n",
       "      <td>217</td>\n",
       "      <td>81.70</td>\n",
       "      <td>10</td>\n",
       "      <td>3.0</td>\n",
       "      <td>False</td>\n",
       "      <td>1</td>\n",
       "    </tr>\n",
       "    <tr>\n",
       "      <th>4</th>\n",
       "      <td>218</td>\n",
       "      <td>201.23</td>\n",
       "      <td>15</td>\n",
       "      <td>3.0</td>\n",
       "      <td>False</td>\n",
       "      <td>0</td>\n",
       "    </tr>\n",
       "    <tr>\n",
       "      <th>...</th>\n",
       "      <td>...</td>\n",
       "      <td>...</td>\n",
       "      <td>...</td>\n",
       "      <td>...</td>\n",
       "      <td>...</td>\n",
       "      <td>...</td>\n",
       "    </tr>\n",
       "    <tr>\n",
       "      <th>872</th>\n",
       "      <td>1426</td>\n",
       "      <td>200.63</td>\n",
       "      <td>20</td>\n",
       "      <td>3.0</td>\n",
       "      <td>False</td>\n",
       "      <td>0</td>\n",
       "    </tr>\n",
       "    <tr>\n",
       "      <th>873</th>\n",
       "      <td>1427</td>\n",
       "      <td>270.50</td>\n",
       "      <td>25</td>\n",
       "      <td>3.0</td>\n",
       "      <td>False</td>\n",
       "      <td>0</td>\n",
       "    </tr>\n",
       "    <tr>\n",
       "      <th>874</th>\n",
       "      <td>1428</td>\n",
       "      <td>308.10</td>\n",
       "      <td>15</td>\n",
       "      <td>3.0</td>\n",
       "      <td>False</td>\n",
       "      <td>0</td>\n",
       "    </tr>\n",
       "    <tr>\n",
       "      <th>876</th>\n",
       "      <td>1432</td>\n",
       "      <td>418.73</td>\n",
       "      <td>25</td>\n",
       "      <td>3.0</td>\n",
       "      <td>False</td>\n",
       "      <td>3</td>\n",
       "    </tr>\n",
       "    <tr>\n",
       "      <th>877</th>\n",
       "      <td>1436</td>\n",
       "      <td>421.79</td>\n",
       "      <td>5</td>\n",
       "      <td>3.0</td>\n",
       "      <td>True</td>\n",
       "      <td>3</td>\n",
       "    </tr>\n",
       "  </tbody>\n",
       "</table>\n",
       "<p>736 rows × 6 columns</p>\n",
       "</div>"
      ],
      "text/plain": [
       "     recipe_id  calories  total_min  rating_outOf_5  healthy  cluster\n",
       "0          214    290.79        333             3.0    False        2\n",
       "1          215    141.01         72             3.0    False        1\n",
       "2          216    137.06         18             3.0    False        1\n",
       "3          217     81.70         10             3.0    False        1\n",
       "4          218    201.23         15             3.0    False        0\n",
       "..         ...       ...        ...             ...      ...      ...\n",
       "872       1426    200.63         20             3.0    False        0\n",
       "873       1427    270.50         25             3.0    False        0\n",
       "874       1428    308.10         15             3.0    False        0\n",
       "876       1432    418.73         25             3.0    False        3\n",
       "877       1436    421.79          5             3.0     True        3\n",
       "\n",
       "[736 rows x 6 columns]"
      ]
     },
     "execution_count": 550,
     "metadata": {},
     "output_type": "execute_result"
    }
   ],
   "source": [
    "X_km['cluster'] = km.labels_\n",
    "X_km"
   ]
  },
  {
   "cell_type": "code",
   "execution_count": 551,
   "metadata": {},
   "outputs": [
    {
     "data": {
      "text/plain": [
       "<AxesSubplot:xlabel='calories', ylabel='total_min'>"
      ]
     },
     "execution_count": 551,
     "metadata": {},
     "output_type": "execute_result"
    },
    {
     "data": {
      "image/png": "[encoded data removed]",
      "text/plain": [
       "<Figure size 432x288 with 1 Axes>"
      ]
     },
     "metadata": {
      "needs_background": "light"
     },
     "output_type": "display_data"
    }
   ],
   "source": [
    "ax = X_km[X_km['cluster']==0].plot(kind='scatter', x='calories', y='total_min', s=50, c='green', sharex=False)\n",
    "X_km[X_km['cluster']==1].plot(kind='scatter',x='calories',y='total_min',s=50, c='orange', sharex=False, ax = ax)\n",
    "X_km[X_km['cluster']==2].plot(kind='scatter',x='calories',y='total_min',s=50, c='purple', sharex=False, ax = ax)\n",
    "X_km[X_km['cluster']==3].plot(kind='scatter',x='calories',y='total_min',s=50, c='red', sharex=False, ax = ax)\n",
    "centers.plot(kind = 'scatter', x='calories', y='total_min', c=['green','orange','purple', 'red'], s=50, marker='x', sharex=False, ax=ax)"
   ]
  },
  {
   "cell_type": "markdown",
   "metadata": {},
   "source": [
    "1st approach the user chooses some recipes and we should recommend him more recipes from the same cluster.  This way we do not change the actual clusters, but we want to collect ratings for the given recipes."
   ]
  },
  {
   "cell_type": "markdown",
   "metadata": {},
   "source": [
    "1) Scale data that we already have"
   ]
  },
  {
   "cell_type": "code",
   "execution_count": 552,
   "metadata": {},
   "outputs": [
    {
     "data": {
      "text/plain": [
       "<matplotlib.collections.PathCollection at 0x2336b8b3bb0>"
      ]
     },
     "execution_count": 552,
     "metadata": {},
     "output_type": "execute_result"
    },
    {
     "data": {
      "image/png": "[encoded data removed]",
      "text/plain": [
       "<Figure size 432x288 with 1 Axes>"
      ]
     },
     "metadata": {
      "needs_background": "light"
     },
     "output_type": "display_data"
    }
   ],
   "source": [
    "scaler = MinMaxScaler()\n",
    "X_km[['calories', 'total_min']] = scaler.fit_transform(X_km[['calories', 'total_min']])\n",
    "plt.scatter(X_km.calories, X_km.total_min)"
   ]
  },
  {
   "cell_type": "code",
   "execution_count": 553,
   "metadata": {},
   "outputs": [
    {
     "data": {
      "text/html": [
       "<div>\n",
       "<style scoped>\n",
       "    .dataframe tbody tr th:only-of-type {\n",
       "        vertical-align: middle;\n",
       "    }\n",
       "\n",
       "    .dataframe tbody tr th {\n",
       "        vertical-align: top;\n",
       "    }\n",
       "\n",
       "    .dataframe thead th {\n",
       "        text-align: right;\n",
       "    }\n",
       "</style>\n",
       "<table border=\"1\" class=\"dataframe\">\n",
       "  <thead>\n",
       "    <tr style=\"text-align: right;\">\n",
       "      <th></th>\n",
       "      <th>recipe_id</th>\n",
       "      <th>calories</th>\n",
       "      <th>total_min</th>\n",
       "      <th>rating_outOf_5</th>\n",
       "      <th>healthy</th>\n",
       "      <th>cluster</th>\n",
       "    </tr>\n",
       "  </thead>\n",
       "  <tbody>\n",
       "    <tr>\n",
       "      <th>0</th>\n",
       "      <td>214</td>\n",
       "      <td>0.498320</td>\n",
       "      <td>0.745455</td>\n",
       "      <td>3.0</td>\n",
       "      <td>False</td>\n",
       "      <td>2</td>\n",
       "    </tr>\n",
       "    <tr>\n",
       "      <th>1</th>\n",
       "      <td>215</td>\n",
       "      <td>0.241593</td>\n",
       "      <td>0.152273</td>\n",
       "      <td>3.0</td>\n",
       "      <td>False</td>\n",
       "      <td>1</td>\n",
       "    </tr>\n",
       "    <tr>\n",
       "      <th>2</th>\n",
       "      <td>216</td>\n",
       "      <td>0.234822</td>\n",
       "      <td>0.029545</td>\n",
       "      <td>3.0</td>\n",
       "      <td>False</td>\n",
       "      <td>1</td>\n",
       "    </tr>\n",
       "    <tr>\n",
       "      <th>3</th>\n",
       "      <td>217</td>\n",
       "      <td>0.139933</td>\n",
       "      <td>0.011364</td>\n",
       "      <td>3.0</td>\n",
       "      <td>False</td>\n",
       "      <td>1</td>\n",
       "    </tr>\n",
       "    <tr>\n",
       "      <th>4</th>\n",
       "      <td>218</td>\n",
       "      <td>0.344812</td>\n",
       "      <td>0.022727</td>\n",
       "      <td>3.0</td>\n",
       "      <td>False</td>\n",
       "      <td>3</td>\n",
       "    </tr>\n",
       "    <tr>\n",
       "      <th>...</th>\n",
       "      <td>...</td>\n",
       "      <td>...</td>\n",
       "      <td>...</td>\n",
       "      <td>...</td>\n",
       "      <td>...</td>\n",
       "      <td>...</td>\n",
       "    </tr>\n",
       "    <tr>\n",
       "      <th>872</th>\n",
       "      <td>1426</td>\n",
       "      <td>0.343783</td>\n",
       "      <td>0.034091</td>\n",
       "      <td>3.0</td>\n",
       "      <td>False</td>\n",
       "      <td>3</td>\n",
       "    </tr>\n",
       "    <tr>\n",
       "      <th>873</th>\n",
       "      <td>1427</td>\n",
       "      <td>0.463543</td>\n",
       "      <td>0.045455</td>\n",
       "      <td>3.0</td>\n",
       "      <td>False</td>\n",
       "      <td>3</td>\n",
       "    </tr>\n",
       "    <tr>\n",
       "      <th>874</th>\n",
       "      <td>1428</td>\n",
       "      <td>0.527990</td>\n",
       "      <td>0.022727</td>\n",
       "      <td>3.0</td>\n",
       "      <td>False</td>\n",
       "      <td>3</td>\n",
       "    </tr>\n",
       "    <tr>\n",
       "      <th>876</th>\n",
       "      <td>1432</td>\n",
       "      <td>0.717613</td>\n",
       "      <td>0.045455</td>\n",
       "      <td>3.0</td>\n",
       "      <td>False</td>\n",
       "      <td>0</td>\n",
       "    </tr>\n",
       "    <tr>\n",
       "      <th>877</th>\n",
       "      <td>1436</td>\n",
       "      <td>0.722858</td>\n",
       "      <td>0.000000</td>\n",
       "      <td>3.0</td>\n",
       "      <td>True</td>\n",
       "      <td>0</td>\n",
       "    </tr>\n",
       "  </tbody>\n",
       "</table>\n",
       "<p>736 rows × 6 columns</p>\n",
       "</div>"
      ],
      "text/plain": [
       "     recipe_id  calories  total_min  rating_outOf_5  healthy  cluster\n",
       "0          214  0.498320   0.745455             3.0    False        2\n",
       "1          215  0.241593   0.152273             3.0    False        1\n",
       "2          216  0.234822   0.029545             3.0    False        1\n",
       "3          217  0.139933   0.011364             3.0    False        1\n",
       "4          218  0.344812   0.022727             3.0    False        3\n",
       "..         ...       ...        ...             ...      ...      ...\n",
       "872       1426  0.343783   0.034091             3.0    False        3\n",
       "873       1427  0.463543   0.045455             3.0    False        3\n",
       "874       1428  0.527990   0.022727             3.0    False        3\n",
       "876       1432  0.717613   0.045455             3.0    False        0\n",
       "877       1436  0.722858   0.000000             3.0     True        0\n",
       "\n",
       "[736 rows x 6 columns]"
      ]
     },
     "execution_count": 553,
     "metadata": {},
     "output_type": "execute_result"
    }
   ],
   "source": [
    "km = KMeans(n_clusters = 4)\n",
    "y_predicted = km.fit_predict(X_km[['calories', 'total_min']])\n",
    "X_km['cluster'] = y_predicted\n",
    "X_km"
   ]
  },
  {
   "cell_type": "code",
   "execution_count": 554,
   "metadata": {},
   "outputs": [
    {
     "data": {
      "text/plain": [
       "array([[0.71825082, 0.13674018],\n",
       "       [0.14784152, 0.05805959],\n",
       "       [0.33176544, 0.60473752],\n",
       "       [0.40758356, 0.10033474]])"
      ]
     },
     "execution_count": 554,
     "metadata": {},
     "output_type": "execute_result"
    }
   ],
   "source": [
    "km.cluster_centers_"
   ]
  },
  {
   "cell_type": "code",
   "execution_count": 555,
   "metadata": {},
   "outputs": [
    {
     "data": {
      "text/plain": [
       "<matplotlib.legend.Legend at 0x2336b910b50>"
      ]
     },
     "execution_count": 555,
     "metadata": {},
     "output_type": "execute_result"
    },
    {
     "data": {
      "image/png": "[encoded data removed]",
      "text/plain": [
       "<Figure size 432x288 with 1 Axes>"
      ]
     },
     "metadata": {
      "needs_background": "light"
     },
     "output_type": "display_data"
    }
   ],
   "source": [
    "df1 = X_km[X_km.cluster==0]\n",
    "df2 = X_km[X_km.cluster==1]\n",
    "df3 = X_km[X_km.cluster==2]\n",
    "df4 = X_km[X_km.cluster==3]\n",
    "plt.scatter(df1.calories, df1.total_min, color='purple')\n",
    "plt.scatter(df2.calories, df2.total_min, color='orange')\n",
    "plt.scatter(df3.calories, df3.total_min, color='green')\n",
    "plt.scatter(df4.calories, df4.total_min, color='red')\n",
    "plt.scatter(km.cluster_centers_[:,0],km.cluster_centers_[:,1],color='black',marker='x',label='centroid')\n",
    "plt.legend()"
   ]
  },
  {
   "cell_type": "code",
   "execution_count": 556,
   "metadata": {},
   "outputs": [
    {
     "name": "stdout",
     "output_type": "stream",
     "text": [
      "[544, 526, 1175, 813, 611, 435, 536, 627, 1036, 688]\n",
      "[0, 0, 0, 1, 0, 1, 2, 0, 0, 1]\n",
      "0\n"
     ]
    },
    {
     "data": {
      "text/html": [
       "<div>\n",
       "<style scoped>\n",
       "    .dataframe tbody tr th:only-of-type {\n",
       "        vertical-align: middle;\n",
       "    }\n",
       "\n",
       "    .dataframe tbody tr th {\n",
       "        vertical-align: top;\n",
       "    }\n",
       "\n",
       "    .dataframe thead th {\n",
       "        text-align: right;\n",
       "    }\n",
       "</style>\n",
       "<table border=\"1\" class=\"dataframe\">\n",
       "  <thead>\n",
       "    <tr style=\"text-align: right;\">\n",
       "      <th></th>\n",
       "      <th>recipe_id</th>\n",
       "      <th>protein</th>\n",
       "      <th>carbo</th>\n",
       "      <th>total_fat</th>\n",
       "      <th>cholestrl</th>\n",
       "      <th>sodium</th>\n",
       "      <th>calories</th>\n",
       "      <th>healthy</th>\n",
       "      <th>title</th>\n",
       "      <th>total_min</th>\n",
       "      <th>rating_outOf_5</th>\n",
       "    </tr>\n",
       "  </thead>\n",
       "  <tbody>\n",
       "    <tr>\n",
       "      <th>245</th>\n",
       "      <td>568</td>\n",
       "      <td>14.12</td>\n",
       "      <td>62.12</td>\n",
       "      <td>5.20</td>\n",
       "      <td>14.46</td>\n",
       "      <td>498.53</td>\n",
       "      <td>351.75</td>\n",
       "      <td>True</td>\n",
       "      <td>Southwestern Black Beans and Rice</td>\n",
       "      <td>185</td>\n",
       "      <td>3.0</td>\n",
       "    </tr>\n",
       "    <tr>\n",
       "      <th>725</th>\n",
       "      <td>1123</td>\n",
       "      <td>21.91</td>\n",
       "      <td>37.33</td>\n",
       "      <td>9.34</td>\n",
       "      <td>93.22</td>\n",
       "      <td>104.81</td>\n",
       "      <td>321.02</td>\n",
       "      <td>True</td>\n",
       "      <td>Pacific Chicken, Shrimp and Kiwifruit Kabobs</td>\n",
       "      <td>153</td>\n",
       "      <td>3.0</td>\n",
       "    </tr>\n",
       "    <tr>\n",
       "      <th>328</th>\n",
       "      <td>651</td>\n",
       "      <td>22.90</td>\n",
       "      <td>48.94</td>\n",
       "      <td>13.90</td>\n",
       "      <td>23.79</td>\n",
       "      <td>398.09</td>\n",
       "      <td>412.45</td>\n",
       "      <td>True</td>\n",
       "      <td>Mama's Macaroni and Cheese</td>\n",
       "      <td>50</td>\n",
       "      <td>3.0</td>\n",
       "    </tr>\n",
       "    <tr>\n",
       "      <th>206</th>\n",
       "      <td>528</td>\n",
       "      <td>21.66</td>\n",
       "      <td>32.80</td>\n",
       "      <td>15.40</td>\n",
       "      <td>56.87</td>\n",
       "      <td>55.64</td>\n",
       "      <td>356.41</td>\n",
       "      <td>True</td>\n",
       "      <td>Warm Moroccan Potato Lamb Salad</td>\n",
       "      <td>40</td>\n",
       "      <td>3.0</td>\n",
       "    </tr>\n",
       "    <tr>\n",
       "      <th>344</th>\n",
       "      <td>667</td>\n",
       "      <td>13.39</td>\n",
       "      <td>70.48</td>\n",
       "      <td>6.89</td>\n",
       "      <td>6.56</td>\n",
       "      <td>560.76</td>\n",
       "      <td>397.52</td>\n",
       "      <td>True</td>\n",
       "      <td>Bake Mine Vegetarian</td>\n",
       "      <td>110</td>\n",
       "      <td>3.0</td>\n",
       "    </tr>\n",
       "    <tr>\n",
       "      <th>305</th>\n",
       "      <td>628</td>\n",
       "      <td>23.55</td>\n",
       "      <td>37.89</td>\n",
       "      <td>11.48</td>\n",
       "      <td>258.88</td>\n",
       "      <td>352.13</td>\n",
       "      <td>349.06</td>\n",
       "      <td>True</td>\n",
       "      <td>Pasta-Veggie Scramble</td>\n",
       "      <td>20</td>\n",
       "      <td>3.0</td>\n",
       "    </tr>\n",
       "    <tr>\n",
       "      <th>729</th>\n",
       "      <td>1127</td>\n",
       "      <td>24.27</td>\n",
       "      <td>64.20</td>\n",
       "      <td>7.91</td>\n",
       "      <td>117.96</td>\n",
       "      <td>578.67</td>\n",
       "      <td>425.12</td>\n",
       "      <td>True</td>\n",
       "      <td>Shrimp-Stuffed Shells</td>\n",
       "      <td>150</td>\n",
       "      <td>3.0</td>\n",
       "    </tr>\n",
       "    <tr>\n",
       "      <th>743</th>\n",
       "      <td>1141</td>\n",
       "      <td>23.03</td>\n",
       "      <td>65.83</td>\n",
       "      <td>15.69</td>\n",
       "      <td>30.19</td>\n",
       "      <td>1171.97</td>\n",
       "      <td>496.65</td>\n",
       "      <td>False</td>\n",
       "      <td>Risotto Con Frutti Di Mare</td>\n",
       "      <td>56</td>\n",
       "      <td>3.0</td>\n",
       "    </tr>\n",
       "    <tr>\n",
       "      <th>257</th>\n",
       "      <td>580</td>\n",
       "      <td>33.71</td>\n",
       "      <td>27.86</td>\n",
       "      <td>16.55</td>\n",
       "      <td>112.39</td>\n",
       "      <td>280.68</td>\n",
       "      <td>395.24</td>\n",
       "      <td>False</td>\n",
       "      <td>Sweet'N'Sour Pot Roast with Pears</td>\n",
       "      <td>160</td>\n",
       "      <td>3.0</td>\n",
       "    </tr>\n",
       "    <tr>\n",
       "      <th>795</th>\n",
       "      <td>1194</td>\n",
       "      <td>25.09</td>\n",
       "      <td>58.57</td>\n",
       "      <td>1.73</td>\n",
       "      <td>221.52</td>\n",
       "      <td>275.49</td>\n",
       "      <td>350.16</td>\n",
       "      <td>False</td>\n",
       "      <td>Sweet-Sour Shrimp</td>\n",
       "      <td>20</td>\n",
       "      <td>3.0</td>\n",
       "    </tr>\n",
       "  </tbody>\n",
       "</table>\n",
       "</div>"
      ],
      "text/plain": [
       "    recipe_id  protein  carbo  total_fat  cholestrl   sodium  calories  \\\n",
       "245       568    14.12  62.12       5.20      14.46   498.53    351.75   \n",
       "725      1123    21.91  37.33       9.34      93.22   104.81    321.02   \n",
       "328       651    22.90  48.94      13.90      23.79   398.09    412.45   \n",
       "206       528    21.66  32.80      15.40      56.87    55.64    356.41   \n",
       "344       667    13.39  70.48       6.89       6.56   560.76    397.52   \n",
       "305       628    23.55  37.89      11.48     258.88   352.13    349.06   \n",
       "729      1127    24.27  64.20       7.91     117.96   578.67    425.12   \n",
       "743      1141    23.03  65.83      15.69      30.19  1171.97    496.65   \n",
       "257       580    33.71  27.86      16.55     112.39   280.68    395.24   \n",
       "795      1194    25.09  58.57       1.73     221.52   275.49    350.16   \n",
       "\n",
       "    healthy                                           title total_min  \\\n",
       "245    True               Southwestern Black Beans and Rice       185   \n",
       "725    True   Pacific Chicken, Shrimp and Kiwifruit Kabobs        153   \n",
       "328    True                      Mama's Macaroni and Cheese        50   \n",
       "206    True                 Warm Moroccan Potato Lamb Salad        40   \n",
       "344    True                            Bake Mine Vegetarian       110   \n",
       "305    True                           Pasta-Veggie Scramble        20   \n",
       "729    True                           Shrimp-Stuffed Shells       150   \n",
       "743   False                      Risotto Con Frutti Di Mare        56   \n",
       "257   False               Sweet'N'Sour Pot Roast with Pears       160   \n",
       "795   False                               Sweet-Sour Shrimp        20   \n",
       "\n",
       "     rating_outOf_5  \n",
       "245             3.0  \n",
       "725             3.0  \n",
       "328             3.0  \n",
       "206             3.0  \n",
       "344             3.0  \n",
       "305             3.0  \n",
       "729             3.0  \n",
       "743             3.0  \n",
       "257             3.0  \n",
       "795             3.0  "
      ]
     },
     "execution_count": 556,
     "metadata": {},
     "output_type": "execute_result"
    }
   ],
   "source": [
    "list_of_recipeId = X_km['recipe_id'].to_list()\n",
    "#from within this list let`s randomly choose 10 recipes\n",
    "#then calculate what is the most popular cluster from those 10 recipes\n",
    "#and recommend from that one\n",
    "\n",
    "random_10_recipes = random.sample(list_of_recipeId, 10)\n",
    "print(random_10_recipes)\n",
    "#print(random_10_recipes)\n",
    "#These 10 recipes a user chose to cook\n",
    "\n",
    "column_names = X_km.columns\n",
    "#these are the recipes chosen by the user\n",
    "df_recipes_chosen = pd.DataFrame(columns = column_names)\n",
    "for i in random_10_recipes:\n",
    "    df_recipes_chosen = df_recipes_chosen.append(X_km[X_km['recipe_id'] == i], ignore_index=False)\n",
    "clusters = df_recipes_chosen['cluster'].to_list()\n",
    "print(clusters)\n",
    "def most_frequent_cluster(lst):\n",
    "    return max(set(lst), key=lst.count)\n",
    "fav_cluster = most_frequent_cluster(clusters)\n",
    "print(fav_cluster)\n",
    "#recommend 10 recipes from that cluster\n",
    "list_recommendation = X_km[X_km['cluster'] == fav_cluster]\n",
    "#list_recommendation\n",
    "\n",
    "#recommend 70% of healthy recipes if exist\n",
    "list_healthy_recommendation = list_recommendation[list_recommendation['healthy'] == True]\n",
    "list_nonHealthy_recommendation = list_recommendation[list_recommendation['healthy'] == False]\n",
    "\n",
    "healthy_length = len(list_healthy_recommendation)\n",
    "nonHealthy_length = -1\n",
    "\n",
    "if healthy_length > 6:\n",
    "    random_healthy_recipes = list_healthy_recommendation.sample(7)\n",
    "    nonHealthy_length = 3\n",
    "else:\n",
    "    random_healthy_recipes = list_healthy_recommendation.sample(healthy_length)\n",
    "    nonHealthy_length = 10 - healthy_length\n",
    "    \n",
    "random_nonHealthy_recipes = list_nonHealthy_recommendation.sample(nonHealthy_length)\n",
    "\n",
    "frames = [random_healthy_recipes, random_nonHealthy_recipes]\n",
    "df_recommend = pd.concat(frames)\n",
    "list_Ids = df_recommend['recipe_id'].to_list()\n",
    "\n",
    "#Give ratings for the recommended recipes and update X_km table\n",
    "\n",
    "\n",
    "\n",
    "#Recommend recipes from the df_ml table\n",
    "column_nam = df_ml.columns\n",
    "full_recipe_recomm = pd.DataFrame(columns = column_nam)\n",
    "for i in list_Ids:\n",
    "    full_recipe_recomm = full_recipe_recomm.append(df_ml[df_ml['recipe_id'] == i], ignore_index=False)\n",
    "full_recipe_recomm"
   ]
  },
  {
   "cell_type": "code",
   "execution_count": null,
   "metadata": {},
   "outputs": [],
   "source": []
  },
  {
   "cell_type": "code",
   "execution_count": null,
   "metadata": {},
   "outputs": [],
   "source": []
  }
 ],
 "metadata": {
  "kernelspec": {
   "display_name": "Python 3",
   "language": "python",
   "name": "python3"
  },
  "language_info": {
   "codemirror_mode": {
    "name": "ipython",
    "version": 3
   },
   "file_extension": ".py",
   "mimetype": "text/x-python",
   "name": "python",
   "nbconvert_exporter": "python",
   "pygments_lexer": "ipython3",
   "version": "3.8.5"
  }
 },
 "nbformat": 4,
 "nbformat_minor": 4
}
