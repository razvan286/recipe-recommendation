{
 "cells": [
  {
   "cell_type": "markdown",
   "metadata": {},
   "source": [
    " <img src=\"./markdown/reco.jpg\" alt=\"Recommendation system\" style=\"display: block;\n",
    "  margin-left: auto;\n",
    "  margin-right: auto;\n",
    "  width: 80%;height:350px\"> "
   ]
  },
  {
   "cell_type": "markdown",
   "metadata": {},
   "source": [
    "<h1 style=\"text-align:center;font-size:35px;\">Recipe recommendation system</h1>\n",
    "<br>"
   ]
  },
  {
   "cell_type": "markdown",
   "metadata": {},
   "source": [
    "<h1 style=\"font-size:30px;color:#008abc;\">Introduction</h1>"
   ]
  },
  {
   "cell_type": "markdown",
   "metadata": {},
   "source": [
    "#### The goal of this project is to ultimately create a personalized recipe recommendation system that learns from the choice of its users. \n",
    "##### Data source and fields explanation:https://data.world/atlas-query/cookbook\n",
    "\n",
    "\n",
    "##### Due to feasibility limitations, the recommender system will not be able to track users` preferences so that we will come up with a new goal.\n",
    "\n",
    "## Healthy recommender system \n",
    "##### This system will keep track of the ingredients from each recipe, also will keep track of the important and needed intake of nutrients for a healthy nutrition.\n",
    "<br>"
   ]
  },
  {
   "cell_type": "markdown",
   "metadata": {},
   "source": [
    "### Import required Libraries."
   ]
  },
  {
   "cell_type": "code",
   "execution_count": 339,
   "metadata": {},
   "outputs": [],
   "source": [
    "import pandas as pd\n",
    "import numpy as np\n",
    "import matplotlib.pyplot as plt\n",
    "import seaborn as sns\n",
    "from sklearn.cluster import KMeans\n",
    "from sklearn.preprocessing import MinMaxScaler"
   ]
  },
  {
   "cell_type": "markdown",
   "metadata": {},
   "source": [
    "### Load data"
   ]
  },
  {
   "cell_type": "code",
   "execution_count": 340,
   "metadata": {},
   "outputs": [],
   "source": [
    "df_recipe_recommender = pd.read_csv('./exports/recipe_recommender.csv')\n",
    "df_recipe_clean = pd.read_csv('./exports/recipe_clean.csv')\n",
    "df_healthy_nutrients = pd.read_csv('./exports/nutrients_for_health.csv')"
   ]
  },
  {
   "cell_type": "markdown",
   "metadata": {},
   "source": [
    "#### Add a total duration time for each recipe"
   ]
  },
  {
   "cell_type": "code",
   "execution_count": 341,
   "metadata": {},
   "outputs": [
    {
     "data": {
      "text/html": [
       "<div>\n",
       "<style scoped>\n",
       "    .dataframe tbody tr th:only-of-type {\n",
       "        vertical-align: middle;\n",
       "    }\n",
       "\n",
       "    .dataframe tbody tr th {\n",
       "        vertical-align: top;\n",
       "    }\n",
       "\n",
       "    .dataframe thead th {\n",
       "        text-align: right;\n",
       "    }\n",
       "</style>\n",
       "<table border=\"1\" class=\"dataframe\">\n",
       "  <thead>\n",
       "    <tr style=\"text-align: right;\">\n",
       "      <th></th>\n",
       "      <th>recipe_id</th>\n",
       "      <th>title</th>\n",
       "      <th>servings</th>\n",
       "      <th>prep_min</th>\n",
       "      <th>cook_min</th>\n",
       "      <th>stnd_min</th>\n",
       "      <th>directions</th>\n",
       "      <th>total_min</th>\n",
       "    </tr>\n",
       "  </thead>\n",
       "  <tbody>\n",
       "    <tr>\n",
       "      <th>0</th>\n",
       "      <td>214</td>\n",
       "      <td>Raspberry Chiffon Pie</td>\n",
       "      <td>10</td>\n",
       "      <td>20</td>\n",
       "      <td>8</td>\n",
       "      <td>305</td>\n",
       "      <td>For crust, preheat oven to 375 degrees F.\\nIn...</td>\n",
       "      <td>333</td>\n",
       "    </tr>\n",
       "    <tr>\n",
       "      <th>1</th>\n",
       "      <td>215</td>\n",
       "      <td>Apricot Yogurt Parfaits</td>\n",
       "      <td>4</td>\n",
       "      <td>5</td>\n",
       "      <td>2</td>\n",
       "      <td>65</td>\n",
       "      <td>Drain canned apricots, pour 1/4 cup of the ju...</td>\n",
       "      <td>72</td>\n",
       "    </tr>\n",
       "    <tr>\n",
       "      <th>2</th>\n",
       "      <td>216</td>\n",
       "      <td>Fresh Apricot Bavarian</td>\n",
       "      <td>8</td>\n",
       "      <td>5</td>\n",
       "      <td>13</td>\n",
       "      <td>0</td>\n",
       "      <td>Drop apricots into boiling water to cover.  R...</td>\n",
       "      <td>18</td>\n",
       "    </tr>\n",
       "    <tr>\n",
       "      <th>3</th>\n",
       "      <td>217</td>\n",
       "      <td>Fresh Peaches with Banana Cream Whip</td>\n",
       "      <td>4</td>\n",
       "      <td>10</td>\n",
       "      <td>0</td>\n",
       "      <td>0</td>\n",
       "      <td>In a small bowl, beat egg white until foamy. ...</td>\n",
       "      <td>10</td>\n",
       "    </tr>\n",
       "    <tr>\n",
       "      <th>4</th>\n",
       "      <td>218</td>\n",
       "      <td>Canned Cherry Crisp</td>\n",
       "      <td>6</td>\n",
       "      <td>10</td>\n",
       "      <td>5</td>\n",
       "      <td>0</td>\n",
       "      <td>Pour cherry pie filling into an 8-inch, round...</td>\n",
       "      <td>15</td>\n",
       "    </tr>\n",
       "  </tbody>\n",
       "</table>\n",
       "</div>"
      ],
      "text/plain": [
       "   recipe_id                                 title  servings  prep_min  \\\n",
       "0        214                 Raspberry Chiffon Pie        10        20   \n",
       "1        215               Apricot Yogurt Parfaits         4         5   \n",
       "2        216                Fresh Apricot Bavarian         8         5   \n",
       "3        217  Fresh Peaches with Banana Cream Whip         4        10   \n",
       "4        218                   Canned Cherry Crisp         6        10   \n",
       "\n",
       "   cook_min  stnd_min                                         directions  \\\n",
       "0         8       305   For crust, preheat oven to 375 degrees F.\\nIn...   \n",
       "1         2        65   Drain canned apricots, pour 1/4 cup of the ju...   \n",
       "2        13         0   Drop apricots into boiling water to cover.  R...   \n",
       "3         0         0   In a small bowl, beat egg white until foamy. ...   \n",
       "4         5         0   Pour cherry pie filling into an 8-inch, round...   \n",
       "\n",
       "   total_min  \n",
       "0        333  \n",
       "1         72  \n",
       "2         18  \n",
       "3         10  \n",
       "4         15  "
      ]
     },
     "execution_count": 341,
     "metadata": {},
     "output_type": "execute_result"
    }
   ],
   "source": [
    "df_recipe_clean['total_min'] = df_recipe_clean['prep_min'] + df_recipe_clean['cook_min'] + df_recipe_clean['stnd_min']\n",
    "df_recipe_clean.head()"
   ]
  },
  {
   "cell_type": "code",
   "execution_count": 342,
   "metadata": {},
   "outputs": [],
   "source": [
    "df_ml_recipe = df_recipe_clean.drop(['servings','directions','prep_min', 'cook_min', 'stnd_min'], axis=1)"
   ]
  },
  {
   "cell_type": "code",
   "execution_count": 343,
   "metadata": {},
   "outputs": [
    {
     "data": {
      "text/html": [
       "<div>\n",
       "<style scoped>\n",
       "    .dataframe tbody tr th:only-of-type {\n",
       "        vertical-align: middle;\n",
       "    }\n",
       "\n",
       "    .dataframe tbody tr th {\n",
       "        vertical-align: top;\n",
       "    }\n",
       "\n",
       "    .dataframe thead th {\n",
       "        text-align: right;\n",
       "    }\n",
       "</style>\n",
       "<table border=\"1\" class=\"dataframe\">\n",
       "  <thead>\n",
       "    <tr style=\"text-align: right;\">\n",
       "      <th></th>\n",
       "      <th>recipe_id</th>\n",
       "      <th>title</th>\n",
       "      <th>total_min</th>\n",
       "      <th>rating_outOf_5</th>\n",
       "    </tr>\n",
       "  </thead>\n",
       "  <tbody>\n",
       "    <tr>\n",
       "      <th>0</th>\n",
       "      <td>214</td>\n",
       "      <td>Raspberry Chiffon Pie</td>\n",
       "      <td>333</td>\n",
       "      <td>3</td>\n",
       "    </tr>\n",
       "    <tr>\n",
       "      <th>1</th>\n",
       "      <td>215</td>\n",
       "      <td>Apricot Yogurt Parfaits</td>\n",
       "      <td>72</td>\n",
       "      <td>3</td>\n",
       "    </tr>\n",
       "    <tr>\n",
       "      <th>2</th>\n",
       "      <td>216</td>\n",
       "      <td>Fresh Apricot Bavarian</td>\n",
       "      <td>18</td>\n",
       "      <td>3</td>\n",
       "    </tr>\n",
       "    <tr>\n",
       "      <th>3</th>\n",
       "      <td>217</td>\n",
       "      <td>Fresh Peaches with Banana Cream Whip</td>\n",
       "      <td>10</td>\n",
       "      <td>3</td>\n",
       "    </tr>\n",
       "    <tr>\n",
       "      <th>4</th>\n",
       "      <td>218</td>\n",
       "      <td>Canned Cherry Crisp</td>\n",
       "      <td>15</td>\n",
       "      <td>3</td>\n",
       "    </tr>\n",
       "    <tr>\n",
       "      <th>...</th>\n",
       "      <td>...</td>\n",
       "      <td>...</td>\n",
       "      <td>...</td>\n",
       "      <td>...</td>\n",
       "    </tr>\n",
       "    <tr>\n",
       "      <th>873</th>\n",
       "      <td>1410</td>\n",
       "      <td>No-Bake Chocolate Cheesecake</td>\n",
       "      <td>150</td>\n",
       "      <td>3</td>\n",
       "    </tr>\n",
       "    <tr>\n",
       "      <th>874</th>\n",
       "      <td>1411</td>\n",
       "      <td>Mexican Cocoa Torte</td>\n",
       "      <td>222</td>\n",
       "      <td>3</td>\n",
       "    </tr>\n",
       "    <tr>\n",
       "      <th>875</th>\n",
       "      <td>1426</td>\n",
       "      <td>-Pancakes-</td>\n",
       "      <td>20</td>\n",
       "      <td>3</td>\n",
       "    </tr>\n",
       "    <tr>\n",
       "      <th>876</th>\n",
       "      <td>1427</td>\n",
       "      <td>-Waffles-</td>\n",
       "      <td>25</td>\n",
       "      <td>3</td>\n",
       "    </tr>\n",
       "    <tr>\n",
       "      <th>877</th>\n",
       "      <td>1432</td>\n",
       "      <td>Curried Chicken Livers Topped Spud</td>\n",
       "      <td>25</td>\n",
       "      <td>3</td>\n",
       "    </tr>\n",
       "  </tbody>\n",
       "</table>\n",
       "<p>878 rows × 4 columns</p>\n",
       "</div>"
      ],
      "text/plain": [
       "     recipe_id                                 title  total_min  \\\n",
       "0          214                 Raspberry Chiffon Pie        333   \n",
       "1          215               Apricot Yogurt Parfaits         72   \n",
       "2          216                Fresh Apricot Bavarian         18   \n",
       "3          217  Fresh Peaches with Banana Cream Whip         10   \n",
       "4          218                   Canned Cherry Crisp         15   \n",
       "..         ...                                   ...        ...   \n",
       "873       1410          No-Bake Chocolate Cheesecake        150   \n",
       "874       1411                   Mexican Cocoa Torte        222   \n",
       "875       1426                            -Pancakes-         20   \n",
       "876       1427                             -Waffles-         25   \n",
       "877       1432    Curried Chicken Livers Topped Spud         25   \n",
       "\n",
       "     rating_outOf_5  \n",
       "0                 3  \n",
       "1                 3  \n",
       "2                 3  \n",
       "3                 3  \n",
       "4                 3  \n",
       "..              ...  \n",
       "873               3  \n",
       "874               3  \n",
       "875               3  \n",
       "876               3  \n",
       "877               3  \n",
       "\n",
       "[878 rows x 4 columns]"
      ]
     },
     "execution_count": 343,
     "metadata": {},
     "output_type": "execute_result"
    }
   ],
   "source": [
    "df_ml_recipe['rating_outOf_5'] = 3\n",
    "df_ml_recipe"
   ]
  },
  {
   "cell_type": "markdown",
   "metadata": {},
   "source": [
    "### Make healthy recipes"
   ]
  },
  {
   "cell_type": "code",
   "execution_count": 344,
   "metadata": {},
   "outputs": [
    {
     "data": {
      "text/plain": [
       "(878, 8)"
      ]
     },
     "execution_count": 344,
     "metadata": {},
     "output_type": "execute_result"
    }
   ],
   "source": [
    "df_healthy_nutrients['healthy'] = False\n",
    "df_healthy_nutrients.shape"
   ]
  },
  {
   "cell_type": "code",
   "execution_count": 345,
   "metadata": {},
   "outputs": [
    {
     "data": {
      "text/html": [
       "<div>\n",
       "<style scoped>\n",
       "    .dataframe tbody tr th:only-of-type {\n",
       "        vertical-align: middle;\n",
       "    }\n",
       "\n",
       "    .dataframe tbody tr th {\n",
       "        vertical-align: top;\n",
       "    }\n",
       "\n",
       "    .dataframe thead th {\n",
       "        text-align: right;\n",
       "    }\n",
       "</style>\n",
       "<table border=\"1\" class=\"dataframe\">\n",
       "  <thead>\n",
       "    <tr style=\"text-align: right;\">\n",
       "      <th></th>\n",
       "      <th>recipe_id</th>\n",
       "      <th>protein</th>\n",
       "      <th>carbo</th>\n",
       "      <th>total_fat</th>\n",
       "      <th>cholestrl</th>\n",
       "      <th>sodium</th>\n",
       "      <th>calories</th>\n",
       "      <th>healthy</th>\n",
       "      <th>rating_outOf_5</th>\n",
       "    </tr>\n",
       "  </thead>\n",
       "  <tbody>\n",
       "    <tr>\n",
       "      <th>0</th>\n",
       "      <td>214</td>\n",
       "      <td>5.47</td>\n",
       "      <td>41.29</td>\n",
       "      <td>11.53</td>\n",
       "      <td>1.39</td>\n",
       "      <td>260.78</td>\n",
       "      <td>290.79</td>\n",
       "      <td>False</td>\n",
       "      <td>3</td>\n",
       "    </tr>\n",
       "    <tr>\n",
       "      <th>1</th>\n",
       "      <td>215</td>\n",
       "      <td>5.70</td>\n",
       "      <td>23.75</td>\n",
       "      <td>1.08</td>\n",
       "      <td>3.48</td>\n",
       "      <td>46.17</td>\n",
       "      <td>141.01</td>\n",
       "      <td>False</td>\n",
       "      <td>3</td>\n",
       "    </tr>\n",
       "    <tr>\n",
       "      <th>2</th>\n",
       "      <td>216</td>\n",
       "      <td>4.90</td>\n",
       "      <td>26.88</td>\n",
       "      <td>1.10</td>\n",
       "      <td>3.46</td>\n",
       "      <td>41.79</td>\n",
       "      <td>137.06</td>\n",
       "      <td>False</td>\n",
       "      <td>3</td>\n",
       "    </tr>\n",
       "    <tr>\n",
       "      <th>3</th>\n",
       "      <td>217</td>\n",
       "      <td>1.77</td>\n",
       "      <td>18.17</td>\n",
       "      <td>0.21</td>\n",
       "      <td>0.00</td>\n",
       "      <td>14.01</td>\n",
       "      <td>81.70</td>\n",
       "      <td>False</td>\n",
       "      <td>3</td>\n",
       "    </tr>\n",
       "    <tr>\n",
       "      <th>4</th>\n",
       "      <td>218</td>\n",
       "      <td>1.38</td>\n",
       "      <td>36.63</td>\n",
       "      <td>5.47</td>\n",
       "      <td>10.36</td>\n",
       "      <td>50.22</td>\n",
       "      <td>201.23</td>\n",
       "      <td>False</td>\n",
       "      <td>3</td>\n",
       "    </tr>\n",
       "    <tr>\n",
       "      <th>...</th>\n",
       "      <td>...</td>\n",
       "      <td>...</td>\n",
       "      <td>...</td>\n",
       "      <td>...</td>\n",
       "      <td>...</td>\n",
       "      <td>...</td>\n",
       "      <td>...</td>\n",
       "      <td>...</td>\n",
       "      <td>...</td>\n",
       "    </tr>\n",
       "    <tr>\n",
       "      <th>873</th>\n",
       "      <td>1427</td>\n",
       "      <td>6.57</td>\n",
       "      <td>30.14</td>\n",
       "      <td>13.74</td>\n",
       "      <td>60.38</td>\n",
       "      <td>173.88</td>\n",
       "      <td>270.50</td>\n",
       "      <td>False</td>\n",
       "      <td>3</td>\n",
       "    </tr>\n",
       "    <tr>\n",
       "      <th>874</th>\n",
       "      <td>1428</td>\n",
       "      <td>9.13</td>\n",
       "      <td>29.91</td>\n",
       "      <td>16.88</td>\n",
       "      <td>144.36</td>\n",
       "      <td>458.80</td>\n",
       "      <td>308.10</td>\n",
       "      <td>False</td>\n",
       "      <td>3</td>\n",
       "    </tr>\n",
       "    <tr>\n",
       "      <th>875</th>\n",
       "      <td>1429</td>\n",
       "      <td>1.35</td>\n",
       "      <td>3.13</td>\n",
       "      <td>0.26</td>\n",
       "      <td>0.00</td>\n",
       "      <td>15.34</td>\n",
       "      <td>20.31</td>\n",
       "      <td>False</td>\n",
       "      <td>3</td>\n",
       "    </tr>\n",
       "    <tr>\n",
       "      <th>876</th>\n",
       "      <td>1432</td>\n",
       "      <td>23.04</td>\n",
       "      <td>60.78</td>\n",
       "      <td>9.27</td>\n",
       "      <td>430.09</td>\n",
       "      <td>1075.80</td>\n",
       "      <td>418.73</td>\n",
       "      <td>False</td>\n",
       "      <td>3</td>\n",
       "    </tr>\n",
       "    <tr>\n",
       "      <th>877</th>\n",
       "      <td>1436</td>\n",
       "      <td>17.13</td>\n",
       "      <td>45.05</td>\n",
       "      <td>19.23</td>\n",
       "      <td>9.76</td>\n",
       "      <td>131.73</td>\n",
       "      <td>421.79</td>\n",
       "      <td>True</td>\n",
       "      <td>5</td>\n",
       "    </tr>\n",
       "  </tbody>\n",
       "</table>\n",
       "<p>878 rows × 9 columns</p>\n",
       "</div>"
      ],
      "text/plain": [
       "     recipe_id  protein  carbo  total_fat  cholestrl   sodium  calories  \\\n",
       "0          214     5.47  41.29      11.53       1.39   260.78    290.79   \n",
       "1          215     5.70  23.75       1.08       3.48    46.17    141.01   \n",
       "2          216     4.90  26.88       1.10       3.46    41.79    137.06   \n",
       "3          217     1.77  18.17       0.21       0.00    14.01     81.70   \n",
       "4          218     1.38  36.63       5.47      10.36    50.22    201.23   \n",
       "..         ...      ...    ...        ...        ...      ...       ...   \n",
       "873       1427     6.57  30.14      13.74      60.38   173.88    270.50   \n",
       "874       1428     9.13  29.91      16.88     144.36   458.80    308.10   \n",
       "875       1429     1.35   3.13       0.26       0.00    15.34     20.31   \n",
       "876       1432    23.04  60.78       9.27     430.09  1075.80    418.73   \n",
       "877       1436    17.13  45.05      19.23       9.76   131.73    421.79   \n",
       "\n",
       "     healthy  rating_outOf_5  \n",
       "0      False               3  \n",
       "1      False               3  \n",
       "2      False               3  \n",
       "3      False               3  \n",
       "4      False               3  \n",
       "..       ...             ...  \n",
       "873    False               3  \n",
       "874    False               3  \n",
       "875    False               3  \n",
       "876    False               3  \n",
       "877     True               5  \n",
       "\n",
       "[878 rows x 9 columns]"
      ]
     },
     "execution_count": 345,
     "metadata": {},
     "output_type": "execute_result"
    }
   ],
   "source": [
    "df_copy = df_healthy_nutrients.copy()\n",
    "for index, row in df_healthy_nutrients.iterrows():\n",
    "    if (row['protein'] >= 10 and row['protein'] <= 25) and (row['total_fat'] >= 0 and row['total_fat'] <=25) and (row['calories'] >= 200 and row['calories'] <= 500) and (row['carbo'] >= 5 and row['carbo'] <= 100) and (row['sodium']>= 0 and row['sodium']<=800):\n",
    "        df_copy.loc[index, 'healthy'] = True\n",
    "df_copy['rating_outOf_5'] = np.where(df_copy['healthy'] == True,\n",
    "                                    5,\n",
    "                                    3)\n",
    "df_copy"
   ]
  },
  {
   "cell_type": "code",
   "execution_count": 356,
   "metadata": {},
   "outputs": [
    {
     "data": {
      "text/html": [
       "<div>\n",
       "<style scoped>\n",
       "    .dataframe tbody tr th:only-of-type {\n",
       "        vertical-align: middle;\n",
       "    }\n",
       "\n",
       "    .dataframe tbody tr th {\n",
       "        vertical-align: top;\n",
       "    }\n",
       "\n",
       "    .dataframe thead th {\n",
       "        text-align: right;\n",
       "    }\n",
       "</style>\n",
       "<table border=\"1\" class=\"dataframe\">\n",
       "  <thead>\n",
       "    <tr style=\"text-align: right;\">\n",
       "      <th></th>\n",
       "      <th>recipe_id</th>\n",
       "      <th>protein</th>\n",
       "      <th>carbo</th>\n",
       "      <th>total_fat</th>\n",
       "      <th>cholestrl</th>\n",
       "      <th>sodium</th>\n",
       "      <th>calories</th>\n",
       "      <th>healthy</th>\n",
       "      <th>rating_outOf_5_x</th>\n",
       "      <th>title</th>\n",
       "      <th>total_min</th>\n",
       "      <th>rating_outOf_5_y</th>\n",
       "    </tr>\n",
       "  </thead>\n",
       "  <tbody>\n",
       "    <tr>\n",
       "      <th>0</th>\n",
       "      <td>214</td>\n",
       "      <td>5.47</td>\n",
       "      <td>41.29</td>\n",
       "      <td>11.53</td>\n",
       "      <td>1.39</td>\n",
       "      <td>260.78</td>\n",
       "      <td>290.79</td>\n",
       "      <td>False</td>\n",
       "      <td>3</td>\n",
       "      <td>Raspberry Chiffon Pie</td>\n",
       "      <td>333</td>\n",
       "      <td>3</td>\n",
       "    </tr>\n",
       "    <tr>\n",
       "      <th>1</th>\n",
       "      <td>215</td>\n",
       "      <td>5.70</td>\n",
       "      <td>23.75</td>\n",
       "      <td>1.08</td>\n",
       "      <td>3.48</td>\n",
       "      <td>46.17</td>\n",
       "      <td>141.01</td>\n",
       "      <td>False</td>\n",
       "      <td>3</td>\n",
       "      <td>Apricot Yogurt Parfaits</td>\n",
       "      <td>72</td>\n",
       "      <td>3</td>\n",
       "    </tr>\n",
       "    <tr>\n",
       "      <th>2</th>\n",
       "      <td>216</td>\n",
       "      <td>4.90</td>\n",
       "      <td>26.88</td>\n",
       "      <td>1.10</td>\n",
       "      <td>3.46</td>\n",
       "      <td>41.79</td>\n",
       "      <td>137.06</td>\n",
       "      <td>False</td>\n",
       "      <td>3</td>\n",
       "      <td>Fresh Apricot Bavarian</td>\n",
       "      <td>18</td>\n",
       "      <td>3</td>\n",
       "    </tr>\n",
       "    <tr>\n",
       "      <th>3</th>\n",
       "      <td>217</td>\n",
       "      <td>1.77</td>\n",
       "      <td>18.17</td>\n",
       "      <td>0.21</td>\n",
       "      <td>0.00</td>\n",
       "      <td>14.01</td>\n",
       "      <td>81.70</td>\n",
       "      <td>False</td>\n",
       "      <td>3</td>\n",
       "      <td>Fresh Peaches with Banana Cream Whip</td>\n",
       "      <td>10</td>\n",
       "      <td>3</td>\n",
       "    </tr>\n",
       "    <tr>\n",
       "      <th>4</th>\n",
       "      <td>218</td>\n",
       "      <td>1.38</td>\n",
       "      <td>36.63</td>\n",
       "      <td>5.47</td>\n",
       "      <td>10.36</td>\n",
       "      <td>50.22</td>\n",
       "      <td>201.23</td>\n",
       "      <td>False</td>\n",
       "      <td>3</td>\n",
       "      <td>Canned Cherry Crisp</td>\n",
       "      <td>15</td>\n",
       "      <td>3</td>\n",
       "    </tr>\n",
       "    <tr>\n",
       "      <th>...</th>\n",
       "      <td>...</td>\n",
       "      <td>...</td>\n",
       "      <td>...</td>\n",
       "      <td>...</td>\n",
       "      <td>...</td>\n",
       "      <td>...</td>\n",
       "      <td>...</td>\n",
       "      <td>...</td>\n",
       "      <td>...</td>\n",
       "      <td>...</td>\n",
       "      <td>...</td>\n",
       "      <td>...</td>\n",
       "    </tr>\n",
       "    <tr>\n",
       "      <th>873</th>\n",
       "      <td>1427</td>\n",
       "      <td>6.57</td>\n",
       "      <td>30.14</td>\n",
       "      <td>13.74</td>\n",
       "      <td>60.38</td>\n",
       "      <td>173.88</td>\n",
       "      <td>270.50</td>\n",
       "      <td>False</td>\n",
       "      <td>3</td>\n",
       "      <td>-Waffles-</td>\n",
       "      <td>25</td>\n",
       "      <td>3</td>\n",
       "    </tr>\n",
       "    <tr>\n",
       "      <th>874</th>\n",
       "      <td>1428</td>\n",
       "      <td>9.13</td>\n",
       "      <td>29.91</td>\n",
       "      <td>16.88</td>\n",
       "      <td>144.36</td>\n",
       "      <td>458.80</td>\n",
       "      <td>308.10</td>\n",
       "      <td>False</td>\n",
       "      <td>3</td>\n",
       "      <td>-French Toast-</td>\n",
       "      <td>15</td>\n",
       "      <td>3</td>\n",
       "    </tr>\n",
       "    <tr>\n",
       "      <th>875</th>\n",
       "      <td>1429</td>\n",
       "      <td>1.35</td>\n",
       "      <td>3.13</td>\n",
       "      <td>0.26</td>\n",
       "      <td>0.00</td>\n",
       "      <td>15.34</td>\n",
       "      <td>20.31</td>\n",
       "      <td>False</td>\n",
       "      <td>3</td>\n",
       "      <td>-Mixed Green Salad-</td>\n",
       "      <td>0</td>\n",
       "      <td>3</td>\n",
       "    </tr>\n",
       "    <tr>\n",
       "      <th>876</th>\n",
       "      <td>1432</td>\n",
       "      <td>23.04</td>\n",
       "      <td>60.78</td>\n",
       "      <td>9.27</td>\n",
       "      <td>430.09</td>\n",
       "      <td>1075.80</td>\n",
       "      <td>418.73</td>\n",
       "      <td>False</td>\n",
       "      <td>3</td>\n",
       "      <td>Curried Chicken Livers Topped Spud</td>\n",
       "      <td>25</td>\n",
       "      <td>3</td>\n",
       "    </tr>\n",
       "    <tr>\n",
       "      <th>877</th>\n",
       "      <td>1436</td>\n",
       "      <td>17.13</td>\n",
       "      <td>45.05</td>\n",
       "      <td>19.23</td>\n",
       "      <td>9.76</td>\n",
       "      <td>131.73</td>\n",
       "      <td>421.79</td>\n",
       "      <td>True</td>\n",
       "      <td>5</td>\n",
       "      <td>T.B.P.B. Smoothie</td>\n",
       "      <td>5</td>\n",
       "      <td>3</td>\n",
       "    </tr>\n",
       "  </tbody>\n",
       "</table>\n",
       "<p>878 rows × 12 columns</p>\n",
       "</div>"
      ],
      "text/plain": [
       "     recipe_id  protein  carbo  total_fat  cholestrl   sodium  calories  \\\n",
       "0          214     5.47  41.29      11.53       1.39   260.78    290.79   \n",
       "1          215     5.70  23.75       1.08       3.48    46.17    141.01   \n",
       "2          216     4.90  26.88       1.10       3.46    41.79    137.06   \n",
       "3          217     1.77  18.17       0.21       0.00    14.01     81.70   \n",
       "4          218     1.38  36.63       5.47      10.36    50.22    201.23   \n",
       "..         ...      ...    ...        ...        ...      ...       ...   \n",
       "873       1427     6.57  30.14      13.74      60.38   173.88    270.50   \n",
       "874       1428     9.13  29.91      16.88     144.36   458.80    308.10   \n",
       "875       1429     1.35   3.13       0.26       0.00    15.34     20.31   \n",
       "876       1432    23.04  60.78       9.27     430.09  1075.80    418.73   \n",
       "877       1436    17.13  45.05      19.23       9.76   131.73    421.79   \n",
       "\n",
       "     healthy  rating_outOf_5_x                                 title  \\\n",
       "0      False                 3                 Raspberry Chiffon Pie   \n",
       "1      False                 3               Apricot Yogurt Parfaits   \n",
       "2      False                 3                Fresh Apricot Bavarian   \n",
       "3      False                 3  Fresh Peaches with Banana Cream Whip   \n",
       "4      False                 3                   Canned Cherry Crisp   \n",
       "..       ...               ...                                   ...   \n",
       "873    False                 3                             -Waffles-   \n",
       "874    False                 3                        -French Toast-   \n",
       "875    False                 3                   -Mixed Green Salad-   \n",
       "876    False                 3    Curried Chicken Livers Topped Spud   \n",
       "877     True                 5                     T.B.P.B. Smoothie   \n",
       "\n",
       "     total_min  rating_outOf_5_y  \n",
       "0          333                 3  \n",
       "1           72                 3  \n",
       "2           18                 3  \n",
       "3           10                 3  \n",
       "4           15                 3  \n",
       "..         ...               ...  \n",
       "873         25                 3  \n",
       "874         15                 3  \n",
       "875          0                 3  \n",
       "876         25                 3  \n",
       "877          5                 3  \n",
       "\n",
       "[878 rows x 12 columns]"
      ]
     },
     "execution_count": 356,
     "metadata": {},
     "output_type": "execute_result"
    }
   ],
   "source": [
    "df_recipe_final = pd.merge(df_copy, df_ml_recipe, on='recipe_id', how='left')\n",
    "df_recipe_final"
   ]
  },
  {
   "cell_type": "markdown",
   "metadata": {},
   "source": [
    "### Search for total-min outliers"
   ]
  },
  {
   "cell_type": "code",
   "execution_count": 347,
   "metadata": {},
   "outputs": [
    {
     "data": {
      "text/plain": [
       "<AxesSubplot:xlabel='total_min'>"
      ]
     },
     "execution_count": 347,
     "metadata": {},
     "output_type": "execute_result"
    },
    {
     "data": {
      "image/png": "[encoded data removed]",
      "text/plain": [
       "<Figure size 432x288 with 1 Axes>"
      ]
     },
     "metadata": {
      "needs_background": "light"
     },
     "output_type": "display_data"
    }
   ],
   "source": [
    "sns.boxplot(x=df_recipe_final['total_min'])"
   ]
  },
  {
   "cell_type": "markdown",
   "metadata": {},
   "source": [
    "#### Let`s remove all recipes with less than 5 mins and more than 150 mins."
   ]
  },
  {
   "cell_type": "code",
   "execution_count": 348,
   "metadata": {},
   "outputs": [
    {
     "data": {
      "text/plain": [
       "(652, 12)"
      ]
     },
     "execution_count": 348,
     "metadata": {},
     "output_type": "execute_result"
    }
   ],
   "source": [
    "more_5 = df_recipe_final['total_min'] >= 5\n",
    "less_200 = df_recipe_final['total_min'] < 150\n",
    "df_result = df_recipe_final[more_5& less_200]\n",
    "df_result.shape"
   ]
  },
  {
   "cell_type": "code",
   "execution_count": 349,
   "metadata": {},
   "outputs": [
    {
     "data": {
      "text/plain": [
       "<AxesSubplot:xlabel='total_min'>"
      ]
     },
     "execution_count": 349,
     "metadata": {},
     "output_type": "execute_result"
    },
    {
     "data": {
      "image/png": "[encoded data removed]",
      "text/plain": [
       "<Figure size 432x288 with 1 Axes>"
      ]
     },
     "metadata": {
      "needs_background": "light"
     },
     "output_type": "display_data"
    }
   ],
   "source": [
    "sns.boxplot(x=df_result['total_min'])"
   ]
  },
  {
   "cell_type": "code",
   "execution_count": 350,
   "metadata": {},
   "outputs": [
    {
     "data": {
      "text/plain": [
       "(652, 12)"
      ]
     },
     "execution_count": 350,
     "metadata": {},
     "output_type": "execute_result"
    }
   ],
   "source": [
    "df_result.shape"
   ]
  },
  {
   "cell_type": "code",
   "execution_count": 388,
   "metadata": {},
   "outputs": [
    {
     "data": {
      "text/plain": [
       "<matplotlib.collections.PathCollection at 0x24ada69a6d0>"
      ]
     },
     "execution_count": 388,
     "metadata": {},
     "output_type": "execute_result"
    },
    {
     "data": {
      "image/png": "[encoded data removed]",
      "text/plain": [
       "<Figure size 432x288 with 1 Axes>"
      ]
     },
     "metadata": {
      "needs_background": "light"
     },
     "output_type": "display_data"
    }
   ],
   "source": [
    "calories = df_result['calories'] < 600\n",
    "df_ml = df_result[calories]\n",
    "df_ml\n",
    "plt.scatter(df_ml['total_min'], df_ml['rating_outOf_5_x'])"
   ]
  },
  {
   "cell_type": "markdown",
   "metadata": {},
   "source": [
    "We cannot differentiate clusters in this"
   ]
  },
  {
   "cell_type": "code",
   "execution_count": 375,
   "metadata": {},
   "outputs": [],
   "source": [
    "k_range = range(1, 10)\n",
    "sse = []\n",
    "for k in k_range:\n",
    "    km = KMeans(n_clusters=k)\n",
    "    km.fit(df_ml[['total_min', 'calories', 'protein', 'carbo']])\n",
    "    sse.append(km.inertia_)"
   ]
  },
  {
   "cell_type": "code",
   "execution_count": 376,
   "metadata": {},
   "outputs": [
    {
     "data": {
      "text/plain": [
       "[12979927.621503893,\n",
       " 4558452.259660055,\n",
       " 2521213.7547752275,\n",
       " 1831529.6881214085,\n",
       " 1467029.1177798624,\n",
       " 1248633.447496981,\n",
       " 1102354.3131976614,\n",
       " 965476.7295726135,\n",
       " 862799.5571411378]"
      ]
     },
     "execution_count": 376,
     "metadata": {},
     "output_type": "execute_result"
    }
   ],
   "source": [
    "sse"
   ]
  },
  {
   "cell_type": "code",
   "execution_count": 377,
   "metadata": {},
   "outputs": [
    {
     "data": {
      "text/plain": [
       "[<matplotlib.lines.Line2D at 0x24ada49dc70>]"
      ]
     },
     "execution_count": 377,
     "metadata": {},
     "output_type": "execute_result"
    },
    {
     "data": {
      "image/png": "[encoded data removed]",
      "text/plain": [
       "<Figure size 432x288 with 1 Axes>"
      ]
     },
     "metadata": {
      "needs_background": "light"
     },
     "output_type": "display_data"
    }
   ],
   "source": [
    "plt.xlabel('K')\n",
    "plt.ylabel('Sum of squared error')\n",
    "plt.plot(k_range, sse)"
   ]
  },
  {
   "cell_type": "code",
   "execution_count": 379,
   "metadata": {},
   "outputs": [],
   "source": [
    "X_km = df_ml[['total_min', 'calories', 'protein', 'carbo']].copy()"
   ]
  },
  {
   "cell_type": "code",
   "execution_count": 380,
   "metadata": {},
   "outputs": [],
   "source": [
    "km = KMeans(n_clusters=3)"
   ]
  },
  {
   "cell_type": "code",
   "execution_count": 381,
   "metadata": {},
   "outputs": [
    {
     "data": {
      "text/plain": [
       "KMeans(n_clusters=3)"
      ]
     },
     "execution_count": 381,
     "metadata": {},
     "output_type": "execute_result"
    }
   ],
   "source": [
    "km.fit(X_km)"
   ]
  },
  {
   "cell_type": "code",
   "execution_count": 382,
   "metadata": {},
   "outputs": [
    {
     "data": {
      "text/html": [
       "<div>\n",
       "<style scoped>\n",
       "    .dataframe tbody tr th:only-of-type {\n",
       "        vertical-align: middle;\n",
       "    }\n",
       "\n",
       "    .dataframe tbody tr th {\n",
       "        vertical-align: top;\n",
       "    }\n",
       "\n",
       "    .dataframe thead th {\n",
       "        text-align: right;\n",
       "    }\n",
       "</style>\n",
       "<table border=\"1\" class=\"dataframe\">\n",
       "  <thead>\n",
       "    <tr style=\"text-align: right;\">\n",
       "      <th></th>\n",
       "      <th>total_min</th>\n",
       "      <th>calories</th>\n",
       "      <th>protein</th>\n",
       "      <th>carbo</th>\n",
       "    </tr>\n",
       "  </thead>\n",
       "  <tbody>\n",
       "    <tr>\n",
       "      <th>0</th>\n",
       "      <td>47.547325</td>\n",
       "      <td>232.800741</td>\n",
       "      <td>13.766626</td>\n",
       "      <td>28.240535</td>\n",
       "    </tr>\n",
       "    <tr>\n",
       "      <th>1</th>\n",
       "      <td>51.581818</td>\n",
       "      <td>410.431697</td>\n",
       "      <td>24.220424</td>\n",
       "      <td>47.226121</td>\n",
       "    </tr>\n",
       "    <tr>\n",
       "      <th>2</th>\n",
       "      <td>30.136170</td>\n",
       "      <td>85.638383</td>\n",
       "      <td>3.821447</td>\n",
       "      <td>13.544851</td>\n",
       "    </tr>\n",
       "  </tbody>\n",
       "</table>\n",
       "</div>"
      ],
      "text/plain": [
       "   total_min    calories    protein      carbo\n",
       "0  47.547325  232.800741  13.766626  28.240535\n",
       "1  51.581818  410.431697  24.220424  47.226121\n",
       "2  30.136170   85.638383   3.821447  13.544851"
      ]
     },
     "execution_count": 382,
     "metadata": {},
     "output_type": "execute_result"
    }
   ],
   "source": [
    "centers = pd.DataFrame(km.cluster_centers_, columns=X_km.columns)\n",
    "centers"
   ]
  },
  {
   "cell_type": "code",
   "execution_count": 383,
   "metadata": {},
   "outputs": [
    {
     "data": {
      "text/html": [
       "<div>\n",
       "<style scoped>\n",
       "    .dataframe tbody tr th:only-of-type {\n",
       "        vertical-align: middle;\n",
       "    }\n",
       "\n",
       "    .dataframe tbody tr th {\n",
       "        vertical-align: top;\n",
       "    }\n",
       "\n",
       "    .dataframe thead th {\n",
       "        text-align: right;\n",
       "    }\n",
       "</style>\n",
       "<table border=\"1\" class=\"dataframe\">\n",
       "  <thead>\n",
       "    <tr style=\"text-align: right;\">\n",
       "      <th></th>\n",
       "      <th>total_min</th>\n",
       "      <th>calories</th>\n",
       "      <th>protein</th>\n",
       "      <th>carbo</th>\n",
       "      <th>cluster</th>\n",
       "    </tr>\n",
       "  </thead>\n",
       "  <tbody>\n",
       "    <tr>\n",
       "      <th>1</th>\n",
       "      <td>72</td>\n",
       "      <td>141.01</td>\n",
       "      <td>5.70</td>\n",
       "      <td>23.75</td>\n",
       "      <td>2</td>\n",
       "    </tr>\n",
       "    <tr>\n",
       "      <th>2</th>\n",
       "      <td>18</td>\n",
       "      <td>137.06</td>\n",
       "      <td>4.90</td>\n",
       "      <td>26.88</td>\n",
       "      <td>2</td>\n",
       "    </tr>\n",
       "    <tr>\n",
       "      <th>3</th>\n",
       "      <td>10</td>\n",
       "      <td>81.70</td>\n",
       "      <td>1.77</td>\n",
       "      <td>18.17</td>\n",
       "      <td>2</td>\n",
       "    </tr>\n",
       "    <tr>\n",
       "      <th>4</th>\n",
       "      <td>15</td>\n",
       "      <td>201.23</td>\n",
       "      <td>1.38</td>\n",
       "      <td>36.63</td>\n",
       "      <td>0</td>\n",
       "    </tr>\n",
       "    <tr>\n",
       "      <th>5</th>\n",
       "      <td>100</td>\n",
       "      <td>66.03</td>\n",
       "      <td>3.38</td>\n",
       "      <td>8.04</td>\n",
       "      <td>2</td>\n",
       "    </tr>\n",
       "    <tr>\n",
       "      <th>...</th>\n",
       "      <td>...</td>\n",
       "      <td>...</td>\n",
       "      <td>...</td>\n",
       "      <td>...</td>\n",
       "      <td>...</td>\n",
       "    </tr>\n",
       "    <tr>\n",
       "      <th>872</th>\n",
       "      <td>20</td>\n",
       "      <td>200.63</td>\n",
       "      <td>6.29</td>\n",
       "      <td>29.24</td>\n",
       "      <td>0</td>\n",
       "    </tr>\n",
       "    <tr>\n",
       "      <th>873</th>\n",
       "      <td>25</td>\n",
       "      <td>270.50</td>\n",
       "      <td>6.57</td>\n",
       "      <td>30.14</td>\n",
       "      <td>0</td>\n",
       "    </tr>\n",
       "    <tr>\n",
       "      <th>874</th>\n",
       "      <td>15</td>\n",
       "      <td>308.10</td>\n",
       "      <td>9.13</td>\n",
       "      <td>29.91</td>\n",
       "      <td>0</td>\n",
       "    </tr>\n",
       "    <tr>\n",
       "      <th>876</th>\n",
       "      <td>25</td>\n",
       "      <td>418.73</td>\n",
       "      <td>23.04</td>\n",
       "      <td>60.78</td>\n",
       "      <td>1</td>\n",
       "    </tr>\n",
       "    <tr>\n",
       "      <th>877</th>\n",
       "      <td>5</td>\n",
       "      <td>421.79</td>\n",
       "      <td>17.13</td>\n",
       "      <td>45.05</td>\n",
       "      <td>1</td>\n",
       "    </tr>\n",
       "  </tbody>\n",
       "</table>\n",
       "<p>643 rows × 5 columns</p>\n",
       "</div>"
      ],
      "text/plain": [
       "     total_min  calories  protein  carbo  cluster\n",
       "1           72    141.01     5.70  23.75        2\n",
       "2           18    137.06     4.90  26.88        2\n",
       "3           10     81.70     1.77  18.17        2\n",
       "4           15    201.23     1.38  36.63        0\n",
       "5          100     66.03     3.38   8.04        2\n",
       "..         ...       ...      ...    ...      ...\n",
       "872         20    200.63     6.29  29.24        0\n",
       "873         25    270.50     6.57  30.14        0\n",
       "874         15    308.10     9.13  29.91        0\n",
       "876         25    418.73    23.04  60.78        1\n",
       "877          5    421.79    17.13  45.05        1\n",
       "\n",
       "[643 rows x 5 columns]"
      ]
     },
     "execution_count": 383,
     "metadata": {},
     "output_type": "execute_result"
    }
   ],
   "source": [
    "X_km['cluster'] = km.labels_\n",
    "X_km"
   ]
  },
  {
   "cell_type": "code",
   "execution_count": 386,
   "metadata": {},
   "outputs": [
    {
     "data": {
      "text/plain": [
       "<AxesSubplot:xlabel='total_min', ylabel='calories'>"
      ]
     },
     "execution_count": 386,
     "metadata": {},
     "output_type": "execute_result"
    },
    {
     "data": {
      "image/png": "[encoded data removed]",
      "text/plain": [
       "<Figure size 432x288 with 1 Axes>"
      ]
     },
     "metadata": {
      "needs_background": "light"
     },
     "output_type": "display_data"
    }
   ],
   "source": [
    "ax = X_km[X_km['cluster']==0].plot(kind='scatter', x='total_min', y='calories', s=50, c='green', sharex=False)\n",
    "X_km[X_km['cluster']==1].plot(kind='scatter',x='total_min',y='calories',s=50, c='orange', sharex=False, ax = ax)\n",
    "X_km[X_km['cluster']==2].plot(kind='scatter',x='total_min',y='calories',s=50, c='purple', sharex=False, ax = ax)\n",
    "\n",
    "centers.plot(kind = 'scatter', x='total_min', y='calories', c=['green','orange','purple'], s=50, marker='x', sharex=False, ax=ax)"
   ]
  },
  {
   "cell_type": "code",
   "execution_count": null,
   "metadata": {},
   "outputs": [],
   "source": []
  }
 ],
 "metadata": {
  "kernelspec": {
   "display_name": "Python 3",
   "language": "python",
   "name": "python3"
  },
  "language_info": {
   "codemirror_mode": {
    "name": "ipython",
    "version": 3
   },
   "file_extension": ".py",
   "mimetype": "text/x-python",
   "name": "python",
   "nbconvert_exporter": "python",
   "pygments_lexer": "ipython3",
   "version": "3.8.5"
  }
 },
 "nbformat": 4,
 "nbformat_minor": 4
}
