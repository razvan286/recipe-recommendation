{
 "cells": [
  {
   "cell_type": "markdown",
   "metadata": {},
   "source": [
    " <img src=\"./markdown/reco.jpg\" alt=\"Recommendation system\" style=\"display: block;\n",
    "  margin-left: auto;\n",
    "  margin-right: auto;\n",
    "  width: 80%;height:350px\"> "
   ]
  },
  {
   "cell_type": "markdown",
   "metadata": {},
   "source": [
    "<h1 style=\"text-align:center;font-size:35px;\">Recipe recommendation system</h1>\n",
    "<br>"
   ]
  },
  {
   "cell_type": "markdown",
   "metadata": {},
   "source": [
    "<h1 style=\"font-size:30px;color:#008abc;\">Introduction</h1>"
   ]
  },
  {
   "cell_type": "markdown",
   "metadata": {},
   "source": [
    "#### The goal of this project is to ultimately create a personalized recipe recommendation system that learns from the choice of its users. \n",
    "##### Data source and fields explanation:https://data.world/atlas-query/cookbook\n",
    "\n",
    "\n",
    "##### Due to feasibility limitations, the recommender system will not be able to track users` preferences so that we will come up with a new goal.\n",
    "\n",
    "## Healthy recommender system \n",
    "##### This system will keep track of the ingredients from each recipe, also will keep track of the important and needed intake of nutrients for a healthy nutrition.\n",
    "<br>"
   ]
  },
  {
   "cell_type": "markdown",
   "metadata": {},
   "source": []
  },
  {
   "cell_type": "markdown",
   "metadata": {},
   "source": [
    "### Import required Libraries."
   ]
  },
  {
   "cell_type": "code",
   "execution_count": 2,
   "metadata": {},
   "outputs": [],
   "source": [
    "import pandas as pd\n",
    "import numpy as np\n",
    "import matplotlib.pyplot as plt\n",
    "import seaborn as sns\n",
    "from sklearn.cluster import KMeans\n",
    "from sklearn.preprocessing import MinMaxScaler\n",
    "import random"
   ]
  },
  {
   "cell_type": "markdown",
   "metadata": {},
   "source": [
    "### Load data"
   ]
  },
  {
   "cell_type": "code",
   "execution_count": 3,
   "metadata": {},
   "outputs": [],
   "source": [
    "df_recipe_recommender = pd.read_csv('./exports/recipe_recommender.csv')\n",
    "df_recipe_clean = pd.read_csv('./exports/recipe_clean.csv')\n",
    "df_healthy_nutrients = pd.read_csv('./exports/nutrients_for_health.csv')"
   ]
  },
  {
   "cell_type": "markdown",
   "metadata": {},
   "source": [
    "<br>\n",
    "<br>\n",
    "<h1 style=\"font-size:30px;color:#008abc;\">Machine Learning</h1>"
   ]
  },
  {
   "cell_type": "markdown",
   "metadata": {},
   "source": [
    "#### Add a total duration time for each recipe"
   ]
  },
  {
   "cell_type": "code",
   "execution_count": 4,
   "metadata": {},
   "outputs": [
    {
     "data": {
      "text/html": [
       "<div>\n",
       "<style scoped>\n",
       "    .dataframe tbody tr th:only-of-type {\n",
       "        vertical-align: middle;\n",
       "    }\n",
       "\n",
       "    .dataframe tbody tr th {\n",
       "        vertical-align: top;\n",
       "    }\n",
       "\n",
       "    .dataframe thead th {\n",
       "        text-align: right;\n",
       "    }\n",
       "</style>\n",
       "<table border=\"1\" class=\"dataframe\">\n",
       "  <thead>\n",
       "    <tr style=\"text-align: right;\">\n",
       "      <th></th>\n",
       "      <th>recipe_id</th>\n",
       "      <th>title</th>\n",
       "      <th>servings</th>\n",
       "      <th>prep_min</th>\n",
       "      <th>cook_min</th>\n",
       "      <th>stnd_min</th>\n",
       "      <th>directions</th>\n",
       "      <th>total_min</th>\n",
       "    </tr>\n",
       "  </thead>\n",
       "  <tbody>\n",
       "    <tr>\n",
       "      <th>0</th>\n",
       "      <td>214</td>\n",
       "      <td>Raspberry Chiffon Pie</td>\n",
       "      <td>10</td>\n",
       "      <td>20</td>\n",
       "      <td>8</td>\n",
       "      <td>305</td>\n",
       "      <td>For crust, preheat oven to 375 degrees F.\\nIn...</td>\n",
       "      <td>333</td>\n",
       "    </tr>\n",
       "    <tr>\n",
       "      <th>1</th>\n",
       "      <td>215</td>\n",
       "      <td>Apricot Yogurt Parfaits</td>\n",
       "      <td>4</td>\n",
       "      <td>5</td>\n",
       "      <td>2</td>\n",
       "      <td>65</td>\n",
       "      <td>Drain canned apricots, pour 1/4 cup of the ju...</td>\n",
       "      <td>72</td>\n",
       "    </tr>\n",
       "    <tr>\n",
       "      <th>2</th>\n",
       "      <td>216</td>\n",
       "      <td>Fresh Apricot Bavarian</td>\n",
       "      <td>8</td>\n",
       "      <td>5</td>\n",
       "      <td>13</td>\n",
       "      <td>0</td>\n",
       "      <td>Drop apricots into boiling water to cover.  R...</td>\n",
       "      <td>18</td>\n",
       "    </tr>\n",
       "    <tr>\n",
       "      <th>3</th>\n",
       "      <td>217</td>\n",
       "      <td>Fresh Peaches with Banana Cream Whip</td>\n",
       "      <td>4</td>\n",
       "      <td>10</td>\n",
       "      <td>0</td>\n",
       "      <td>0</td>\n",
       "      <td>In a small bowl, beat egg white until foamy. ...</td>\n",
       "      <td>10</td>\n",
       "    </tr>\n",
       "    <tr>\n",
       "      <th>4</th>\n",
       "      <td>218</td>\n",
       "      <td>Canned Cherry Crisp</td>\n",
       "      <td>6</td>\n",
       "      <td>10</td>\n",
       "      <td>5</td>\n",
       "      <td>0</td>\n",
       "      <td>Pour cherry pie filling into an 8-inch, round...</td>\n",
       "      <td>15</td>\n",
       "    </tr>\n",
       "  </tbody>\n",
       "</table>\n",
       "</div>"
      ],
      "text/plain": [
       "   recipe_id                                 title  servings  prep_min  \\\n",
       "0        214                 Raspberry Chiffon Pie        10        20   \n",
       "1        215               Apricot Yogurt Parfaits         4         5   \n",
       "2        216                Fresh Apricot Bavarian         8         5   \n",
       "3        217  Fresh Peaches with Banana Cream Whip         4        10   \n",
       "4        218                   Canned Cherry Crisp         6        10   \n",
       "\n",
       "   cook_min  stnd_min                                         directions  \\\n",
       "0         8       305   For crust, preheat oven to 375 degrees F.\\nIn...   \n",
       "1         2        65   Drain canned apricots, pour 1/4 cup of the ju...   \n",
       "2        13         0   Drop apricots into boiling water to cover.  R...   \n",
       "3         0         0   In a small bowl, beat egg white until foamy. ...   \n",
       "4         5         0   Pour cherry pie filling into an 8-inch, round...   \n",
       "\n",
       "   total_min  \n",
       "0        333  \n",
       "1         72  \n",
       "2         18  \n",
       "3         10  \n",
       "4         15  "
      ]
     },
     "execution_count": 4,
     "metadata": {},
     "output_type": "execute_result"
    }
   ],
   "source": [
    "df_recipe_clean['total_min'] = df_recipe_clean['prep_min'] + df_recipe_clean['cook_min'] + df_recipe_clean['stnd_min']\n",
    "df_recipe_clean.head()"
   ]
  },
  {
   "cell_type": "code",
   "execution_count": 5,
   "metadata": {},
   "outputs": [],
   "source": [
    "df_ml_recipe = df_recipe_clean.drop(['servings','directions','prep_min', 'cook_min', 'stnd_min'], axis=1)"
   ]
  },
  {
   "cell_type": "code",
   "execution_count": 6,
   "metadata": {},
   "outputs": [
    {
     "data": {
      "text/html": [
       "<div>\n",
       "<style scoped>\n",
       "    .dataframe tbody tr th:only-of-type {\n",
       "        vertical-align: middle;\n",
       "    }\n",
       "\n",
       "    .dataframe tbody tr th {\n",
       "        vertical-align: top;\n",
       "    }\n",
       "\n",
       "    .dataframe thead th {\n",
       "        text-align: right;\n",
       "    }\n",
       "</style>\n",
       "<table border=\"1\" class=\"dataframe\">\n",
       "  <thead>\n",
       "    <tr style=\"text-align: right;\">\n",
       "      <th></th>\n",
       "      <th>recipe_id</th>\n",
       "      <th>title</th>\n",
       "      <th>total_min</th>\n",
       "      <th>rating_outOf_5</th>\n",
       "    </tr>\n",
       "  </thead>\n",
       "  <tbody>\n",
       "    <tr>\n",
       "      <th>0</th>\n",
       "      <td>214</td>\n",
       "      <td>Raspberry Chiffon Pie</td>\n",
       "      <td>333</td>\n",
       "      <td>3.0</td>\n",
       "    </tr>\n",
       "    <tr>\n",
       "      <th>1</th>\n",
       "      <td>215</td>\n",
       "      <td>Apricot Yogurt Parfaits</td>\n",
       "      <td>72</td>\n",
       "      <td>3.0</td>\n",
       "    </tr>\n",
       "    <tr>\n",
       "      <th>2</th>\n",
       "      <td>216</td>\n",
       "      <td>Fresh Apricot Bavarian</td>\n",
       "      <td>18</td>\n",
       "      <td>3.0</td>\n",
       "    </tr>\n",
       "    <tr>\n",
       "      <th>3</th>\n",
       "      <td>217</td>\n",
       "      <td>Fresh Peaches with Banana Cream Whip</td>\n",
       "      <td>10</td>\n",
       "      <td>3.0</td>\n",
       "    </tr>\n",
       "    <tr>\n",
       "      <th>4</th>\n",
       "      <td>218</td>\n",
       "      <td>Canned Cherry Crisp</td>\n",
       "      <td>15</td>\n",
       "      <td>3.0</td>\n",
       "    </tr>\n",
       "    <tr>\n",
       "      <th>...</th>\n",
       "      <td>...</td>\n",
       "      <td>...</td>\n",
       "      <td>...</td>\n",
       "      <td>...</td>\n",
       "    </tr>\n",
       "    <tr>\n",
       "      <th>873</th>\n",
       "      <td>1410</td>\n",
       "      <td>No-Bake Chocolate Cheesecake</td>\n",
       "      <td>150</td>\n",
       "      <td>3.0</td>\n",
       "    </tr>\n",
       "    <tr>\n",
       "      <th>874</th>\n",
       "      <td>1411</td>\n",
       "      <td>Mexican Cocoa Torte</td>\n",
       "      <td>222</td>\n",
       "      <td>3.0</td>\n",
       "    </tr>\n",
       "    <tr>\n",
       "      <th>875</th>\n",
       "      <td>1426</td>\n",
       "      <td>-Pancakes-</td>\n",
       "      <td>20</td>\n",
       "      <td>3.0</td>\n",
       "    </tr>\n",
       "    <tr>\n",
       "      <th>876</th>\n",
       "      <td>1427</td>\n",
       "      <td>-Waffles-</td>\n",
       "      <td>25</td>\n",
       "      <td>3.0</td>\n",
       "    </tr>\n",
       "    <tr>\n",
       "      <th>877</th>\n",
       "      <td>1432</td>\n",
       "      <td>Curried Chicken Livers Topped Spud</td>\n",
       "      <td>25</td>\n",
       "      <td>3.0</td>\n",
       "    </tr>\n",
       "  </tbody>\n",
       "</table>\n",
       "<p>878 rows × 4 columns</p>\n",
       "</div>"
      ],
      "text/plain": [
       "     recipe_id                                 title  total_min  \\\n",
       "0          214                 Raspberry Chiffon Pie        333   \n",
       "1          215               Apricot Yogurt Parfaits         72   \n",
       "2          216                Fresh Apricot Bavarian         18   \n",
       "3          217  Fresh Peaches with Banana Cream Whip         10   \n",
       "4          218                   Canned Cherry Crisp         15   \n",
       "..         ...                                   ...        ...   \n",
       "873       1410          No-Bake Chocolate Cheesecake        150   \n",
       "874       1411                   Mexican Cocoa Torte        222   \n",
       "875       1426                            -Pancakes-         20   \n",
       "876       1427                             -Waffles-         25   \n",
       "877       1432    Curried Chicken Livers Topped Spud         25   \n",
       "\n",
       "     rating_outOf_5  \n",
       "0               3.0  \n",
       "1               3.0  \n",
       "2               3.0  \n",
       "3               3.0  \n",
       "4               3.0  \n",
       "..              ...  \n",
       "873             3.0  \n",
       "874             3.0  \n",
       "875             3.0  \n",
       "876             3.0  \n",
       "877             3.0  \n",
       "\n",
       "[878 rows x 4 columns]"
      ]
     },
     "execution_count": 6,
     "metadata": {},
     "output_type": "execute_result"
    }
   ],
   "source": [
    "df_ml_recipe['rating_outOf_5'] = 3.0\n",
    "df_ml_recipe"
   ]
  },
  {
   "cell_type": "markdown",
   "metadata": {},
   "source": [
    "### Make healthy recipes"
   ]
  },
  {
   "cell_type": "code",
   "execution_count": 7,
   "metadata": {},
   "outputs": [
    {
     "data": {
      "text/plain": [
       "(878, 8)"
      ]
     },
     "execution_count": 7,
     "metadata": {},
     "output_type": "execute_result"
    }
   ],
   "source": [
    "df_healthy_nutrients['healthy'] = False\n",
    "df_healthy_nutrients.shape"
   ]
  },
  {
   "cell_type": "code",
   "execution_count": 8,
   "metadata": {},
   "outputs": [],
   "source": [
    "df_copy = df_healthy_nutrients.copy()\n",
    "for index, row in df_healthy_nutrients.iterrows():\n",
    "    if (row['protein'] >= 10 and row['protein'] <= 25) and (row['total_fat'] >= 0 and row['total_fat'] <=25) and (row['calories'] >= 100 and row['calories'] <= 500) and (row['carbo'] >= 5 and row['carbo'] <= 100) and (row['sodium']>= 0 and row['sodium']<=800):\n",
    "        df_copy.loc[index, 'healthy'] = True"
   ]
  },
  {
   "cell_type": "code",
   "execution_count": 9,
   "metadata": {},
   "outputs": [
    {
     "data": {
      "text/html": [
       "<div>\n",
       "<style scoped>\n",
       "    .dataframe tbody tr th:only-of-type {\n",
       "        vertical-align: middle;\n",
       "    }\n",
       "\n",
       "    .dataframe tbody tr th {\n",
       "        vertical-align: top;\n",
       "    }\n",
       "\n",
       "    .dataframe thead th {\n",
       "        text-align: right;\n",
       "    }\n",
       "</style>\n",
       "<table border=\"1\" class=\"dataframe\">\n",
       "  <thead>\n",
       "    <tr style=\"text-align: right;\">\n",
       "      <th></th>\n",
       "      <th>recipe_id</th>\n",
       "      <th>protein</th>\n",
       "      <th>carbo</th>\n",
       "      <th>total_fat</th>\n",
       "      <th>cholestrl</th>\n",
       "      <th>sodium</th>\n",
       "      <th>calories</th>\n",
       "      <th>healthy</th>\n",
       "      <th>title</th>\n",
       "      <th>total_min</th>\n",
       "      <th>rating_outOf_5</th>\n",
       "    </tr>\n",
       "  </thead>\n",
       "  <tbody>\n",
       "    <tr>\n",
       "      <th>0</th>\n",
       "      <td>214</td>\n",
       "      <td>5.47</td>\n",
       "      <td>41.29</td>\n",
       "      <td>11.53</td>\n",
       "      <td>1.39</td>\n",
       "      <td>260.78</td>\n",
       "      <td>290.79</td>\n",
       "      <td>False</td>\n",
       "      <td>Raspberry Chiffon Pie</td>\n",
       "      <td>333</td>\n",
       "      <td>3.0</td>\n",
       "    </tr>\n",
       "    <tr>\n",
       "      <th>1</th>\n",
       "      <td>215</td>\n",
       "      <td>5.70</td>\n",
       "      <td>23.75</td>\n",
       "      <td>1.08</td>\n",
       "      <td>3.48</td>\n",
       "      <td>46.17</td>\n",
       "      <td>141.01</td>\n",
       "      <td>False</td>\n",
       "      <td>Apricot Yogurt Parfaits</td>\n",
       "      <td>72</td>\n",
       "      <td>3.0</td>\n",
       "    </tr>\n",
       "    <tr>\n",
       "      <th>2</th>\n",
       "      <td>216</td>\n",
       "      <td>4.90</td>\n",
       "      <td>26.88</td>\n",
       "      <td>1.10</td>\n",
       "      <td>3.46</td>\n",
       "      <td>41.79</td>\n",
       "      <td>137.06</td>\n",
       "      <td>False</td>\n",
       "      <td>Fresh Apricot Bavarian</td>\n",
       "      <td>18</td>\n",
       "      <td>3.0</td>\n",
       "    </tr>\n",
       "    <tr>\n",
       "      <th>3</th>\n",
       "      <td>217</td>\n",
       "      <td>1.77</td>\n",
       "      <td>18.17</td>\n",
       "      <td>0.21</td>\n",
       "      <td>0.00</td>\n",
       "      <td>14.01</td>\n",
       "      <td>81.70</td>\n",
       "      <td>False</td>\n",
       "      <td>Fresh Peaches with Banana Cream Whip</td>\n",
       "      <td>10</td>\n",
       "      <td>3.0</td>\n",
       "    </tr>\n",
       "    <tr>\n",
       "      <th>4</th>\n",
       "      <td>218</td>\n",
       "      <td>1.38</td>\n",
       "      <td>36.63</td>\n",
       "      <td>5.47</td>\n",
       "      <td>10.36</td>\n",
       "      <td>50.22</td>\n",
       "      <td>201.23</td>\n",
       "      <td>False</td>\n",
       "      <td>Canned Cherry Crisp</td>\n",
       "      <td>15</td>\n",
       "      <td>3.0</td>\n",
       "    </tr>\n",
       "    <tr>\n",
       "      <th>...</th>\n",
       "      <td>...</td>\n",
       "      <td>...</td>\n",
       "      <td>...</td>\n",
       "      <td>...</td>\n",
       "      <td>...</td>\n",
       "      <td>...</td>\n",
       "      <td>...</td>\n",
       "      <td>...</td>\n",
       "      <td>...</td>\n",
       "      <td>...</td>\n",
       "      <td>...</td>\n",
       "    </tr>\n",
       "    <tr>\n",
       "      <th>873</th>\n",
       "      <td>1427</td>\n",
       "      <td>6.57</td>\n",
       "      <td>30.14</td>\n",
       "      <td>13.74</td>\n",
       "      <td>60.38</td>\n",
       "      <td>173.88</td>\n",
       "      <td>270.50</td>\n",
       "      <td>False</td>\n",
       "      <td>-Waffles-</td>\n",
       "      <td>25</td>\n",
       "      <td>3.0</td>\n",
       "    </tr>\n",
       "    <tr>\n",
       "      <th>874</th>\n",
       "      <td>1428</td>\n",
       "      <td>9.13</td>\n",
       "      <td>29.91</td>\n",
       "      <td>16.88</td>\n",
       "      <td>144.36</td>\n",
       "      <td>458.80</td>\n",
       "      <td>308.10</td>\n",
       "      <td>False</td>\n",
       "      <td>-French Toast-</td>\n",
       "      <td>15</td>\n",
       "      <td>3.0</td>\n",
       "    </tr>\n",
       "    <tr>\n",
       "      <th>875</th>\n",
       "      <td>1429</td>\n",
       "      <td>1.35</td>\n",
       "      <td>3.13</td>\n",
       "      <td>0.26</td>\n",
       "      <td>0.00</td>\n",
       "      <td>15.34</td>\n",
       "      <td>20.31</td>\n",
       "      <td>False</td>\n",
       "      <td>-Mixed Green Salad-</td>\n",
       "      <td>0</td>\n",
       "      <td>3.0</td>\n",
       "    </tr>\n",
       "    <tr>\n",
       "      <th>876</th>\n",
       "      <td>1432</td>\n",
       "      <td>23.04</td>\n",
       "      <td>60.78</td>\n",
       "      <td>9.27</td>\n",
       "      <td>430.09</td>\n",
       "      <td>1075.80</td>\n",
       "      <td>418.73</td>\n",
       "      <td>False</td>\n",
       "      <td>Curried Chicken Livers Topped Spud</td>\n",
       "      <td>25</td>\n",
       "      <td>3.0</td>\n",
       "    </tr>\n",
       "    <tr>\n",
       "      <th>877</th>\n",
       "      <td>1436</td>\n",
       "      <td>17.13</td>\n",
       "      <td>45.05</td>\n",
       "      <td>19.23</td>\n",
       "      <td>9.76</td>\n",
       "      <td>131.73</td>\n",
       "      <td>421.79</td>\n",
       "      <td>True</td>\n",
       "      <td>T.B.P.B. Smoothie</td>\n",
       "      <td>5</td>\n",
       "      <td>3.0</td>\n",
       "    </tr>\n",
       "  </tbody>\n",
       "</table>\n",
       "<p>878 rows × 11 columns</p>\n",
       "</div>"
      ],
      "text/plain": [
       "     recipe_id  protein  carbo  total_fat  cholestrl   sodium  calories  \\\n",
       "0          214     5.47  41.29      11.53       1.39   260.78    290.79   \n",
       "1          215     5.70  23.75       1.08       3.48    46.17    141.01   \n",
       "2          216     4.90  26.88       1.10       3.46    41.79    137.06   \n",
       "3          217     1.77  18.17       0.21       0.00    14.01     81.70   \n",
       "4          218     1.38  36.63       5.47      10.36    50.22    201.23   \n",
       "..         ...      ...    ...        ...        ...      ...       ...   \n",
       "873       1427     6.57  30.14      13.74      60.38   173.88    270.50   \n",
       "874       1428     9.13  29.91      16.88     144.36   458.80    308.10   \n",
       "875       1429     1.35   3.13       0.26       0.00    15.34     20.31   \n",
       "876       1432    23.04  60.78       9.27     430.09  1075.80    418.73   \n",
       "877       1436    17.13  45.05      19.23       9.76   131.73    421.79   \n",
       "\n",
       "     healthy                                 title  total_min  rating_outOf_5  \n",
       "0      False                 Raspberry Chiffon Pie        333             3.0  \n",
       "1      False               Apricot Yogurt Parfaits         72             3.0  \n",
       "2      False                Fresh Apricot Bavarian         18             3.0  \n",
       "3      False  Fresh Peaches with Banana Cream Whip         10             3.0  \n",
       "4      False                   Canned Cherry Crisp         15             3.0  \n",
       "..       ...                                   ...        ...             ...  \n",
       "873    False                             -Waffles-         25             3.0  \n",
       "874    False                        -French Toast-         15             3.0  \n",
       "875    False                   -Mixed Green Salad-          0             3.0  \n",
       "876    False    Curried Chicken Livers Topped Spud         25             3.0  \n",
       "877     True                     T.B.P.B. Smoothie          5             3.0  \n",
       "\n",
       "[878 rows x 11 columns]"
      ]
     },
     "execution_count": 9,
     "metadata": {},
     "output_type": "execute_result"
    }
   ],
   "source": [
    "df_recipe_final = pd.merge(df_copy, df_ml_recipe, on='recipe_id', how='left')\n",
    "df_recipe_final"
   ]
  },
  {
   "cell_type": "markdown",
   "metadata": {},
   "source": [
    "### Search for total-min outliers"
   ]
  },
  {
   "cell_type": "code",
   "execution_count": 10,
   "metadata": {},
   "outputs": [
    {
     "data": {
      "text/plain": [
       "<AxesSubplot:xlabel='total_min'>"
      ]
     },
     "execution_count": 10,
     "metadata": {},
     "output_type": "execute_result"
    },
    {
     "data": {
      "image/png": "[encoded data removed]",
      "text/plain": [
       "<Figure size 432x288 with 1 Axes>"
      ]
     },
     "metadata": {
      "needs_background": "light"
     },
     "output_type": "display_data"
    }
   ],
   "source": [
    "sns.boxplot(x=df_recipe_final['total_min'])"
   ]
  },
  {
   "cell_type": "markdown",
   "metadata": {},
   "source": [
    "#### Let`s remove all recipes with less than 5 mins and more than 500 mins."
   ]
  },
  {
   "cell_type": "code",
   "execution_count": 11,
   "metadata": {},
   "outputs": [
    {
     "data": {
      "text/plain": [
       "(749, 11)"
      ]
     },
     "execution_count": 11,
     "metadata": {},
     "output_type": "execute_result"
    }
   ],
   "source": [
    "more_5 = df_recipe_final['total_min'] >= 5\n",
    "less_200 = df_recipe_final['total_min'] < 500\n",
    "df_result = df_recipe_final[more_5& less_200]\n",
    "df_result.shape"
   ]
  },
  {
   "cell_type": "code",
   "execution_count": 12,
   "metadata": {},
   "outputs": [
    {
     "data": {
      "text/plain": [
       "<AxesSubplot:xlabel='total_min'>"
      ]
     },
     "execution_count": 12,
     "metadata": {},
     "output_type": "execute_result"
    },
    {
     "data": {
      "image/png": "[encoded data removed]",
      "text/plain": [
       "<Figure size 432x288 with 1 Axes>"
      ]
     },
     "metadata": {
      "needs_background": "light"
     },
     "output_type": "display_data"
    }
   ],
   "source": [
    "sns.boxplot(x=df_result['total_min'])"
   ]
  },
  {
   "cell_type": "code",
   "execution_count": 13,
   "metadata": {},
   "outputs": [
    {
     "data": {
      "text/plain": [
       "(749, 11)"
      ]
     },
     "execution_count": 13,
     "metadata": {},
     "output_type": "execute_result"
    }
   ],
   "source": [
    "df_result.shape"
   ]
  },
  {
   "cell_type": "code",
   "execution_count": 14,
   "metadata": {},
   "outputs": [
    {
     "data": {
      "text/plain": [
       "<matplotlib.collections.PathCollection at 0x1f502e89070>"
      ]
     },
     "execution_count": 14,
     "metadata": {},
     "output_type": "execute_result"
    },
    {
     "data": {
      "image/png": "[encoded data removed]",
      "text/plain": [
       "<Figure size 432x288 with 1 Axes>"
      ]
     },
     "metadata": {
      "needs_background": "light"
     },
     "output_type": "display_data"
    }
   ],
   "source": [
    "calories = df_result['calories'] < 600\n",
    "df_ml = df_result[calories].copy()\n",
    "df_ml\n",
    "plt.scatter(df_ml['calories'], df_ml['total_min'])"
   ]
  },
  {
   "cell_type": "markdown",
   "metadata": {},
   "source": [
    "We cannot differentiate clusters in this"
   ]
  },
  {
   "cell_type": "code",
   "execution_count": 15,
   "metadata": {},
   "outputs": [],
   "source": [
    "k_range = range(1, 10)\n",
    "sse = []\n",
    "for k in k_range:\n",
    "    km = KMeans(n_clusters=k)\n",
    "    km.fit(df_ml[['calories', 'total_min']])\n",
    "    sse.append(km.inertia_)"
   ]
  },
  {
   "cell_type": "code",
   "execution_count": 16,
   "metadata": {},
   "outputs": [
    {
     "data": {
      "text/plain": [
       "[18312220.337023914,\n",
       " 8820762.99136904,\n",
       " 5970585.567132096,\n",
       " 3870752.7634837045,\n",
       " 3108146.1223940267,\n",
       " 2538694.3979751724,\n",
       " 2170704.491502866,\n",
       " 1858905.845484767,\n",
       " 1638060.8562133468]"
      ]
     },
     "execution_count": 16,
     "metadata": {},
     "output_type": "execute_result"
    }
   ],
   "source": [
    "sse"
   ]
  },
  {
   "cell_type": "code",
   "execution_count": 17,
   "metadata": {},
   "outputs": [
    {
     "data": {
      "text/plain": [
       "[<matplotlib.lines.Line2D at 0x1f502f1f490>]"
      ]
     },
     "execution_count": 17,
     "metadata": {},
     "output_type": "execute_result"
    },
    {
     "data": {
      "image/png": "[encoded data removed]",
      "text/plain": [
       "<Figure size 432x288 with 1 Axes>"
      ]
     },
     "metadata": {
      "needs_background": "light"
     },
     "output_type": "display_data"
    }
   ],
   "source": [
    "plt.xlabel('K')\n",
    "plt.ylabel('Sum of squared error')\n",
    "plt.plot(k_range, sse)"
   ]
  },
  {
   "cell_type": "code",
   "execution_count": 18,
   "metadata": {},
   "outputs": [
    {
     "data": {
      "text/html": [
       "<div>\n",
       "<style scoped>\n",
       "    .dataframe tbody tr th:only-of-type {\n",
       "        vertical-align: middle;\n",
       "    }\n",
       "\n",
       "    .dataframe tbody tr th {\n",
       "        vertical-align: top;\n",
       "    }\n",
       "\n",
       "    .dataframe thead th {\n",
       "        text-align: right;\n",
       "    }\n",
       "</style>\n",
       "<table border=\"1\" class=\"dataframe\">\n",
       "  <thead>\n",
       "    <tr style=\"text-align: right;\">\n",
       "      <th></th>\n",
       "      <th>calories</th>\n",
       "      <th>total_min</th>\n",
       "    </tr>\n",
       "  </thead>\n",
       "  <tbody>\n",
       "    <tr>\n",
       "      <th>0</th>\n",
       "      <td>239.471133</td>\n",
       "      <td>48.554687</td>\n",
       "    </tr>\n",
       "    <tr>\n",
       "      <th>1</th>\n",
       "      <td>86.907333</td>\n",
       "      <td>30.916667</td>\n",
       "    </tr>\n",
       "    <tr>\n",
       "      <th>2</th>\n",
       "      <td>420.123684</td>\n",
       "      <td>69.695906</td>\n",
       "    </tr>\n",
       "    <tr>\n",
       "      <th>3</th>\n",
       "      <td>180.872464</td>\n",
       "      <td>267.275362</td>\n",
       "    </tr>\n",
       "  </tbody>\n",
       "</table>\n",
       "</div>"
      ],
      "text/plain": [
       "     calories   total_min\n",
       "0  239.471133   48.554687\n",
       "1   86.907333   30.916667\n",
       "2  420.123684   69.695906\n",
       "3  180.872464  267.275362"
      ]
     },
     "execution_count": 18,
     "metadata": {},
     "output_type": "execute_result"
    }
   ],
   "source": [
    "X_km = df_ml[['recipe_id','calories', 'total_min', 'rating_outOf_5', 'healthy']].copy()\n",
    "km = KMeans(n_clusters=4)\n",
    "km.fit(X_km[['calories', 'total_min']])\n",
    "centers = pd.DataFrame(km.cluster_centers_, columns=X_km[['calories', 'total_min']].columns)\n",
    "centers"
   ]
  },
  {
   "cell_type": "code",
   "execution_count": 19,
   "metadata": {},
   "outputs": [
    {
     "data": {
      "text/html": [
       "<div>\n",
       "<style scoped>\n",
       "    .dataframe tbody tr th:only-of-type {\n",
       "        vertical-align: middle;\n",
       "    }\n",
       "\n",
       "    .dataframe tbody tr th {\n",
       "        vertical-align: top;\n",
       "    }\n",
       "\n",
       "    .dataframe thead th {\n",
       "        text-align: right;\n",
       "    }\n",
       "</style>\n",
       "<table border=\"1\" class=\"dataframe\">\n",
       "  <thead>\n",
       "    <tr style=\"text-align: right;\">\n",
       "      <th></th>\n",
       "      <th>recipe_id</th>\n",
       "      <th>calories</th>\n",
       "      <th>total_min</th>\n",
       "      <th>rating_outOf_5</th>\n",
       "      <th>healthy</th>\n",
       "      <th>cluster</th>\n",
       "    </tr>\n",
       "  </thead>\n",
       "  <tbody>\n",
       "    <tr>\n",
       "      <th>0</th>\n",
       "      <td>214</td>\n",
       "      <td>290.79</td>\n",
       "      <td>333</td>\n",
       "      <td>3.0</td>\n",
       "      <td>False</td>\n",
       "      <td>3</td>\n",
       "    </tr>\n",
       "    <tr>\n",
       "      <th>1</th>\n",
       "      <td>215</td>\n",
       "      <td>141.01</td>\n",
       "      <td>72</td>\n",
       "      <td>3.0</td>\n",
       "      <td>False</td>\n",
       "      <td>1</td>\n",
       "    </tr>\n",
       "    <tr>\n",
       "      <th>2</th>\n",
       "      <td>216</td>\n",
       "      <td>137.06</td>\n",
       "      <td>18</td>\n",
       "      <td>3.0</td>\n",
       "      <td>False</td>\n",
       "      <td>1</td>\n",
       "    </tr>\n",
       "    <tr>\n",
       "      <th>3</th>\n",
       "      <td>217</td>\n",
       "      <td>81.70</td>\n",
       "      <td>10</td>\n",
       "      <td>3.0</td>\n",
       "      <td>False</td>\n",
       "      <td>1</td>\n",
       "    </tr>\n",
       "    <tr>\n",
       "      <th>4</th>\n",
       "      <td>218</td>\n",
       "      <td>201.23</td>\n",
       "      <td>15</td>\n",
       "      <td>3.0</td>\n",
       "      <td>False</td>\n",
       "      <td>0</td>\n",
       "    </tr>\n",
       "    <tr>\n",
       "      <th>...</th>\n",
       "      <td>...</td>\n",
       "      <td>...</td>\n",
       "      <td>...</td>\n",
       "      <td>...</td>\n",
       "      <td>...</td>\n",
       "      <td>...</td>\n",
       "    </tr>\n",
       "    <tr>\n",
       "      <th>872</th>\n",
       "      <td>1426</td>\n",
       "      <td>200.63</td>\n",
       "      <td>20</td>\n",
       "      <td>3.0</td>\n",
       "      <td>False</td>\n",
       "      <td>0</td>\n",
       "    </tr>\n",
       "    <tr>\n",
       "      <th>873</th>\n",
       "      <td>1427</td>\n",
       "      <td>270.50</td>\n",
       "      <td>25</td>\n",
       "      <td>3.0</td>\n",
       "      <td>False</td>\n",
       "      <td>0</td>\n",
       "    </tr>\n",
       "    <tr>\n",
       "      <th>874</th>\n",
       "      <td>1428</td>\n",
       "      <td>308.10</td>\n",
       "      <td>15</td>\n",
       "      <td>3.0</td>\n",
       "      <td>False</td>\n",
       "      <td>0</td>\n",
       "    </tr>\n",
       "    <tr>\n",
       "      <th>876</th>\n",
       "      <td>1432</td>\n",
       "      <td>418.73</td>\n",
       "      <td>25</td>\n",
       "      <td>3.0</td>\n",
       "      <td>False</td>\n",
       "      <td>2</td>\n",
       "    </tr>\n",
       "    <tr>\n",
       "      <th>877</th>\n",
       "      <td>1436</td>\n",
       "      <td>421.79</td>\n",
       "      <td>5</td>\n",
       "      <td>3.0</td>\n",
       "      <td>True</td>\n",
       "      <td>2</td>\n",
       "    </tr>\n",
       "  </tbody>\n",
       "</table>\n",
       "<p>736 rows × 6 columns</p>\n",
       "</div>"
      ],
      "text/plain": [
       "     recipe_id  calories  total_min  rating_outOf_5  healthy  cluster\n",
       "0          214    290.79        333             3.0    False        3\n",
       "1          215    141.01         72             3.0    False        1\n",
       "2          216    137.06         18             3.0    False        1\n",
       "3          217     81.70         10             3.0    False        1\n",
       "4          218    201.23         15             3.0    False        0\n",
       "..         ...       ...        ...             ...      ...      ...\n",
       "872       1426    200.63         20             3.0    False        0\n",
       "873       1427    270.50         25             3.0    False        0\n",
       "874       1428    308.10         15             3.0    False        0\n",
       "876       1432    418.73         25             3.0    False        2\n",
       "877       1436    421.79          5             3.0     True        2\n",
       "\n",
       "[736 rows x 6 columns]"
      ]
     },
     "execution_count": 19,
     "metadata": {},
     "output_type": "execute_result"
    }
   ],
   "source": [
    "X_km['cluster'] = km.labels_\n",
    "X_km"
   ]
  },
  {
   "cell_type": "code",
   "execution_count": 20,
   "metadata": {},
   "outputs": [
    {
     "data": {
      "text/plain": [
       "<AxesSubplot:xlabel='calories', ylabel='total_min'>"
      ]
     },
     "execution_count": 20,
     "metadata": {},
     "output_type": "execute_result"
    },
    {
     "data": {
      "image/png": "[encoded data removed]",
      "text/plain": [
       "<Figure size 432x288 with 1 Axes>"
      ]
     },
     "metadata": {
      "needs_background": "light"
     },
     "output_type": "display_data"
    }
   ],
   "source": [
    "ax = X_km[X_km['cluster']==0].plot(kind='scatter', x='calories', y='total_min', s=50, c='green', sharex=False)\n",
    "X_km[X_km['cluster']==1].plot(kind='scatter',x='calories',y='total_min',s=50, c='orange', sharex=False, ax = ax)\n",
    "X_km[X_km['cluster']==2].plot(kind='scatter',x='calories',y='total_min',s=50, c='purple', sharex=False, ax = ax)\n",
    "X_km[X_km['cluster']==3].plot(kind='scatter',x='calories',y='total_min',s=50, c='red', sharex=False, ax = ax)\n",
    "centers.plot(kind = 'scatter', x='calories', y='total_min', c=['green','orange','purple', 'red'], s=50, marker='x', sharex=False, ax=ax)"
   ]
  },
  {
   "cell_type": "markdown",
   "metadata": {},
   "source": [
    "1st approach the user chooses some recipes and we should recommend him more recipes from the same cluster.  This way we do not change the actual clusters, but we want to collect ratings for the given recipes."
   ]
  },
  {
   "cell_type": "markdown",
   "metadata": {},
   "source": [
    "1) Scale data that we already have"
   ]
  },
  {
   "cell_type": "code",
   "execution_count": 21,
   "metadata": {},
   "outputs": [
    {
     "data": {
      "text/plain": [
       "<matplotlib.collections.PathCollection at 0x1f5038af2e0>"
      ]
     },
     "execution_count": 21,
     "metadata": {},
     "output_type": "execute_result"
    },
    {
     "data": {
      "image/png": "[encoded data removed]",
      "text/plain": [
       "<Figure size 432x288 with 1 Axes>"
      ]
     },
     "metadata": {
      "needs_background": "light"
     },
     "output_type": "display_data"
    }
   ],
   "source": [
    "scaler = MinMaxScaler()\n",
    "X_km[['calories', 'total_min']] = scaler.fit_transform(X_km[['calories', 'total_min']])\n",
    "plt.scatter(X_km.calories, X_km.total_min)"
   ]
  },
  {
   "cell_type": "code",
   "execution_count": 22,
   "metadata": {},
   "outputs": [],
   "source": [
    "km = KMeans(n_clusters = 4)\n",
    "y_predicted = km.fit_predict(X_km[['calories', 'total_min']])\n",
    "X_km['cluster'] = y_predicted"
   ]
  },
  {
   "cell_type": "code",
   "execution_count": 23,
   "metadata": {},
   "outputs": [
    {
     "data": {
      "text/plain": [
       "array([[0.40938163, 0.0998596 ],\n",
       "       [0.33176544, 0.60473752],\n",
       "       [0.1483618 , 0.05833967],\n",
       "       [0.71999353, 0.13776538]])"
      ]
     },
     "execution_count": 23,
     "metadata": {},
     "output_type": "execute_result"
    }
   ],
   "source": [
    "km.cluster_centers_"
   ]
  },
  {
   "cell_type": "code",
   "execution_count": 24,
   "metadata": {},
   "outputs": [
    {
     "data": {
      "text/plain": [
       "<matplotlib.legend.Legend at 0x1f50397cb50>"
      ]
     },
     "execution_count": 24,
     "metadata": {},
     "output_type": "execute_result"
    },
    {
     "data": {
      "image/png": "[encoded data removed]",
      "text/plain": [
       "<Figure size 432x288 with 1 Axes>"
      ]
     },
     "metadata": {
      "needs_background": "light"
     },
     "output_type": "display_data"
    }
   ],
   "source": [
    "df1 = X_km[X_km.cluster==0]\n",
    "df2 = X_km[X_km.cluster==1]\n",
    "df3 = X_km[X_km.cluster==2]\n",
    "df4 = X_km[X_km.cluster==3]\n",
    "plt.scatter(df1.calories, df1.total_min, color='purple')\n",
    "plt.scatter(df2.calories, df2.total_min, color='orange')\n",
    "plt.scatter(df3.calories, df3.total_min, color='green')\n",
    "plt.scatter(df4.calories, df4.total_min, color='red')\n",
    "plt.scatter(km.cluster_centers_[:,0],km.cluster_centers_[:,1],color='black',marker='x',label='centroid')\n",
    "plt.legend()"
   ]
  },
  {
   "cell_type": "code",
   "execution_count": 25,
   "metadata": {},
   "outputs": [
    {
     "name": "stdout",
     "output_type": "stream",
     "text": [
      "fav recipe      recipe_id  calories  total_min  rating_outOf_5  healthy  cluster\n",
      "769       1168  0.228755   0.090909             3.0     True        2\n",
      "cluster  2\n"
     ]
    },
    {
     "data": {
      "text/html": [
       "<div>\n",
       "<style scoped>\n",
       "    .dataframe tbody tr th:only-of-type {\n",
       "        vertical-align: middle;\n",
       "    }\n",
       "\n",
       "    .dataframe tbody tr th {\n",
       "        vertical-align: top;\n",
       "    }\n",
       "\n",
       "    .dataframe thead th {\n",
       "        text-align: right;\n",
       "    }\n",
       "</style>\n",
       "<table border=\"1\" class=\"dataframe\">\n",
       "  <thead>\n",
       "    <tr style=\"text-align: right;\">\n",
       "      <th></th>\n",
       "      <th>recipe_id</th>\n",
       "      <th>protein</th>\n",
       "      <th>carbo</th>\n",
       "      <th>total_fat</th>\n",
       "      <th>cholestrl</th>\n",
       "      <th>sodium</th>\n",
       "      <th>calories</th>\n",
       "      <th>healthy</th>\n",
       "      <th>title</th>\n",
       "      <th>total_min</th>\n",
       "      <th>rating_outOf_5</th>\n",
       "    </tr>\n",
       "  </thead>\n",
       "  <tbody>\n",
       "    <tr>\n",
       "      <th>809</th>\n",
       "      <td>1208</td>\n",
       "      <td>14.95</td>\n",
       "      <td>12.08</td>\n",
       "      <td>1.87</td>\n",
       "      <td>31.24</td>\n",
       "      <td>375.44</td>\n",
       "      <td>124.93</td>\n",
       "      <td>True</td>\n",
       "      <td>Long Island Fisherman Stew</td>\n",
       "      <td>60</td>\n",
       "      <td>3.0</td>\n",
       "    </tr>\n",
       "    <tr>\n",
       "      <th>777</th>\n",
       "      <td>1176</td>\n",
       "      <td>18.69</td>\n",
       "      <td>6.32</td>\n",
       "      <td>4.01</td>\n",
       "      <td>43.45</td>\n",
       "      <td>652.95</td>\n",
       "      <td>136.14</td>\n",
       "      <td>True</td>\n",
       "      <td>Poached Shark</td>\n",
       "      <td>20</td>\n",
       "      <td>3.0</td>\n",
       "    </tr>\n",
       "    <tr>\n",
       "      <th>804</th>\n",
       "      <td>1203</td>\n",
       "      <td>15.09</td>\n",
       "      <td>6.59</td>\n",
       "      <td>1.45</td>\n",
       "      <td>26.78</td>\n",
       "      <td>161.96</td>\n",
       "      <td>106.10</td>\n",
       "      <td>True</td>\n",
       "      <td>Mushroom Baked Sole</td>\n",
       "      <td>45</td>\n",
       "      <td>3.0</td>\n",
       "    </tr>\n",
       "    <tr>\n",
       "      <th>753</th>\n",
       "      <td>1151</td>\n",
       "      <td>15.35</td>\n",
       "      <td>9.10</td>\n",
       "      <td>0.63</td>\n",
       "      <td>35.15</td>\n",
       "      <td>130.38</td>\n",
       "      <td>103.46</td>\n",
       "      <td>True</td>\n",
       "      <td>Chinese Steamed Fish</td>\n",
       "      <td>25</td>\n",
       "      <td>3.0</td>\n",
       "    </tr>\n",
       "    <tr>\n",
       "      <th>244</th>\n",
       "      <td>567</td>\n",
       "      <td>10.58</td>\n",
       "      <td>14.69</td>\n",
       "      <td>4.76</td>\n",
       "      <td>17.47</td>\n",
       "      <td>26.84</td>\n",
       "      <td>143.96</td>\n",
       "      <td>True</td>\n",
       "      <td>Oriental Pork and Beans</td>\n",
       "      <td>35</td>\n",
       "      <td>3.0</td>\n",
       "    </tr>\n",
       "    <tr>\n",
       "      <th>684</th>\n",
       "      <td>1082</td>\n",
       "      <td>12.50</td>\n",
       "      <td>14.36</td>\n",
       "      <td>5.54</td>\n",
       "      <td>22.69</td>\n",
       "      <td>140.20</td>\n",
       "      <td>157.31</td>\n",
       "      <td>True</td>\n",
       "      <td>Chicken Pocket Sandwich</td>\n",
       "      <td>20</td>\n",
       "      <td>3.0</td>\n",
       "    </tr>\n",
       "    <tr>\n",
       "      <th>301</th>\n",
       "      <td>624</td>\n",
       "      <td>10.86</td>\n",
       "      <td>10.08</td>\n",
       "      <td>6.84</td>\n",
       "      <td>114.62</td>\n",
       "      <td>558.71</td>\n",
       "      <td>145.32</td>\n",
       "      <td>True</td>\n",
       "      <td>Greek Beans 'n Eggs</td>\n",
       "      <td>12</td>\n",
       "      <td>3.0</td>\n",
       "    </tr>\n",
       "    <tr>\n",
       "      <th>769</th>\n",
       "      <td>1168</td>\n",
       "      <td>16.13</td>\n",
       "      <td>12.43</td>\n",
       "      <td>2.14</td>\n",
       "      <td>21.12</td>\n",
       "      <td>303.59</td>\n",
       "      <td>133.52</td>\n",
       "      <td>True</td>\n",
       "      <td>Crunchy Tuna Salad</td>\n",
       "      <td>45</td>\n",
       "      <td>3.0</td>\n",
       "    </tr>\n",
       "    <tr>\n",
       "      <th>386</th>\n",
       "      <td>709</td>\n",
       "      <td>8.12</td>\n",
       "      <td>21.46</td>\n",
       "      <td>4.52</td>\n",
       "      <td>26.73</td>\n",
       "      <td>183.94</td>\n",
       "      <td>159.00</td>\n",
       "      <td>False</td>\n",
       "      <td>Asparagus and Herb-Scrambled Egg with Flour To...</td>\n",
       "      <td>15</td>\n",
       "      <td>3.0</td>\n",
       "    </tr>\n",
       "    <tr>\n",
       "      <th>837</th>\n",
       "      <td>1366</td>\n",
       "      <td>0.60</td>\n",
       "      <td>2.65</td>\n",
       "      <td>15.49</td>\n",
       "      <td>41.57</td>\n",
       "      <td>180.82</td>\n",
       "      <td>152.40</td>\n",
       "      <td>False</td>\n",
       "      <td>-Garlic Bread-</td>\n",
       "      <td>35</td>\n",
       "      <td>3.0</td>\n",
       "    </tr>\n",
       "  </tbody>\n",
       "</table>\n",
       "</div>"
      ],
      "text/plain": [
       "    recipe_id  protein  carbo  total_fat  cholestrl  sodium  calories healthy  \\\n",
       "809      1208    14.95  12.08       1.87      31.24  375.44    124.93    True   \n",
       "777      1176    18.69   6.32       4.01      43.45  652.95    136.14    True   \n",
       "804      1203    15.09   6.59       1.45      26.78  161.96    106.10    True   \n",
       "753      1151    15.35   9.10       0.63      35.15  130.38    103.46    True   \n",
       "244       567    10.58  14.69       4.76      17.47   26.84    143.96    True   \n",
       "684      1082    12.50  14.36       5.54      22.69  140.20    157.31    True   \n",
       "301       624    10.86  10.08       6.84     114.62  558.71    145.32    True   \n",
       "769      1168    16.13  12.43       2.14      21.12  303.59    133.52    True   \n",
       "386       709     8.12  21.46       4.52      26.73  183.94    159.00   False   \n",
       "837      1366     0.60   2.65      15.49      41.57  180.82    152.40   False   \n",
       "\n",
       "                                                 title total_min  \\\n",
       "809                         Long Island Fisherman Stew        60   \n",
       "777                                      Poached Shark        20   \n",
       "804                                Mushroom Baked Sole        45   \n",
       "753                               Chinese Steamed Fish        25   \n",
       "244                            Oriental Pork and Beans        35   \n",
       "684                            Chicken Pocket Sandwich        20   \n",
       "301                                Greek Beans 'n Eggs        12   \n",
       "769                                 Crunchy Tuna Salad        45   \n",
       "386  Asparagus and Herb-Scrambled Egg with Flour To...        15   \n",
       "837                                     -Garlic Bread-        35   \n",
       "\n",
       "     rating_outOf_5  \n",
       "809             3.0  \n",
       "777             3.0  \n",
       "804             3.0  \n",
       "753             3.0  \n",
       "244             3.0  \n",
       "684             3.0  \n",
       "301             3.0  \n",
       "769             3.0  \n",
       "386             3.0  \n",
       "837             3.0  "
      ]
     },
     "execution_count": 25,
     "metadata": {},
     "output_type": "execute_result"
    }
   ],
   "source": [
    "list_of_recipeId = X_km['recipe_id'].to_list()\n",
    "#from within this list let`s randomly choose 10 recipes\n",
    "#then calculate what is the most popular cluster from those 10 recipes\n",
    "#and recommend from that one\n",
    "\n",
    "#User chooses 1 recipe\n",
    "user_fav_recipe = X_km.sample()\n",
    "print('fav recipe', user_fav_recipe)\n",
    "recipe_cluster = user_fav_recipe.iloc[0]['cluster']\n",
    "print('cluster ', recipe_cluster)\n",
    "\n",
    "#recommend 10 recipes from that cluster\n",
    "list_recommendation = X_km[X_km['cluster'] == recipe_cluster]\n",
    "\n",
    "#recommend 80% of healthy recipes if exist\n",
    "list_healthy_recommendation = list_recommendation[list_recommendation['healthy'] == True]\n",
    "list_nonHealthy_recommendation = list_recommendation[list_recommendation['healthy'] == False]\n",
    "healthy_length = len(list_healthy_recommendation)\n",
    "nonHealthy_length = -1\n",
    "\n",
    "#----------------------\n",
    "#when randomly picking 10 recipes\n",
    "if healthy_length > 7:\n",
    "    random_healthy_recipes = list_healthy_recommendation.sample(8)\n",
    "    nonHealthy_length = 2\n",
    "else:\n",
    "    random_healthy_recipes = list_healthy_recommendation.sample(healthy_length)\n",
    "    nonHealthy_length = 10 - healthy_length\n",
    "\n",
    "random_nonHealthy_recipes = list_nonHealthy_recommendation.sample(nonHealthy_length)\n",
    "\n",
    "frames = [random_healthy_recipes, random_nonHealthy_recipes]\n",
    "df_recommend = pd.concat(frames)\n",
    "list_Ids = df_recommend['recipe_id'].to_list()\n",
    "\n",
    "\n",
    "#Recommend recipes from the df_ml table\n",
    "column_nam = df_ml.columns\n",
    "full_recipe_recomm = pd.DataFrame(columns = column_nam)\n",
    "for i in list_Ids:\n",
    "    full_recipe_recomm = full_recipe_recomm.append(df_ml[df_ml['recipe_id'] == i], ignore_index=False)\n",
    "full_recipe_recomm"
   ]
  },
  {
   "cell_type": "code",
   "execution_count": 26,
   "metadata": {},
   "outputs": [
    {
     "name": "stdout",
     "output_type": "stream",
     "text": [
      "Recipe: Long Island Fisherman Stew\n",
      "Rating: \n",
      "5\n",
      "Recipe: Poached Shark\n",
      "Rating: \n",
      "4.5\n",
      "Recipe: Mushroom Baked Sole\n",
      "Rating: \n",
      "3\n",
      "Recipe: Chinese Steamed Fish\n",
      "Rating: \n",
      "3.5\n",
      "Recipe: Oriental Pork and Beans\n",
      "Rating: \n",
      "2\n",
      "Recipe: Chicken Pocket Sandwich\n",
      "Rating: \n",
      "3\n",
      "Recipe: Greek Beans 'n Eggs\n",
      "Rating: \n",
      "1\n",
      "Recipe: Crunchy Tuna Salad\n",
      "Rating: \n",
      "4\n",
      "Recipe: Asparagus and Herb-Scrambled Egg with Flour Tortillas\n",
      "Rating: \n",
      "1\n",
      "Recipe: -Garlic Bread-\n",
      "Rating: \n",
      "1\n"
     ]
    }
   ],
   "source": [
    "#Rate these first 10 recommendations\n",
    "uInput = \"\"\n",
    "count = 0\n",
    "recipes = full_recipe_recomm['title'].to_list()\n",
    "recipes1 = full_recipe_recomm[full_recipe_recomm['title'] == recipes[0]]\n",
    "recipes1\n",
    "while uInput != 'x' and count < len(recipes):\n",
    "    currentRecipe = full_recipe_recomm[full_recipe_recomm['title'] == recipes[count]]\n",
    "    print(\"Recipe: \" + recipes[count])\n",
    "    print(\"Rating: \")\n",
    "    uInput = input()\n",
    "    if uInput != 'x':\n",
    "        if float(uInput) > 5 or float(uInput) < 0:\n",
    "            print(\"Rating needs to be between 0-5. Try again\")\n",
    "            uInput = input()\n",
    "    if uInput != 'x':\n",
    "        recipe_id = currentRecipe['recipe_id'].iloc[0]\n",
    "        df_ml.loc[currentRecipe.index, df_ml.columns.get_loc(\"rating_outOf_5\")] = float(uInput)\n",
    "    count += 1"
   ]
  },
  {
   "cell_type": "code",
   "execution_count": 27,
   "metadata": {},
   "outputs": [],
   "source": [
    "#give ratings for more recipes from the data set"
   ]
  },
  {
   "cell_type": "code",
   "execution_count": 34,
   "metadata": {},
   "outputs": [],
   "source": [
    "def recommendRecipe(df):          \n",
    "    \n",
    "    #apply scaling\n",
    "    scaler = MinMaxScaler()\n",
    "    X_second_km = df.copy()\n",
    "    X_second_km[['calories', 'total_min', 'rating_outOf_5']] = scaler.fit_transform(df[['calories', 'total_min', 'rating_outOf_5']])\n",
    "    km = KMeans(n_clusters = 3)\n",
    "    y_predicted = km.fit_predict(X_second_km[['calories', 'total_min', 'rating_outOf_5']])\n",
    "    X_second_km['cluster'] = y_predicted\n",
    "    df = df[df['rating_outOf_5'] > 2.5]\n",
    "    if len(df[df['healthy'] == True]) > 2:\n",
    "        df = df[df['healthy'] == True]\n",
    "    recipe = df.sample()\n",
    "    \n",
    "    return recipe"
   ]
  },
  {
   "cell_type": "code",
   "execution_count": null,
   "metadata": {},
   "outputs": [
    {
     "name": "stdout",
     "output_type": "stream",
     "text": [
      "Recipe: Brunch Rice\n",
      "Rating: \n",
      "4\n",
      "Recipe: Pork-Sweet Potato Stir-Fry\n",
      "Rating: \n",
      "2\n",
      "Recipe:  Tomato, Pork and Pepper Kabob \n",
      "Rating: \n",
      "2\n",
      "Recipe: Quick Lamb and Pasta Dinner Skillet\n",
      "Rating: \n",
      "3.5\n",
      "Recipe: V-Egg-ie Good Pocket Sandwich\n",
      "Rating: \n",
      "4\n",
      "Recipe: T.B.P.B. Smoothie\n",
      "Rating: \n",
      "4\n",
      "Recipe: Sesame Chicken Salad\n",
      "Rating: \n",
      "5\n",
      "Recipe: Gulf Coast Stir-Fry\n",
      "Rating: \n",
      "4\n",
      "Recipe: Pasta-Veggie Scramble\n",
      "Rating: \n",
      "4.5\n",
      "Recipe: T.B.P.B. Smoothie\n",
      "Rating: \n",
      "5\n",
      "Recipe: -Navy Beans-\n",
      "Rating: \n",
      "3.5\n",
      "Recipe: Apple Pie Turkey Salad\n",
      "Rating: \n",
      "4\n",
      "Recipe: Top Hat Pizza\n",
      "Rating: \n",
      "1\n",
      "Recipe: Long Island Fisherman Stew\n",
      "Rating: \n",
      "2\n",
      "Recipe:  Fish Baked with Summer Squash, Onion and Herbs \n",
      "Rating: \n",
      "2\n",
      "Recipe: Fruitful Sole and Nectarines Remoulade\n",
      "Rating: \n",
      "3\n",
      "Recipe: Crunchy Tuna Salad\n",
      "Rating: \n",
      "5\n",
      "Recipe: Warm Moroccan Potato Lamb Salad\n",
      "Rating: \n",
      "5\n",
      "Recipe: Western Beans and Rice\n",
      "Rating: \n",
      "5\n",
      "Recipe: Chicken Lentil Salad\n",
      "Rating: \n",
      "4.5\n",
      "Recipe: Fresh Tomato and Red Pepper Sauce\n",
      "Rating: \n",
      "1\n",
      "Recipe:  White Bean, Olive and Tomato Salad \n",
      "Rating: \n",
      "2\n",
      "Recipe: Dilled Potato Rounds Fish Fillets with Creamy Mustard Sauce and Tomatoes\n",
      "Rating: \n",
      "2\n",
      "Recipe: Stir Fry Vegetables\n",
      "Rating: \n",
      "5\n",
      "Recipe: Spring Butterflies\n",
      "Rating: \n",
      "3\n",
      "Recipe: Moroccan Egg Salad\n",
      "Rating: \n",
      "3\n",
      "Recipe: Sheepherder's Hearty Soup\n",
      "Rating: \n",
      "4\n",
      "Recipe: Chicken Pocket Sandwich\n",
      "Rating: \n"
     ]
    }
   ],
   "source": [
    "uInput = \"\"\n",
    "count = 0\n",
    "recipes = full_recipe_recomm['title'].to_list()\n",
    "recipes1 = full_recipe_recomm[full_recipe_recomm['title'] == recipes[0]]\n",
    "recipes1\n",
    "while uInput != 'x':\n",
    "    currentRecipe = recommendRecipe(df_ml.copy())\n",
    "    #currentRecipe\n",
    "    print(\"Recipe: \" + currentRecipe['title'].iloc[0])\n",
    "    print(\"Rating: \")\n",
    "    uInput = input()\n",
    "    if uInput != 'x':\n",
    "        df_ml.at[currentRecipe.index, 'rating_outOf_5'] = float(uInput)"
   ]
  },
  {
   "cell_type": "code",
   "execution_count": null,
   "metadata": {},
   "outputs": [],
   "source": []
  }
 ],
 "metadata": {
  "kernelspec": {
   "display_name": "Python 3",
   "language": "python",
   "name": "python3"
  },
  "language_info": {
   "codemirror_mode": {
    "name": "ipython",
    "version": 3
   },
   "file_extension": ".py",
   "mimetype": "text/x-python",
   "name": "python",
   "nbconvert_exporter": "python",
   "pygments_lexer": "ipython3",
   "version": "3.8.5"
  }
 },
 "nbformat": 4,
 "nbformat_minor": 4
}
