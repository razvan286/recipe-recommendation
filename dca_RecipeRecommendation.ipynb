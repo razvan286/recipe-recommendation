{
 "cells": [
  {
   "cell_type": "markdown",
   "metadata": {},
   "source": [
    " <img src=\"./markdown/reco.jpg\" alt=\"Recommendation system\" style=\"display: block;\n",
    "  margin-left: auto;\n",
    "  margin-right: auto;\n",
    "  width: 80%;height:350px\"> "
   ]
  },
  {
   "cell_type": "markdown",
   "metadata": {},
   "source": [
    "<h1 style=\"text-align:center;font-size:35px;\">Recipe recommendation system</h1>\n",
    "<br>"
   ]
  },
  {
   "cell_type": "markdown",
   "metadata": {},
   "source": [
    "<h1 style=\"font-size:30px;color:#008abc;\">Introduction</h1>"
   ]
  },
  {
   "cell_type": "markdown",
   "metadata": {},
   "source": [
    "#### The goal of this project is to ultimately create a personalized recipe recommendation system that learns from the choice of its users. \n",
    "##### Data source and fields explanation:https://data.world/atlas-query/cookbook\n",
    "\n",
    "\n",
    "##### Due to feasibility limitations, the recommender system will not be able to track users` preferences so that we will come up with a new goal.\n",
    "\n",
    "## Healthy recommender system \n",
    "##### This system will keep track of the ingredients from each recipe, also will keep track of the important and needed intake of nutrients for a healthy nutrition.\n",
    "<br>"
   ]
  },
  {
   "cell_type": "markdown",
   "metadata": {},
   "source": [
    "### Import required Libraries."
   ]
  },
  {
   "cell_type": "code",
   "execution_count": 140,
   "metadata": {},
   "outputs": [],
   "source": [
    "import pandas as pd\n",
    "import numpy as np\n",
    "import matplotlib.pyplot as plt\n",
    "import seaborn as sns"
   ]
  },
  {
   "cell_type": "markdown",
   "metadata": {},
   "source": [
    "### Load data from all 4 tables"
   ]
  },
  {
   "cell_type": "code",
   "execution_count": 141,
   "metadata": {},
   "outputs": [],
   "source": [
    "df_ingredients = pd.read_csv('./data/ingredient.csv')\n",
    "df_nutrition = pd.read_csv('./data/nutrition.csv')\n",
    "df_quantity = pd.read_csv('./data/quantity.csv')\n",
    "df_recipe = pd.read_csv('./data/recipe.csv')"
   ]
  },
  {
   "cell_type": "markdown",
   "metadata": {},
   "source": [
    "<br>\n",
    "<br>\n",
    "<h1 style=\"font-size:30px;color:#008abc;\">Data Cleaning and Aggregation (DCA)</h1>"
   ]
  },
  {
   "cell_type": "markdown",
   "metadata": {},
   "source": [
    "## Ingredients table\n"
   ]
  },
  {
   "cell_type": "code",
   "execution_count": 142,
   "metadata": {},
   "outputs": [
    {
     "data": {
      "text/html": [
       "<div>\n",
       "<style scoped>\n",
       "    .dataframe tbody tr th:only-of-type {\n",
       "        vertical-align: middle;\n",
       "    }\n",
       "\n",
       "    .dataframe tbody tr th {\n",
       "        vertical-align: top;\n",
       "    }\n",
       "\n",
       "    .dataframe thead th {\n",
       "        text-align: right;\n",
       "    }\n",
       "</style>\n",
       "<table border=\"1\" class=\"dataframe\">\n",
       "  <thead>\n",
       "    <tr style=\"text-align: right;\">\n",
       "      <th></th>\n",
       "      <th>ingredient_id</th>\n",
       "      <th>category</th>\n",
       "      <th>name</th>\n",
       "      <th>plural</th>\n",
       "    </tr>\n",
       "  </thead>\n",
       "  <tbody>\n",
       "    <tr>\n",
       "      <th>0</th>\n",
       "      <td>1</td>\n",
       "      <td>dairy</td>\n",
       "      <td>1% lowfat cottage cheese</td>\n",
       "      <td>NaN</td>\n",
       "    </tr>\n",
       "    <tr>\n",
       "      <th>1</th>\n",
       "      <td>6</td>\n",
       "      <td>dairy</td>\n",
       "      <td>1% lowfat milk</td>\n",
       "      <td>NaN</td>\n",
       "    </tr>\n",
       "    <tr>\n",
       "      <th>2</th>\n",
       "      <td>10</td>\n",
       "      <td>Mexican products</td>\n",
       "      <td>10-inch flour tortilla</td>\n",
       "      <td>s</td>\n",
       "    </tr>\n",
       "    <tr>\n",
       "      <th>3</th>\n",
       "      <td>11</td>\n",
       "      <td>cereals</td>\n",
       "      <td>100% bran cereal</td>\n",
       "      <td>NaN</td>\n",
       "    </tr>\n",
       "    <tr>\n",
       "      <th>4</th>\n",
       "      <td>12</td>\n",
       "      <td>dairy</td>\n",
       "      <td>2% lowfat milk</td>\n",
       "      <td>NaN</td>\n",
       "    </tr>\n",
       "  </tbody>\n",
       "</table>\n",
       "</div>"
      ],
      "text/plain": [
       "   ingredient_id          category                      name plural\n",
       "0              1             dairy  1% lowfat cottage cheese    NaN\n",
       "1              6             dairy            1% lowfat milk    NaN\n",
       "2             10  Mexican products    10-inch flour tortilla      s\n",
       "3             11           cereals          100% bran cereal    NaN\n",
       "4             12             dairy            2% lowfat milk    NaN"
      ]
     },
     "execution_count": 142,
     "metadata": {},
     "output_type": "execute_result"
    }
   ],
   "source": [
    "df_ingredients.head()"
   ]
  },
  {
   "cell_type": "markdown",
   "metadata": {},
   "source": [
    "#### With our end goal in mind, we can make a few assumptions:\n",
    "<ul>\n",
    "    <li>we keep 'category' column because some categories may be considered healthy</li>\n",
    "    <li>we cannot say anything about the 'name', but we keep it for now</li>\n",
    "    <li>we drop 'plural' column, because in a recipe we understand which ingredient to use without checking its plural form</li>\n",
    "</ul>"
   ]
  },
  {
   "cell_type": "code",
   "execution_count": 143,
   "metadata": {},
   "outputs": [],
   "source": [
    "df_ingredients = df_ingredients.drop(['plural'], axis=1)"
   ]
  },
  {
   "cell_type": "markdown",
   "metadata": {},
   "source": [
    "<br>\n",
    "\n",
    "## Nutrition table"
   ]
  },
  {
   "cell_type": "code",
   "execution_count": 144,
   "metadata": {},
   "outputs": [
    {
     "data": {
      "text/html": [
       "<div>\n",
       "<style scoped>\n",
       "    .dataframe tbody tr th:only-of-type {\n",
       "        vertical-align: middle;\n",
       "    }\n",
       "\n",
       "    .dataframe tbody tr th {\n",
       "        vertical-align: top;\n",
       "    }\n",
       "\n",
       "    .dataframe thead th {\n",
       "        text-align: right;\n",
       "    }\n",
       "</style>\n",
       "<table border=\"1\" class=\"dataframe\">\n",
       "  <thead>\n",
       "    <tr style=\"text-align: right;\">\n",
       "      <th></th>\n",
       "      <th>recipe_id</th>\n",
       "      <th>protein</th>\n",
       "      <th>carbo</th>\n",
       "      <th>alcohol</th>\n",
       "      <th>total_fat</th>\n",
       "      <th>sat_fat</th>\n",
       "      <th>cholestrl</th>\n",
       "      <th>sodium</th>\n",
       "      <th>iron</th>\n",
       "      <th>vitamin_c</th>\n",
       "      <th>vitamin_a</th>\n",
       "      <th>fiber</th>\n",
       "      <th>pcnt_cal_carb</th>\n",
       "      <th>pcnt_cal_fat</th>\n",
       "      <th>pcnt_cal_prot</th>\n",
       "      <th>calories</th>\n",
       "    </tr>\n",
       "  </thead>\n",
       "  <tbody>\n",
       "    <tr>\n",
       "      <th>0</th>\n",
       "      <td>214</td>\n",
       "      <td>5.47</td>\n",
       "      <td>41.29</td>\n",
       "      <td>0.00</td>\n",
       "      <td>11.53</td>\n",
       "      <td>2.21</td>\n",
       "      <td>1.39</td>\n",
       "      <td>260.78</td>\n",
       "      <td>0.81</td>\n",
       "      <td>8.89</td>\n",
       "      <td>586.20</td>\n",
       "      <td>0.87</td>\n",
       "      <td>56.80</td>\n",
       "      <td>35.68</td>\n",
       "      <td>7.53</td>\n",
       "      <td>290.79</td>\n",
       "    </tr>\n",
       "    <tr>\n",
       "      <th>1</th>\n",
       "      <td>215</td>\n",
       "      <td>5.70</td>\n",
       "      <td>23.75</td>\n",
       "      <td>1.93</td>\n",
       "      <td>1.08</td>\n",
       "      <td>0.58</td>\n",
       "      <td>3.48</td>\n",
       "      <td>46.17</td>\n",
       "      <td>0.57</td>\n",
       "      <td>13.02</td>\n",
       "      <td>2738.24</td>\n",
       "      <td>0.62</td>\n",
       "      <td>67.38</td>\n",
       "      <td>6.89</td>\n",
       "      <td>16.17</td>\n",
       "      <td>141.01</td>\n",
       "    </tr>\n",
       "    <tr>\n",
       "      <th>2</th>\n",
       "      <td>216</td>\n",
       "      <td>4.90</td>\n",
       "      <td>26.88</td>\n",
       "      <td>0.00</td>\n",
       "      <td>1.10</td>\n",
       "      <td>0.58</td>\n",
       "      <td>3.46</td>\n",
       "      <td>41.79</td>\n",
       "      <td>0.37</td>\n",
       "      <td>6.13</td>\n",
       "      <td>1521.10</td>\n",
       "      <td>0.34</td>\n",
       "      <td>78.45</td>\n",
       "      <td>7.24</td>\n",
       "      <td>14.30</td>\n",
       "      <td>137.06</td>\n",
       "    </tr>\n",
       "    <tr>\n",
       "      <th>3</th>\n",
       "      <td>217</td>\n",
       "      <td>1.77</td>\n",
       "      <td>18.17</td>\n",
       "      <td>0.00</td>\n",
       "      <td>0.21</td>\n",
       "      <td>0.06</td>\n",
       "      <td>0.00</td>\n",
       "      <td>14.01</td>\n",
       "      <td>0.19</td>\n",
       "      <td>8.79</td>\n",
       "      <td>478.09</td>\n",
       "      <td>0.69</td>\n",
       "      <td>88.98</td>\n",
       "      <td>2.35</td>\n",
       "      <td>8.67</td>\n",
       "      <td>81.70</td>\n",
       "    </tr>\n",
       "    <tr>\n",
       "      <th>4</th>\n",
       "      <td>218</td>\n",
       "      <td>1.38</td>\n",
       "      <td>36.63</td>\n",
       "      <td>0.00</td>\n",
       "      <td>5.47</td>\n",
       "      <td>3.46</td>\n",
       "      <td>10.36</td>\n",
       "      <td>50.22</td>\n",
       "      <td>0.66</td>\n",
       "      <td>0.16</td>\n",
       "      <td>229.16</td>\n",
       "      <td>1.05</td>\n",
       "      <td>72.81</td>\n",
       "      <td>24.46</td>\n",
       "      <td>2.73</td>\n",
       "      <td>201.23</td>\n",
       "    </tr>\n",
       "  </tbody>\n",
       "</table>\n",
       "</div>"
      ],
      "text/plain": [
       "   recipe_id  protein  carbo  alcohol  total_fat  sat_fat  cholestrl  sodium  \\\n",
       "0        214     5.47  41.29     0.00      11.53     2.21       1.39  260.78   \n",
       "1        215     5.70  23.75     1.93       1.08     0.58       3.48   46.17   \n",
       "2        216     4.90  26.88     0.00       1.10     0.58       3.46   41.79   \n",
       "3        217     1.77  18.17     0.00       0.21     0.06       0.00   14.01   \n",
       "4        218     1.38  36.63     0.00       5.47     3.46      10.36   50.22   \n",
       "\n",
       "   iron  vitamin_c  vitamin_a  fiber  pcnt_cal_carb  pcnt_cal_fat  \\\n",
       "0  0.81       8.89     586.20   0.87          56.80         35.68   \n",
       "1  0.57      13.02    2738.24   0.62          67.38          6.89   \n",
       "2  0.37       6.13    1521.10   0.34          78.45          7.24   \n",
       "3  0.19       8.79     478.09   0.69          88.98          2.35   \n",
       "4  0.66       0.16     229.16   1.05          72.81         24.46   \n",
       "\n",
       "   pcnt_cal_prot  calories  \n",
       "0           7.53    290.79  \n",
       "1          16.17    141.01  \n",
       "2          14.30    137.06  \n",
       "3           8.67     81.70  \n",
       "4           2.73    201.23  "
      ]
     },
     "execution_count": 144,
     "metadata": {},
     "output_type": "execute_result"
    }
   ],
   "source": [
    "df_nutrition.head()"
   ]
  },
  {
   "cell_type": "markdown",
   "metadata": {},
   "source": [
    "#### By making some research on what does it make a recipe to be considered healthy, we found that:\n",
    "<ul>\n",
    "    <li>protein</li>\n",
    "    <li>carbohydrate</li>\n",
    "    <li>fat</li>\n",
    "    <li>cholesterol</li>\n",
    "    <li>sodium</li>\n",
    "    <li>calories</li>\n",
    "</ul>\n",
    "\n",
    "##### These nutrients mentioned above usually can measure how healthy a recipe is. Reference (https://www.abc.net.au/health/library/stories/2007/04/23/1904178.htm)\n",
    "<br>\n",
    "Taking these into account, we create a new Data Frame which contains all the 'healthy' nutrients mentioned above."
   ]
  },
  {
   "cell_type": "code",
   "execution_count": 145,
   "metadata": {},
   "outputs": [],
   "source": [
    "df_nutrition_healthy = df_nutrition.drop(['alcohol','sat_fat', 'iron', 'vitamin_c', 'vitamin_a',\n",
    "                                         'fiber', 'pcnt_cal_carb', 'pcnt_cal_fat', 'pcnt_cal_prot'], axis=1)"
   ]
  },
  {
   "cell_type": "markdown",
   "metadata": {},
   "source": [
    "<br>\n",
    "\n",
    "## Quantity table"
   ]
  },
  {
   "cell_type": "code",
   "execution_count": 146,
   "metadata": {},
   "outputs": [
    {
     "data": {
      "text/html": [
       "<div>\n",
       "<style scoped>\n",
       "    .dataframe tbody tr th:only-of-type {\n",
       "        vertical-align: middle;\n",
       "    }\n",
       "\n",
       "    .dataframe tbody tr th {\n",
       "        vertical-align: top;\n",
       "    }\n",
       "\n",
       "    .dataframe thead th {\n",
       "        text-align: right;\n",
       "    }\n",
       "</style>\n",
       "<table border=\"1\" class=\"dataframe\">\n",
       "  <thead>\n",
       "    <tr style=\"text-align: right;\">\n",
       "      <th></th>\n",
       "      <th>quantity_id</th>\n",
       "      <th>recipe_id</th>\n",
       "      <th>ingredient_id</th>\n",
       "      <th>max_qty</th>\n",
       "      <th>min_qty</th>\n",
       "      <th>unit</th>\n",
       "      <th>preparation</th>\n",
       "      <th>optional</th>\n",
       "    </tr>\n",
       "  </thead>\n",
       "  <tbody>\n",
       "    <tr>\n",
       "      <th>0</th>\n",
       "      <td>1</td>\n",
       "      <td>214</td>\n",
       "      <td>1613</td>\n",
       "      <td>2.00</td>\n",
       "      <td>2.00</td>\n",
       "      <td>cup(s)</td>\n",
       "      <td>NaN</td>\n",
       "      <td>False</td>\n",
       "    </tr>\n",
       "    <tr>\n",
       "      <th>1</th>\n",
       "      <td>2</td>\n",
       "      <td>214</td>\n",
       "      <td>3334</td>\n",
       "      <td>0.25</td>\n",
       "      <td>0.25</td>\n",
       "      <td>cup(s)</td>\n",
       "      <td>NaN</td>\n",
       "      <td>False</td>\n",
       "    </tr>\n",
       "    <tr>\n",
       "      <th>2</th>\n",
       "      <td>3</td>\n",
       "      <td>214</td>\n",
       "      <td>2222</td>\n",
       "      <td>0.50</td>\n",
       "      <td>0.50</td>\n",
       "      <td>cup(s)</td>\n",
       "      <td>melted</td>\n",
       "      <td>False</td>\n",
       "    </tr>\n",
       "    <tr>\n",
       "      <th>3</th>\n",
       "      <td>4</td>\n",
       "      <td>214</td>\n",
       "      <td>2797</td>\n",
       "      <td>0.25</td>\n",
       "      <td>0.25</td>\n",
       "      <td>cup(s)</td>\n",
       "      <td>or water</td>\n",
       "      <td>False</td>\n",
       "    </tr>\n",
       "    <tr>\n",
       "      <th>4</th>\n",
       "      <td>5</td>\n",
       "      <td>214</td>\n",
       "      <td>3567</td>\n",
       "      <td>3.00</td>\n",
       "      <td>3.00</td>\n",
       "      <td>teaspoon(s)</td>\n",
       "      <td>NaN</td>\n",
       "      <td>False</td>\n",
       "    </tr>\n",
       "  </tbody>\n",
       "</table>\n",
       "</div>"
      ],
      "text/plain": [
       "   quantity_id  recipe_id  ingredient_id  max_qty  min_qty         unit  \\\n",
       "0            1        214           1613     2.00     2.00       cup(s)   \n",
       "1            2        214           3334     0.25     0.25       cup(s)   \n",
       "2            3        214           2222     0.50     0.50       cup(s)   \n",
       "3            4        214           2797     0.25     0.25       cup(s)   \n",
       "4            5        214           3567     3.00     3.00  teaspoon(s)   \n",
       "\n",
       "  preparation  optional  \n",
       "0         NaN     False  \n",
       "1         NaN     False  \n",
       "2      melted     False  \n",
       "3    or water     False  \n",
       "4         NaN     False  "
      ]
     },
     "execution_count": 146,
     "metadata": {},
     "output_type": "execute_result"
    }
   ],
   "source": [
    "df_quantity.head()"
   ]
  },
  {
   "cell_type": "code",
   "execution_count": 147,
   "metadata": {
    "scrolled": true
   },
   "outputs": [
    {
     "data": {
      "text/html": [
       "<div>\n",
       "<style scoped>\n",
       "    .dataframe tbody tr th:only-of-type {\n",
       "        vertical-align: middle;\n",
       "    }\n",
       "\n",
       "    .dataframe tbody tr th {\n",
       "        vertical-align: top;\n",
       "    }\n",
       "\n",
       "    .dataframe thead th {\n",
       "        text-align: right;\n",
       "    }\n",
       "</style>\n",
       "<table border=\"1\" class=\"dataframe\">\n",
       "  <thead>\n",
       "    <tr style=\"text-align: right;\">\n",
       "      <th></th>\n",
       "      <th>quantity_id</th>\n",
       "      <th>recipe_id</th>\n",
       "      <th>ingredient_id</th>\n",
       "      <th>max_qty</th>\n",
       "      <th>min_qty</th>\n",
       "      <th>unit</th>\n",
       "      <th>preparation</th>\n",
       "      <th>optional</th>\n",
       "    </tr>\n",
       "  </thead>\n",
       "  <tbody>\n",
       "    <tr>\n",
       "      <th>4622</th>\n",
       "      <td>5785</td>\n",
       "      <td>1209</td>\n",
       "      <td>2019</td>\n",
       "      <td>1.00</td>\n",
       "      <td>1.00</td>\n",
       "      <td>teaspoon(s)</td>\n",
       "      <td>NaN</td>\n",
       "      <td>False</td>\n",
       "    </tr>\n",
       "    <tr>\n",
       "      <th>1760</th>\n",
       "      <td>2175</td>\n",
       "      <td>570</td>\n",
       "      <td>2523</td>\n",
       "      <td>0.25</td>\n",
       "      <td>0.25</td>\n",
       "      <td>cup(s)</td>\n",
       "      <td>grated</td>\n",
       "      <td>False</td>\n",
       "    </tr>\n",
       "    <tr>\n",
       "      <th>2443</th>\n",
       "      <td>3054</td>\n",
       "      <td>667</td>\n",
       "      <td>2282</td>\n",
       "      <td>3.00</td>\n",
       "      <td>3.00</td>\n",
       "      <td>cup(s)</td>\n",
       "      <td>chopped</td>\n",
       "      <td>False</td>\n",
       "    </tr>\n",
       "    <tr>\n",
       "      <th>4903</th>\n",
       "      <td>6132</td>\n",
       "      <td>1384</td>\n",
       "      <td>2270</td>\n",
       "      <td>1.00</td>\n",
       "      <td>1.00</td>\n",
       "      <td>clove(s)</td>\n",
       "      <td>minced</td>\n",
       "      <td>False</td>\n",
       "    </tr>\n",
       "    <tr>\n",
       "      <th>606</th>\n",
       "      <td>732</td>\n",
       "      <td>299</td>\n",
       "      <td>2220</td>\n",
       "      <td>3.00</td>\n",
       "      <td>3.00</td>\n",
       "      <td>tablespoon(s)</td>\n",
       "      <td>NaN</td>\n",
       "      <td>False</td>\n",
       "    </tr>\n",
       "    <tr>\n",
       "      <th>337</th>\n",
       "      <td>401</td>\n",
       "      <td>260</td>\n",
       "      <td>351</td>\n",
       "      <td>0.50</td>\n",
       "      <td>0.50</td>\n",
       "      <td>cup(s)</td>\n",
       "      <td>packed</td>\n",
       "      <td>False</td>\n",
       "    </tr>\n",
       "    <tr>\n",
       "      <th>796</th>\n",
       "      <td>963</td>\n",
       "      <td>432</td>\n",
       "      <td>2521</td>\n",
       "      <td>6.00</td>\n",
       "      <td>6.00</td>\n",
       "      <td>piece(s)</td>\n",
       "      <td>NaN</td>\n",
       "      <td>False</td>\n",
       "    </tr>\n",
       "    <tr>\n",
       "      <th>2071</th>\n",
       "      <td>2573</td>\n",
       "      <td>609</td>\n",
       "      <td>2478</td>\n",
       "      <td>1.00</td>\n",
       "      <td>1.00</td>\n",
       "      <td>cup(s)</td>\n",
       "      <td>uncooked</td>\n",
       "      <td>False</td>\n",
       "    </tr>\n",
       "    <tr>\n",
       "      <th>2970</th>\n",
       "      <td>3709</td>\n",
       "      <td>1022</td>\n",
       "      <td>3551</td>\n",
       "      <td>3.00</td>\n",
       "      <td>2.00</td>\n",
       "      <td>pound(s)</td>\n",
       "      <td>NaN</td>\n",
       "      <td>False</td>\n",
       "    </tr>\n",
       "    <tr>\n",
       "      <th>3115</th>\n",
       "      <td>3885</td>\n",
       "      <td>1039</td>\n",
       "      <td>2194</td>\n",
       "      <td>0.75</td>\n",
       "      <td>0.75</td>\n",
       "      <td>cup(s)</td>\n",
       "      <td>NaN</td>\n",
       "      <td>False</td>\n",
       "    </tr>\n",
       "    <tr>\n",
       "      <th>3555</th>\n",
       "      <td>4419</td>\n",
       "      <td>1096</td>\n",
       "      <td>2282</td>\n",
       "      <td>0.50</td>\n",
       "      <td>0.50</td>\n",
       "      <td>cup(s)</td>\n",
       "      <td>chopped</td>\n",
       "      <td>False</td>\n",
       "    </tr>\n",
       "    <tr>\n",
       "      <th>870</th>\n",
       "      <td>1047</td>\n",
       "      <td>442</td>\n",
       "      <td>3703</td>\n",
       "      <td>1.50</td>\n",
       "      <td>1.50</td>\n",
       "      <td>tablespoon(s)</td>\n",
       "      <td>NaN</td>\n",
       "      <td>False</td>\n",
       "    </tr>\n",
       "    <tr>\n",
       "      <th>4195</th>\n",
       "      <td>5233</td>\n",
       "      <td>1152</td>\n",
       "      <td>2129</td>\n",
       "      <td>0.25</td>\n",
       "      <td>0.25</td>\n",
       "      <td>cup(s)</td>\n",
       "      <td>NaN</td>\n",
       "      <td>False</td>\n",
       "    </tr>\n",
       "    <tr>\n",
       "      <th>1232</th>\n",
       "      <td>1503</td>\n",
       "      <td>505</td>\n",
       "      <td>1357</td>\n",
       "      <td>1.00</td>\n",
       "      <td>1.00</td>\n",
       "      <td>tablespoon(s)</td>\n",
       "      <td>chopped</td>\n",
       "      <td>False</td>\n",
       "    </tr>\n",
       "    <tr>\n",
       "      <th>254</th>\n",
       "      <td>308</td>\n",
       "      <td>249</td>\n",
       "      <td>1376</td>\n",
       "      <td>1.00</td>\n",
       "      <td>1.00</td>\n",
       "      <td>cup(s)</td>\n",
       "      <td>chopped</td>\n",
       "      <td>False</td>\n",
       "    </tr>\n",
       "  </tbody>\n",
       "</table>\n",
       "</div>"
      ],
      "text/plain": [
       "      quantity_id  recipe_id  ingredient_id  max_qty  min_qty           unit  \\\n",
       "4622         5785       1209           2019     1.00     1.00    teaspoon(s)   \n",
       "1760         2175        570           2523     0.25     0.25         cup(s)   \n",
       "2443         3054        667           2282     3.00     3.00         cup(s)   \n",
       "4903         6132       1384           2270     1.00     1.00       clove(s)   \n",
       "606           732        299           2220     3.00     3.00  tablespoon(s)   \n",
       "337           401        260            351     0.50     0.50         cup(s)   \n",
       "796           963        432           2521     6.00     6.00       piece(s)   \n",
       "2071         2573        609           2478     1.00     1.00         cup(s)   \n",
       "2970         3709       1022           3551     3.00     2.00       pound(s)   \n",
       "3115         3885       1039           2194     0.75     0.75         cup(s)   \n",
       "3555         4419       1096           2282     0.50     0.50         cup(s)   \n",
       "870          1047        442           3703     1.50     1.50  tablespoon(s)   \n",
       "4195         5233       1152           2129     0.25     0.25         cup(s)   \n",
       "1232         1503        505           1357     1.00     1.00  tablespoon(s)   \n",
       "254           308        249           1376     1.00     1.00         cup(s)   \n",
       "\n",
       "     preparation  optional  \n",
       "4622         NaN     False  \n",
       "1760      grated     False  \n",
       "2443     chopped     False  \n",
       "4903      minced     False  \n",
       "606          NaN     False  \n",
       "337       packed     False  \n",
       "796          NaN     False  \n",
       "2071    uncooked     False  \n",
       "2970         NaN     False  \n",
       "3115         NaN     False  \n",
       "3555     chopped     False  \n",
       "870          NaN     False  \n",
       "4195         NaN     False  \n",
       "1232     chopped     False  \n",
       "254      chopped     False  "
      ]
     },
     "execution_count": 147,
     "metadata": {},
     "output_type": "execute_result"
    }
   ],
   "source": [
    "df_quantity.sample(15)"
   ]
  },
  {
   "cell_type": "markdown",
   "metadata": {},
   "source": [
    "### From taking some samples of the Quantity table we can notice that 'max_qty' and 'min_qty' are usually equal, but there are cases when these differ. \n",
    "##### Taking into account that there is a quantity of an ingredient in a recipe, it is better to keep track of only one variable instead of comparing 'max_qty' and 'min_qty' and put use the quantity from somewhere in the middle of these two. \n",
    "##### Furthermore, we take the average of 'max_qty' and 'min_qty' and create a new column and also we drop 'max_qty' and 'min_qty' columns.\n"
   ]
  },
  {
   "cell_type": "code",
   "execution_count": 148,
   "metadata": {},
   "outputs": [],
   "source": [
    "df_quantity['qty'] = df_quantity[['max_qty', 'min_qty']].mean(axis=1)"
   ]
  },
  {
   "cell_type": "code",
   "execution_count": 149,
   "metadata": {},
   "outputs": [],
   "source": [
    "df_quantity = df_quantity.drop(['max_qty', 'min_qty'], axis=1)"
   ]
  },
  {
   "cell_type": "markdown",
   "metadata": {},
   "source": [
    "<br>\n",
    "\n",
    "#### If the ingredient is optional delete it from the Quantity table and drop the optional column."
   ]
  },
  {
   "cell_type": "code",
   "execution_count": 150,
   "metadata": {},
   "outputs": [
    {
     "data": {
      "text/html": [
       "<div>\n",
       "<style scoped>\n",
       "    .dataframe tbody tr th:only-of-type {\n",
       "        vertical-align: middle;\n",
       "    }\n",
       "\n",
       "    .dataframe tbody tr th {\n",
       "        vertical-align: top;\n",
       "    }\n",
       "\n",
       "    .dataframe thead th {\n",
       "        text-align: right;\n",
       "    }\n",
       "</style>\n",
       "<table border=\"1\" class=\"dataframe\">\n",
       "  <thead>\n",
       "    <tr style=\"text-align: right;\">\n",
       "      <th></th>\n",
       "      <th>index</th>\n",
       "      <th>quantity_id</th>\n",
       "      <th>recipe_id</th>\n",
       "      <th>ingredient_id</th>\n",
       "      <th>unit</th>\n",
       "      <th>preparation</th>\n",
       "      <th>optional</th>\n",
       "      <th>qty</th>\n",
       "    </tr>\n",
       "  </thead>\n",
       "  <tbody>\n",
       "    <tr>\n",
       "      <th>0</th>\n",
       "      <td>0</td>\n",
       "      <td>1</td>\n",
       "      <td>214</td>\n",
       "      <td>1613</td>\n",
       "      <td>cup(s)</td>\n",
       "      <td>NaN</td>\n",
       "      <td>False</td>\n",
       "      <td>2.00</td>\n",
       "    </tr>\n",
       "    <tr>\n",
       "      <th>1</th>\n",
       "      <td>1</td>\n",
       "      <td>2</td>\n",
       "      <td>214</td>\n",
       "      <td>3334</td>\n",
       "      <td>cup(s)</td>\n",
       "      <td>NaN</td>\n",
       "      <td>False</td>\n",
       "      <td>0.25</td>\n",
       "    </tr>\n",
       "    <tr>\n",
       "      <th>2</th>\n",
       "      <td>2</td>\n",
       "      <td>3</td>\n",
       "      <td>214</td>\n",
       "      <td>2222</td>\n",
       "      <td>cup(s)</td>\n",
       "      <td>melted</td>\n",
       "      <td>False</td>\n",
       "      <td>0.50</td>\n",
       "    </tr>\n",
       "    <tr>\n",
       "      <th>3</th>\n",
       "      <td>3</td>\n",
       "      <td>4</td>\n",
       "      <td>214</td>\n",
       "      <td>2797</td>\n",
       "      <td>cup(s)</td>\n",
       "      <td>or water</td>\n",
       "      <td>False</td>\n",
       "      <td>0.25</td>\n",
       "    </tr>\n",
       "    <tr>\n",
       "      <th>4</th>\n",
       "      <td>4</td>\n",
       "      <td>5</td>\n",
       "      <td>214</td>\n",
       "      <td>3567</td>\n",
       "      <td>teaspoon(s)</td>\n",
       "      <td>NaN</td>\n",
       "      <td>False</td>\n",
       "      <td>3.00</td>\n",
       "    </tr>\n",
       "    <tr>\n",
       "      <th>...</th>\n",
       "      <td>...</td>\n",
       "      <td>...</td>\n",
       "      <td>...</td>\n",
       "      <td>...</td>\n",
       "      <td>...</td>\n",
       "      <td>...</td>\n",
       "      <td>...</td>\n",
       "      <td>...</td>\n",
       "    </tr>\n",
       "    <tr>\n",
       "      <th>5041</th>\n",
       "      <td>5087</td>\n",
       "      <td>6349</td>\n",
       "      <td>1119</td>\n",
       "      <td>289</td>\n",
       "      <td>pound(s)</td>\n",
       "      <td>NaN</td>\n",
       "      <td>False</td>\n",
       "      <td>6.00</td>\n",
       "    </tr>\n",
       "    <tr>\n",
       "      <th>5042</th>\n",
       "      <td>5088</td>\n",
       "      <td>6350</td>\n",
       "      <td>1119</td>\n",
       "      <td>3261</td>\n",
       "      <td>milliliter(s)</td>\n",
       "      <td>NaN</td>\n",
       "      <td>False</td>\n",
       "      <td>750.00</td>\n",
       "    </tr>\n",
       "    <tr>\n",
       "      <th>5043</th>\n",
       "      <td>5089</td>\n",
       "      <td>6351</td>\n",
       "      <td>1119</td>\n",
       "      <td>638</td>\n",
       "      <td>cup(s)</td>\n",
       "      <td>NaN</td>\n",
       "      <td>False</td>\n",
       "      <td>1.00</td>\n",
       "    </tr>\n",
       "    <tr>\n",
       "      <th>5044</th>\n",
       "      <td>5090</td>\n",
       "      <td>6352</td>\n",
       "      <td>1119</td>\n",
       "      <td>1420</td>\n",
       "      <td>teaspoon(s)</td>\n",
       "      <td>chopped</td>\n",
       "      <td>False</td>\n",
       "      <td>3.00</td>\n",
       "    </tr>\n",
       "    <tr>\n",
       "      <th>5045</th>\n",
       "      <td>5091</td>\n",
       "      <td>6356</td>\n",
       "      <td>1119</td>\n",
       "      <td>2658</td>\n",
       "      <td>ounce(s)</td>\n",
       "      <td>NaN</td>\n",
       "      <td>False</td>\n",
       "      <td>6.00</td>\n",
       "    </tr>\n",
       "  </tbody>\n",
       "</table>\n",
       "<p>5046 rows × 8 columns</p>\n",
       "</div>"
      ],
      "text/plain": [
       "      index  quantity_id  recipe_id  ingredient_id           unit preparation  \\\n",
       "0         0            1        214           1613         cup(s)         NaN   \n",
       "1         1            2        214           3334         cup(s)         NaN   \n",
       "2         2            3        214           2222         cup(s)      melted   \n",
       "3         3            4        214           2797         cup(s)    or water   \n",
       "4         4            5        214           3567    teaspoon(s)         NaN   \n",
       "...     ...          ...        ...            ...            ...         ...   \n",
       "5041   5087         6349       1119            289       pound(s)         NaN   \n",
       "5042   5088         6350       1119           3261  milliliter(s)         NaN   \n",
       "5043   5089         6351       1119            638         cup(s)         NaN   \n",
       "5044   5090         6352       1119           1420    teaspoon(s)     chopped   \n",
       "5045   5091         6356       1119           2658       ounce(s)         NaN   \n",
       "\n",
       "      optional     qty  \n",
       "0        False    2.00  \n",
       "1        False    0.25  \n",
       "2        False    0.50  \n",
       "3        False    0.25  \n",
       "4        False    3.00  \n",
       "...        ...     ...  \n",
       "5041     False    6.00  \n",
       "5042     False  750.00  \n",
       "5043     False    1.00  \n",
       "5044     False    3.00  \n",
       "5045     False    6.00  \n",
       "\n",
       "[5046 rows x 8 columns]"
      ]
     },
     "execution_count": 150,
     "metadata": {},
     "output_type": "execute_result"
    }
   ],
   "source": [
    "df_quantity = df_quantity[df_quantity.optional != True]\n",
    "df_quantity.reset_index()"
   ]
  },
  {
   "cell_type": "code",
   "execution_count": 151,
   "metadata": {},
   "outputs": [],
   "source": [
    "df_quantity = df_quantity.drop(['optional'], axis=1)"
   ]
  },
  {
   "cell_type": "code",
   "execution_count": 152,
   "metadata": {},
   "outputs": [
    {
     "data": {
      "text/plain": [
       "(5046, 6)"
      ]
     },
     "execution_count": 152,
     "metadata": {},
     "output_type": "execute_result"
    }
   ],
   "source": [
    "df_quantity.shape"
   ]
  },
  {
   "cell_type": "markdown",
   "metadata": {},
   "source": [
    "<br>\n",
    "\n",
    "## Recipe table"
   ]
  },
  {
   "cell_type": "code",
   "execution_count": 153,
   "metadata": {},
   "outputs": [
    {
     "data": {
      "text/html": [
       "<div>\n",
       "<style scoped>\n",
       "    .dataframe tbody tr th:only-of-type {\n",
       "        vertical-align: middle;\n",
       "    }\n",
       "\n",
       "    .dataframe tbody tr th {\n",
       "        vertical-align: top;\n",
       "    }\n",
       "\n",
       "    .dataframe thead th {\n",
       "        text-align: right;\n",
       "    }\n",
       "</style>\n",
       "<table border=\"1\" class=\"dataframe\">\n",
       "  <thead>\n",
       "    <tr style=\"text-align: right;\">\n",
       "      <th></th>\n",
       "      <th>recipe_id</th>\n",
       "      <th>title</th>\n",
       "      <th>subtitle</th>\n",
       "      <th>servings</th>\n",
       "      <th>yield_unit</th>\n",
       "      <th>prep_min</th>\n",
       "      <th>cook_min</th>\n",
       "      <th>stnd_min</th>\n",
       "      <th>source</th>\n",
       "      <th>intro</th>\n",
       "      <th>directions</th>\n",
       "    </tr>\n",
       "  </thead>\n",
       "  <tbody>\n",
       "    <tr>\n",
       "      <th>0</th>\n",
       "      <td>214</td>\n",
       "      <td>Raspberry Chiffon Pie</td>\n",
       "      <td>NaN</td>\n",
       "      <td>10</td>\n",
       "      <td>1 pie</td>\n",
       "      <td>20</td>\n",
       "      <td>8</td>\n",
       "      <td>305</td>\n",
       "      <td>The California Tree Fruit Agreement</td>\n",
       "      <td>NaN</td>\n",
       "      <td>For crust, preheat oven to 375 degrees F.\\nIn...</td>\n",
       "    </tr>\n",
       "    <tr>\n",
       "      <th>1</th>\n",
       "      <td>215</td>\n",
       "      <td>Apricot Yogurt Parfaits</td>\n",
       "      <td>NaN</td>\n",
       "      <td>4</td>\n",
       "      <td>NaN</td>\n",
       "      <td>5</td>\n",
       "      <td>2</td>\n",
       "      <td>65</td>\n",
       "      <td>Produce for Better Health Foundation and 5 a Day</td>\n",
       "      <td>NaN</td>\n",
       "      <td>Drain canned apricots, pour 1/4 cup of the ju...</td>\n",
       "    </tr>\n",
       "    <tr>\n",
       "      <th>2</th>\n",
       "      <td>216</td>\n",
       "      <td>Fresh Apricot Bavarian</td>\n",
       "      <td>NaN</td>\n",
       "      <td>8</td>\n",
       "      <td>NaN</td>\n",
       "      <td>5</td>\n",
       "      <td>13</td>\n",
       "      <td>0</td>\n",
       "      <td>The California Apricot Advisory Board</td>\n",
       "      <td>Serve in stemmed glasses and top with sliced a...</td>\n",
       "      <td>Drop apricots into boiling water to cover.  R...</td>\n",
       "    </tr>\n",
       "    <tr>\n",
       "      <th>3</th>\n",
       "      <td>217</td>\n",
       "      <td>Fresh Peaches</td>\n",
       "      <td>with Banana Cream Whip</td>\n",
       "      <td>4</td>\n",
       "      <td>NaN</td>\n",
       "      <td>10</td>\n",
       "      <td>0</td>\n",
       "      <td>0</td>\n",
       "      <td>Produce for Better Health Foundation and 5 a Day</td>\n",
       "      <td>For a quick, low-cal dessert, serve this on o...</td>\n",
       "      <td>In a small bowl, beat egg white until foamy. ...</td>\n",
       "    </tr>\n",
       "    <tr>\n",
       "      <th>4</th>\n",
       "      <td>218</td>\n",
       "      <td>Canned Cherry Crisp</td>\n",
       "      <td>NaN</td>\n",
       "      <td>6</td>\n",
       "      <td>NaN</td>\n",
       "      <td>10</td>\n",
       "      <td>5</td>\n",
       "      <td>0</td>\n",
       "      <td>The Cherry Marketing Institute</td>\n",
       "      <td>Your microwave turns a can of cherry pie filli...</td>\n",
       "      <td>Pour cherry pie filling into an 8-inch, round...</td>\n",
       "    </tr>\n",
       "  </tbody>\n",
       "</table>\n",
       "</div>"
      ],
      "text/plain": [
       "   recipe_id                    title                subtitle  servings  \\\n",
       "0        214    Raspberry Chiffon Pie                     NaN        10   \n",
       "1        215  Apricot Yogurt Parfaits                     NaN         4   \n",
       "2        216   Fresh Apricot Bavarian                     NaN         8   \n",
       "3        217            Fresh Peaches  with Banana Cream Whip         4   \n",
       "4        218      Canned Cherry Crisp                     NaN         6   \n",
       "\n",
       "  yield_unit  prep_min  cook_min  stnd_min  \\\n",
       "0      1 pie        20         8       305   \n",
       "1        NaN         5         2        65   \n",
       "2        NaN         5        13         0   \n",
       "3        NaN        10         0         0   \n",
       "4        NaN        10         5         0   \n",
       "\n",
       "                                             source  \\\n",
       "0               The California Tree Fruit Agreement   \n",
       "1  Produce for Better Health Foundation and 5 a Day   \n",
       "2             The California Apricot Advisory Board   \n",
       "3  Produce for Better Health Foundation and 5 a Day   \n",
       "4                    The Cherry Marketing Institute   \n",
       "\n",
       "                                               intro  \\\n",
       "0                                                NaN   \n",
       "1                                                NaN   \n",
       "2  Serve in stemmed glasses and top with sliced a...   \n",
       "3   For a quick, low-cal dessert, serve this on o...   \n",
       "4  Your microwave turns a can of cherry pie filli...   \n",
       "\n",
       "                                          directions  \n",
       "0   For crust, preheat oven to 375 degrees F.\\nIn...  \n",
       "1   Drain canned apricots, pour 1/4 cup of the ju...  \n",
       "2   Drop apricots into boiling water to cover.  R...  \n",
       "3   In a small bowl, beat egg white until foamy. ...  \n",
       "4   Pour cherry pie filling into an 8-inch, round...  "
      ]
     },
     "execution_count": 153,
     "metadata": {},
     "output_type": "execute_result"
    }
   ],
   "source": [
    "df_recipe.head()"
   ]
  },
  {
   "cell_type": "markdown",
   "metadata": {},
   "source": [
    "<br>\n",
    "\n",
    "#### Merge 'title' and 'subtitle' into 'title' column and drop 'subtitle'"
   ]
  },
  {
   "cell_type": "code",
   "execution_count": 154,
   "metadata": {},
   "outputs": [],
   "source": [
    "df_recipe['title'] = np.where(df_recipe['subtitle'].isnull() == True, \n",
    "                              df_recipe['title'],\n",
    "                              df_recipe['title'] + \" \" + df_recipe['subtitle']\n",
    "                             )"
   ]
  },
  {
   "cell_type": "code",
   "execution_count": 155,
   "metadata": {},
   "outputs": [],
   "source": [
    "df_recipe = df_recipe.drop(['subtitle'], axis=1)"
   ]
  },
  {
   "cell_type": "markdown",
   "metadata": {},
   "source": [
    "<br>\n",
    "\n",
    "#### Merge 'intro' and 'directions' into 'directions' column and drop 'intro'"
   ]
  },
  {
   "cell_type": "code",
   "execution_count": 156,
   "metadata": {},
   "outputs": [],
   "source": [
    "df_recipe['directions'] = np.where(df_recipe['intro'].isnull() == True, \n",
    "                              df_recipe['directions'],\n",
    "                              df_recipe['directions'] + \" \" + df_recipe['intro']\n",
    "                             )"
   ]
  },
  {
   "cell_type": "code",
   "execution_count": 157,
   "metadata": {},
   "outputs": [],
   "source": [
    "df_recipe = df_recipe.drop(['intro'], axis=1)"
   ]
  },
  {
   "cell_type": "markdown",
   "metadata": {},
   "source": [
    "#### Drop 'source'"
   ]
  },
  {
   "cell_type": "code",
   "execution_count": 158,
   "metadata": {},
   "outputs": [
    {
     "data": {
      "text/html": [
       "<div>\n",
       "<style scoped>\n",
       "    .dataframe tbody tr th:only-of-type {\n",
       "        vertical-align: middle;\n",
       "    }\n",
       "\n",
       "    .dataframe tbody tr th {\n",
       "        vertical-align: top;\n",
       "    }\n",
       "\n",
       "    .dataframe thead th {\n",
       "        text-align: right;\n",
       "    }\n",
       "</style>\n",
       "<table border=\"1\" class=\"dataframe\">\n",
       "  <thead>\n",
       "    <tr style=\"text-align: right;\">\n",
       "      <th></th>\n",
       "      <th>recipe_id</th>\n",
       "      <th>title</th>\n",
       "      <th>servings</th>\n",
       "      <th>yield_unit</th>\n",
       "      <th>prep_min</th>\n",
       "      <th>cook_min</th>\n",
       "      <th>stnd_min</th>\n",
       "      <th>directions</th>\n",
       "    </tr>\n",
       "  </thead>\n",
       "  <tbody>\n",
       "    <tr>\n",
       "      <th>0</th>\n",
       "      <td>214</td>\n",
       "      <td>Raspberry Chiffon Pie</td>\n",
       "      <td>10</td>\n",
       "      <td>1 pie</td>\n",
       "      <td>20</td>\n",
       "      <td>8</td>\n",
       "      <td>305</td>\n",
       "      <td>For crust, preheat oven to 375 degrees F.\\nIn...</td>\n",
       "    </tr>\n",
       "    <tr>\n",
       "      <th>1</th>\n",
       "      <td>215</td>\n",
       "      <td>Apricot Yogurt Parfaits</td>\n",
       "      <td>4</td>\n",
       "      <td>NaN</td>\n",
       "      <td>5</td>\n",
       "      <td>2</td>\n",
       "      <td>65</td>\n",
       "      <td>Drain canned apricots, pour 1/4 cup of the ju...</td>\n",
       "    </tr>\n",
       "    <tr>\n",
       "      <th>2</th>\n",
       "      <td>216</td>\n",
       "      <td>Fresh Apricot Bavarian</td>\n",
       "      <td>8</td>\n",
       "      <td>NaN</td>\n",
       "      <td>5</td>\n",
       "      <td>13</td>\n",
       "      <td>0</td>\n",
       "      <td>Drop apricots into boiling water to cover.  R...</td>\n",
       "    </tr>\n",
       "    <tr>\n",
       "      <th>3</th>\n",
       "      <td>217</td>\n",
       "      <td>Fresh Peaches with Banana Cream Whip</td>\n",
       "      <td>4</td>\n",
       "      <td>NaN</td>\n",
       "      <td>10</td>\n",
       "      <td>0</td>\n",
       "      <td>0</td>\n",
       "      <td>In a small bowl, beat egg white until foamy. ...</td>\n",
       "    </tr>\n",
       "    <tr>\n",
       "      <th>4</th>\n",
       "      <td>218</td>\n",
       "      <td>Canned Cherry Crisp</td>\n",
       "      <td>6</td>\n",
       "      <td>NaN</td>\n",
       "      <td>10</td>\n",
       "      <td>5</td>\n",
       "      <td>0</td>\n",
       "      <td>Pour cherry pie filling into an 8-inch, round...</td>\n",
       "    </tr>\n",
       "  </tbody>\n",
       "</table>\n",
       "</div>"
      ],
      "text/plain": [
       "   recipe_id                                 title  servings yield_unit  \\\n",
       "0        214                 Raspberry Chiffon Pie        10      1 pie   \n",
       "1        215               Apricot Yogurt Parfaits         4        NaN   \n",
       "2        216                Fresh Apricot Bavarian         8        NaN   \n",
       "3        217  Fresh Peaches with Banana Cream Whip         4        NaN   \n",
       "4        218                   Canned Cherry Crisp         6        NaN   \n",
       "\n",
       "   prep_min  cook_min  stnd_min  \\\n",
       "0        20         8       305   \n",
       "1         5         2        65   \n",
       "2         5        13         0   \n",
       "3        10         0         0   \n",
       "4        10         5         0   \n",
       "\n",
       "                                          directions  \n",
       "0   For crust, preheat oven to 375 degrees F.\\nIn...  \n",
       "1   Drain canned apricots, pour 1/4 cup of the ju...  \n",
       "2   Drop apricots into boiling water to cover.  R...  \n",
       "3   In a small bowl, beat egg white until foamy. ...  \n",
       "4   Pour cherry pie filling into an 8-inch, round...  "
      ]
     },
     "execution_count": 158,
     "metadata": {},
     "output_type": "execute_result"
    }
   ],
   "source": [
    "df_recipe = df_recipe.drop(['source'], axis=1)\n",
    "df_recipe.head()"
   ]
  },
  {
   "cell_type": "markdown",
   "metadata": {},
   "source": [
    "<br>\n",
    "\n",
    "#### Taking into account that each variable represents a column and each row represents an observation:"
   ]
  },
  {
   "cell_type": "code",
   "execution_count": 159,
   "metadata": {},
   "outputs": [
    {
     "data": {
      "text/html": [
       "<div>\n",
       "<style scoped>\n",
       "    .dataframe tbody tr th:only-of-type {\n",
       "        vertical-align: middle;\n",
       "    }\n",
       "\n",
       "    .dataframe tbody tr th {\n",
       "        vertical-align: top;\n",
       "    }\n",
       "\n",
       "    .dataframe thead th {\n",
       "        text-align: right;\n",
       "    }\n",
       "</style>\n",
       "<table border=\"1\" class=\"dataframe\">\n",
       "  <thead>\n",
       "    <tr style=\"text-align: right;\">\n",
       "      <th></th>\n",
       "      <th>recipe_id</th>\n",
       "      <th>title</th>\n",
       "      <th>servings</th>\n",
       "      <th>yield_unit</th>\n",
       "      <th>directions</th>\n",
       "      <th>time</th>\n",
       "      <th>minutes</th>\n",
       "    </tr>\n",
       "  </thead>\n",
       "  <tbody>\n",
       "    <tr>\n",
       "      <th>0</th>\n",
       "      <td>214</td>\n",
       "      <td>Raspberry Chiffon Pie</td>\n",
       "      <td>10</td>\n",
       "      <td>1 pie</td>\n",
       "      <td>For crust, preheat oven to 375 degrees F.\\nIn...</td>\n",
       "      <td>prep_min</td>\n",
       "      <td>20</td>\n",
       "    </tr>\n",
       "    <tr>\n",
       "      <th>1</th>\n",
       "      <td>215</td>\n",
       "      <td>Apricot Yogurt Parfaits</td>\n",
       "      <td>4</td>\n",
       "      <td>NaN</td>\n",
       "      <td>Drain canned apricots, pour 1/4 cup of the ju...</td>\n",
       "      <td>prep_min</td>\n",
       "      <td>5</td>\n",
       "    </tr>\n",
       "    <tr>\n",
       "      <th>2</th>\n",
       "      <td>216</td>\n",
       "      <td>Fresh Apricot Bavarian</td>\n",
       "      <td>8</td>\n",
       "      <td>NaN</td>\n",
       "      <td>Drop apricots into boiling water to cover.  R...</td>\n",
       "      <td>prep_min</td>\n",
       "      <td>5</td>\n",
       "    </tr>\n",
       "    <tr>\n",
       "      <th>3</th>\n",
       "      <td>217</td>\n",
       "      <td>Fresh Peaches with Banana Cream Whip</td>\n",
       "      <td>4</td>\n",
       "      <td>NaN</td>\n",
       "      <td>In a small bowl, beat egg white until foamy. ...</td>\n",
       "      <td>prep_min</td>\n",
       "      <td>10</td>\n",
       "    </tr>\n",
       "    <tr>\n",
       "      <th>4</th>\n",
       "      <td>218</td>\n",
       "      <td>Canned Cherry Crisp</td>\n",
       "      <td>6</td>\n",
       "      <td>NaN</td>\n",
       "      <td>Pour cherry pie filling into an 8-inch, round...</td>\n",
       "      <td>prep_min</td>\n",
       "      <td>10</td>\n",
       "    </tr>\n",
       "    <tr>\n",
       "      <th>...</th>\n",
       "      <td>...</td>\n",
       "      <td>...</td>\n",
       "      <td>...</td>\n",
       "      <td>...</td>\n",
       "      <td>...</td>\n",
       "      <td>...</td>\n",
       "      <td>...</td>\n",
       "    </tr>\n",
       "    <tr>\n",
       "      <th>2629</th>\n",
       "      <td>1410</td>\n",
       "      <td>No-Bake Chocolate Cheesecake</td>\n",
       "      <td>12</td>\n",
       "      <td>NaN</td>\n",
       "      <td>Prepare Crumb-Nut Crust (directions follow); ...</td>\n",
       "      <td>stnd_min</td>\n",
       "      <td>120</td>\n",
       "    </tr>\n",
       "    <tr>\n",
       "      <th>2630</th>\n",
       "      <td>1411</td>\n",
       "      <td>Mexican Cocoa Torte</td>\n",
       "      <td>10</td>\n",
       "      <td>NaN</td>\n",
       "      <td>Combine sugar, cocoa, cinnamon, shortening an...</td>\n",
       "      <td>stnd_min</td>\n",
       "      <td>120</td>\n",
       "    </tr>\n",
       "    <tr>\n",
       "      <th>2631</th>\n",
       "      <td>1426</td>\n",
       "      <td>-Pancakes-</td>\n",
       "      <td>4</td>\n",
       "      <td>8</td>\n",
       "      <td>Sour milk by putting 1 tablespoon vinegar in ...</td>\n",
       "      <td>stnd_min</td>\n",
       "      <td>0</td>\n",
       "    </tr>\n",
       "    <tr>\n",
       "      <th>2632</th>\n",
       "      <td>1427</td>\n",
       "      <td>-Waffles-</td>\n",
       "      <td>8</td>\n",
       "      <td>8 waffles</td>\n",
       "      <td>Preheat waffle iron according to manufacturer...</td>\n",
       "      <td>stnd_min</td>\n",
       "      <td>0</td>\n",
       "    </tr>\n",
       "    <tr>\n",
       "      <th>2633</th>\n",
       "      <td>1432</td>\n",
       "      <td>Curried Chicken Livers Topped Spud</td>\n",
       "      <td>1</td>\n",
       "      <td>NaN</td>\n",
       "      <td>In a small bowl, mix together chicken broth, ...</td>\n",
       "      <td>stnd_min</td>\n",
       "      <td>0</td>\n",
       "    </tr>\n",
       "  </tbody>\n",
       "</table>\n",
       "<p>2634 rows × 7 columns</p>\n",
       "</div>"
      ],
      "text/plain": [
       "      recipe_id                                 title  servings yield_unit  \\\n",
       "0           214                 Raspberry Chiffon Pie        10      1 pie   \n",
       "1           215               Apricot Yogurt Parfaits         4        NaN   \n",
       "2           216                Fresh Apricot Bavarian         8        NaN   \n",
       "3           217  Fresh Peaches with Banana Cream Whip         4        NaN   \n",
       "4           218                   Canned Cherry Crisp         6        NaN   \n",
       "...         ...                                   ...       ...        ...   \n",
       "2629       1410          No-Bake Chocolate Cheesecake        12        NaN   \n",
       "2630       1411                   Mexican Cocoa Torte        10        NaN   \n",
       "2631       1426                            -Pancakes-         4          8   \n",
       "2632       1427                             -Waffles-         8  8 waffles   \n",
       "2633       1432    Curried Chicken Livers Topped Spud         1        NaN   \n",
       "\n",
       "                                             directions      time  minutes  \n",
       "0      For crust, preheat oven to 375 degrees F.\\nIn...  prep_min       20  \n",
       "1      Drain canned apricots, pour 1/4 cup of the ju...  prep_min        5  \n",
       "2      Drop apricots into boiling water to cover.  R...  prep_min        5  \n",
       "3      In a small bowl, beat egg white until foamy. ...  prep_min       10  \n",
       "4      Pour cherry pie filling into an 8-inch, round...  prep_min       10  \n",
       "...                                                 ...       ...      ...  \n",
       "2629   Prepare Crumb-Nut Crust (directions follow); ...  stnd_min      120  \n",
       "2630   Combine sugar, cocoa, cinnamon, shortening an...  stnd_min      120  \n",
       "2631   Sour milk by putting 1 tablespoon vinegar in ...  stnd_min        0  \n",
       "2632   Preheat waffle iron according to manufacturer...  stnd_min        0  \n",
       "2633   In a small bowl, mix together chicken broth, ...  stnd_min        0  \n",
       "\n",
       "[2634 rows x 7 columns]"
      ]
     },
     "execution_count": 159,
     "metadata": {},
     "output_type": "execute_result"
    }
   ],
   "source": [
    "df_recipe_long = pd.melt(\n",
    "    df_recipe, \n",
    "    id_vars=['recipe_id', 'title', 'servings', 'yield_unit', 'directions'],\n",
    "    var_name='time',\n",
    "    value_name='minutes'\n",
    ")\n",
    "df_recipe_long"
   ]
  },
  {
   "cell_type": "markdown",
   "metadata": {},
   "source": [
    "<br>\n",
    "\n",
    "## Combine the information that we need for our goal into one tidy table.\n",
    "#### We consider that we need a table that contains:\n",
    "<ul>\n",
    "    <li>all ingredients used in a recipe</li>\n",
    "    <li>nutrition metrics for a recipe</li>    \n",
    "    <li>category of an ingredient</li>\n",
    "</ul>\n",
    "<br>\n",
    "\n",
    "##### Start by merging Quantity and Ingredients tables, by including the 'category' and 'name' of the ingredient in the Quantity table.\n",
    "##### Here any type of join would not change the output, but we use a 'left' join because it is a good practice."
   ]
  },
  {
   "cell_type": "code",
   "execution_count": 160,
   "metadata": {},
   "outputs": [
    {
     "data": {
      "text/html": [
       "<div>\n",
       "<style scoped>\n",
       "    .dataframe tbody tr th:only-of-type {\n",
       "        vertical-align: middle;\n",
       "    }\n",
       "\n",
       "    .dataframe tbody tr th {\n",
       "        vertical-align: top;\n",
       "    }\n",
       "\n",
       "    .dataframe thead th {\n",
       "        text-align: right;\n",
       "    }\n",
       "</style>\n",
       "<table border=\"1\" class=\"dataframe\">\n",
       "  <thead>\n",
       "    <tr style=\"text-align: right;\">\n",
       "      <th></th>\n",
       "      <th>quantity_id</th>\n",
       "      <th>recipe_id</th>\n",
       "      <th>ingredient_id</th>\n",
       "      <th>unit</th>\n",
       "      <th>preparation</th>\n",
       "      <th>qty</th>\n",
       "      <th>category</th>\n",
       "      <th>name</th>\n",
       "    </tr>\n",
       "  </thead>\n",
       "  <tbody>\n",
       "    <tr>\n",
       "      <th>0</th>\n",
       "      <td>1</td>\n",
       "      <td>214</td>\n",
       "      <td>1613</td>\n",
       "      <td>cup(s)</td>\n",
       "      <td>NaN</td>\n",
       "      <td>2.00</td>\n",
       "      <td>cookies/crackers</td>\n",
       "      <td>graham cracker crumbs</td>\n",
       "    </tr>\n",
       "    <tr>\n",
       "      <th>1</th>\n",
       "      <td>2</td>\n",
       "      <td>214</td>\n",
       "      <td>3334</td>\n",
       "      <td>cup(s)</td>\n",
       "      <td>NaN</td>\n",
       "      <td>0.25</td>\n",
       "      <td>baking products</td>\n",
       "      <td>sugar</td>\n",
       "    </tr>\n",
       "    <tr>\n",
       "      <th>2</th>\n",
       "      <td>3</td>\n",
       "      <td>214</td>\n",
       "      <td>2222</td>\n",
       "      <td>cup(s)</td>\n",
       "      <td>melted</td>\n",
       "      <td>0.50</td>\n",
       "      <td>dairy</td>\n",
       "      <td>margarine or butter</td>\n",
       "    </tr>\n",
       "    <tr>\n",
       "      <th>3</th>\n",
       "      <td>4</td>\n",
       "      <td>214</td>\n",
       "      <td>2797</td>\n",
       "      <td>cup(s)</td>\n",
       "      <td>or water</td>\n",
       "      <td>0.25</td>\n",
       "      <td>fruit juices</td>\n",
       "      <td>raspberry juice</td>\n",
       "    </tr>\n",
       "    <tr>\n",
       "      <th>4</th>\n",
       "      <td>5</td>\n",
       "      <td>214</td>\n",
       "      <td>3567</td>\n",
       "      <td>teaspoon(s)</td>\n",
       "      <td>NaN</td>\n",
       "      <td>3.00</td>\n",
       "      <td>gelatin</td>\n",
       "      <td>unflavored gelatin</td>\n",
       "    </tr>\n",
       "  </tbody>\n",
       "</table>\n",
       "</div>"
      ],
      "text/plain": [
       "   quantity_id  recipe_id  ingredient_id         unit preparation   qty  \\\n",
       "0            1        214           1613       cup(s)         NaN  2.00   \n",
       "1            2        214           3334       cup(s)         NaN  0.25   \n",
       "2            3        214           2222       cup(s)      melted  0.50   \n",
       "3            4        214           2797       cup(s)    or water  0.25   \n",
       "4            5        214           3567  teaspoon(s)         NaN  3.00   \n",
       "\n",
       "           category                   name  \n",
       "0  cookies/crackers  graham cracker crumbs  \n",
       "1   baking products                  sugar  \n",
       "2             dairy    margarine or butter  \n",
       "3      fruit juices        raspberry juice  \n",
       "4           gelatin     unflavored gelatin  "
      ]
     },
     "execution_count": 160,
     "metadata": {},
     "output_type": "execute_result"
    }
   ],
   "source": [
    "df_quantity_ingredient = pd.merge(df_quantity, df_ingredients, on='ingredient_id', how='left')\n",
    "df_quantity_ingredient.head()"
   ]
  },
  {
   "cell_type": "markdown",
   "metadata": {},
   "source": [
    "<br>\n",
    "\n",
    "##### Clean the recipe table so that it contains only the nutrients that we will use for measuring how healthy a recipe is."
   ]
  },
  {
   "cell_type": "code",
   "execution_count": 161,
   "metadata": {},
   "outputs": [
    {
     "data": {
      "text/html": [
       "<div>\n",
       "<style scoped>\n",
       "    .dataframe tbody tr th:only-of-type {\n",
       "        vertical-align: middle;\n",
       "    }\n",
       "\n",
       "    .dataframe tbody tr th {\n",
       "        vertical-align: top;\n",
       "    }\n",
       "\n",
       "    .dataframe thead th {\n",
       "        text-align: right;\n",
       "    }\n",
       "</style>\n",
       "<table border=\"1\" class=\"dataframe\">\n",
       "  <thead>\n",
       "    <tr style=\"text-align: right;\">\n",
       "      <th></th>\n",
       "      <th>recipe_id</th>\n",
       "      <th>title</th>\n",
       "      <th>servings</th>\n",
       "      <th>yield_unit</th>\n",
       "      <th>prep_min</th>\n",
       "      <th>cook_min</th>\n",
       "      <th>stnd_min</th>\n",
       "      <th>directions</th>\n",
       "    </tr>\n",
       "  </thead>\n",
       "  <tbody>\n",
       "    <tr>\n",
       "      <th>0</th>\n",
       "      <td>214</td>\n",
       "      <td>Raspberry Chiffon Pie</td>\n",
       "      <td>10</td>\n",
       "      <td>1 pie</td>\n",
       "      <td>20</td>\n",
       "      <td>8</td>\n",
       "      <td>305</td>\n",
       "      <td>For crust, preheat oven to 375 degrees F.\\nIn...</td>\n",
       "    </tr>\n",
       "    <tr>\n",
       "      <th>1</th>\n",
       "      <td>215</td>\n",
       "      <td>Apricot Yogurt Parfaits</td>\n",
       "      <td>4</td>\n",
       "      <td>NaN</td>\n",
       "      <td>5</td>\n",
       "      <td>2</td>\n",
       "      <td>65</td>\n",
       "      <td>Drain canned apricots, pour 1/4 cup of the ju...</td>\n",
       "    </tr>\n",
       "    <tr>\n",
       "      <th>2</th>\n",
       "      <td>216</td>\n",
       "      <td>Fresh Apricot Bavarian</td>\n",
       "      <td>8</td>\n",
       "      <td>NaN</td>\n",
       "      <td>5</td>\n",
       "      <td>13</td>\n",
       "      <td>0</td>\n",
       "      <td>Drop apricots into boiling water to cover.  R...</td>\n",
       "    </tr>\n",
       "    <tr>\n",
       "      <th>3</th>\n",
       "      <td>217</td>\n",
       "      <td>Fresh Peaches with Banana Cream Whip</td>\n",
       "      <td>4</td>\n",
       "      <td>NaN</td>\n",
       "      <td>10</td>\n",
       "      <td>0</td>\n",
       "      <td>0</td>\n",
       "      <td>In a small bowl, beat egg white until foamy. ...</td>\n",
       "    </tr>\n",
       "    <tr>\n",
       "      <th>4</th>\n",
       "      <td>218</td>\n",
       "      <td>Canned Cherry Crisp</td>\n",
       "      <td>6</td>\n",
       "      <td>NaN</td>\n",
       "      <td>10</td>\n",
       "      <td>5</td>\n",
       "      <td>0</td>\n",
       "      <td>Pour cherry pie filling into an 8-inch, round...</td>\n",
       "    </tr>\n",
       "  </tbody>\n",
       "</table>\n",
       "</div>"
      ],
      "text/plain": [
       "   recipe_id                                 title  servings yield_unit  \\\n",
       "0        214                 Raspberry Chiffon Pie        10      1 pie   \n",
       "1        215               Apricot Yogurt Parfaits         4        NaN   \n",
       "2        216                Fresh Apricot Bavarian         8        NaN   \n",
       "3        217  Fresh Peaches with Banana Cream Whip         4        NaN   \n",
       "4        218                   Canned Cherry Crisp         6        NaN   \n",
       "\n",
       "   prep_min  cook_min  stnd_min  \\\n",
       "0        20         8       305   \n",
       "1         5         2        65   \n",
       "2         5        13         0   \n",
       "3        10         0         0   \n",
       "4        10         5         0   \n",
       "\n",
       "                                          directions  \n",
       "0   For crust, preheat oven to 375 degrees F.\\nIn...  \n",
       "1   Drain canned apricots, pour 1/4 cup of the ju...  \n",
       "2   Drop apricots into boiling water to cover.  R...  \n",
       "3   In a small bowl, beat egg white until foamy. ...  \n",
       "4   Pour cherry pie filling into an 8-inch, round...  "
      ]
     },
     "execution_count": 161,
     "metadata": {},
     "output_type": "execute_result"
    }
   ],
   "source": [
    "df_recipe.head()"
   ]
  },
  {
   "cell_type": "code",
   "execution_count": 162,
   "metadata": {
    "scrolled": true
   },
   "outputs": [
    {
     "data": {
      "text/html": [
       "<div>\n",
       "<style scoped>\n",
       "    .dataframe tbody tr th:only-of-type {\n",
       "        vertical-align: middle;\n",
       "    }\n",
       "\n",
       "    .dataframe tbody tr th {\n",
       "        vertical-align: top;\n",
       "    }\n",
       "\n",
       "    .dataframe thead th {\n",
       "        text-align: right;\n",
       "    }\n",
       "</style>\n",
       "<table border=\"1\" class=\"dataframe\">\n",
       "  <thead>\n",
       "    <tr style=\"text-align: right;\">\n",
       "      <th></th>\n",
       "      <th>recipe_id</th>\n",
       "      <th>title</th>\n",
       "      <th>servings</th>\n",
       "      <th>prep_min</th>\n",
       "      <th>cook_min</th>\n",
       "      <th>stnd_min</th>\n",
       "      <th>directions</th>\n",
       "      <th>protein</th>\n",
       "      <th>carbo</th>\n",
       "      <th>total_fat</th>\n",
       "      <th>cholestrl</th>\n",
       "      <th>sodium</th>\n",
       "      <th>calories</th>\n",
       "    </tr>\n",
       "  </thead>\n",
       "  <tbody>\n",
       "    <tr>\n",
       "      <th>0</th>\n",
       "      <td>214</td>\n",
       "      <td>Raspberry Chiffon Pie</td>\n",
       "      <td>10</td>\n",
       "      <td>20</td>\n",
       "      <td>8</td>\n",
       "      <td>305</td>\n",
       "      <td>For crust, preheat oven to 375 degrees F.\\nIn...</td>\n",
       "      <td>5.47</td>\n",
       "      <td>41.29</td>\n",
       "      <td>11.53</td>\n",
       "      <td>1.39</td>\n",
       "      <td>260.78</td>\n",
       "      <td>290.79</td>\n",
       "    </tr>\n",
       "    <tr>\n",
       "      <th>1</th>\n",
       "      <td>215</td>\n",
       "      <td>Apricot Yogurt Parfaits</td>\n",
       "      <td>4</td>\n",
       "      <td>5</td>\n",
       "      <td>2</td>\n",
       "      <td>65</td>\n",
       "      <td>Drain canned apricots, pour 1/4 cup of the ju...</td>\n",
       "      <td>5.70</td>\n",
       "      <td>23.75</td>\n",
       "      <td>1.08</td>\n",
       "      <td>3.48</td>\n",
       "      <td>46.17</td>\n",
       "      <td>141.01</td>\n",
       "    </tr>\n",
       "    <tr>\n",
       "      <th>2</th>\n",
       "      <td>216</td>\n",
       "      <td>Fresh Apricot Bavarian</td>\n",
       "      <td>8</td>\n",
       "      <td>5</td>\n",
       "      <td>13</td>\n",
       "      <td>0</td>\n",
       "      <td>Drop apricots into boiling water to cover.  R...</td>\n",
       "      <td>4.90</td>\n",
       "      <td>26.88</td>\n",
       "      <td>1.10</td>\n",
       "      <td>3.46</td>\n",
       "      <td>41.79</td>\n",
       "      <td>137.06</td>\n",
       "    </tr>\n",
       "    <tr>\n",
       "      <th>3</th>\n",
       "      <td>217</td>\n",
       "      <td>Fresh Peaches with Banana Cream Whip</td>\n",
       "      <td>4</td>\n",
       "      <td>10</td>\n",
       "      <td>0</td>\n",
       "      <td>0</td>\n",
       "      <td>In a small bowl, beat egg white until foamy. ...</td>\n",
       "      <td>1.77</td>\n",
       "      <td>18.17</td>\n",
       "      <td>0.21</td>\n",
       "      <td>0.00</td>\n",
       "      <td>14.01</td>\n",
       "      <td>81.70</td>\n",
       "    </tr>\n",
       "    <tr>\n",
       "      <th>4</th>\n",
       "      <td>218</td>\n",
       "      <td>Canned Cherry Crisp</td>\n",
       "      <td>6</td>\n",
       "      <td>10</td>\n",
       "      <td>5</td>\n",
       "      <td>0</td>\n",
       "      <td>Pour cherry pie filling into an 8-inch, round...</td>\n",
       "      <td>1.38</td>\n",
       "      <td>36.63</td>\n",
       "      <td>5.47</td>\n",
       "      <td>10.36</td>\n",
       "      <td>50.22</td>\n",
       "      <td>201.23</td>\n",
       "    </tr>\n",
       "    <tr>\n",
       "      <th>5</th>\n",
       "      <td>219</td>\n",
       "      <td>Low Calorie Blueberry Meringue Tarts</td>\n",
       "      <td>8</td>\n",
       "      <td>10</td>\n",
       "      <td>30</td>\n",
       "      <td>60</td>\n",
       "      <td>In a bowl beat egg whites until very stiff.  ...</td>\n",
       "      <td>3.38</td>\n",
       "      <td>8.04</td>\n",
       "      <td>0.16</td>\n",
       "      <td>0.55</td>\n",
       "      <td>40.01</td>\n",
       "      <td>66.03</td>\n",
       "    </tr>\n",
       "    <tr>\n",
       "      <th>6</th>\n",
       "      <td>220</td>\n",
       "      <td>Chocolate Cream Cheese Frosting</td>\n",
       "      <td>12</td>\n",
       "      <td>6</td>\n",
       "      <td>0</td>\n",
       "      <td>0</td>\n",
       "      <td>Place softened cream cheese, butter, vanilla,...</td>\n",
       "      <td>1.53</td>\n",
       "      <td>27.17</td>\n",
       "      <td>8.14</td>\n",
       "      <td>23.60</td>\n",
       "      <td>81.26</td>\n",
       "      <td>188.10</td>\n",
       "    </tr>\n",
       "    <tr>\n",
       "      <th>7</th>\n",
       "      <td>226</td>\n",
       "      <td>Apple Upside Down Cake</td>\n",
       "      <td>16</td>\n",
       "      <td>20</td>\n",
       "      <td>45</td>\n",
       "      <td>20</td>\n",
       "      <td>Combine apples, 1 cup sugar, butter and cinna...</td>\n",
       "      <td>3.71</td>\n",
       "      <td>43.21</td>\n",
       "      <td>11.92</td>\n",
       "      <td>31.59</td>\n",
       "      <td>231.95</td>\n",
       "      <td>294.95</td>\n",
       "    </tr>\n",
       "    <tr>\n",
       "      <th>8</th>\n",
       "      <td>227</td>\n",
       "      <td>Peaches Amaretto</td>\n",
       "      <td>4</td>\n",
       "      <td>15</td>\n",
       "      <td>10</td>\n",
       "      <td>0</td>\n",
       "      <td>In small saucepan, combine milk, cornstarch a...</td>\n",
       "      <td>2.53</td>\n",
       "      <td>12.71</td>\n",
       "      <td>0.13</td>\n",
       "      <td>0.55</td>\n",
       "      <td>29.49</td>\n",
       "      <td>62.16</td>\n",
       "    </tr>\n",
       "    <tr>\n",
       "      <th>9</th>\n",
       "      <td>228</td>\n",
       "      <td>Homemade Cherry Pie Filling</td>\n",
       "      <td>12</td>\n",
       "      <td>10</td>\n",
       "      <td>20</td>\n",
       "      <td>60</td>\n",
       "      <td>If frozen cherries are used, heat in saucepan...</td>\n",
       "      <td>0.84</td>\n",
       "      <td>32.74</td>\n",
       "      <td>0.02</td>\n",
       "      <td>0.00</td>\n",
       "      <td>4.04</td>\n",
       "      <td>134.51</td>\n",
       "    </tr>\n",
       "  </tbody>\n",
       "</table>\n",
       "</div>"
      ],
      "text/plain": [
       "   recipe_id                                 title  servings  prep_min  \\\n",
       "0        214                 Raspberry Chiffon Pie        10        20   \n",
       "1        215               Apricot Yogurt Parfaits         4         5   \n",
       "2        216                Fresh Apricot Bavarian         8         5   \n",
       "3        217  Fresh Peaches with Banana Cream Whip         4        10   \n",
       "4        218                   Canned Cherry Crisp         6        10   \n",
       "5        219  Low Calorie Blueberry Meringue Tarts         8        10   \n",
       "6        220       Chocolate Cream Cheese Frosting        12         6   \n",
       "7        226                Apple Upside Down Cake        16        20   \n",
       "8        227                      Peaches Amaretto         4        15   \n",
       "9        228           Homemade Cherry Pie Filling        12        10   \n",
       "\n",
       "   cook_min  stnd_min                                         directions  \\\n",
       "0         8       305   For crust, preheat oven to 375 degrees F.\\nIn...   \n",
       "1         2        65   Drain canned apricots, pour 1/4 cup of the ju...   \n",
       "2        13         0   Drop apricots into boiling water to cover.  R...   \n",
       "3         0         0   In a small bowl, beat egg white until foamy. ...   \n",
       "4         5         0   Pour cherry pie filling into an 8-inch, round...   \n",
       "5        30        60   In a bowl beat egg whites until very stiff.  ...   \n",
       "6         0         0   Place softened cream cheese, butter, vanilla,...   \n",
       "7        45        20   Combine apples, 1 cup sugar, butter and cinna...   \n",
       "8        10         0   In small saucepan, combine milk, cornstarch a...   \n",
       "9        20        60   If frozen cherries are used, heat in saucepan...   \n",
       "\n",
       "   protein  carbo  total_fat  cholestrl  sodium  calories  \n",
       "0     5.47  41.29      11.53       1.39  260.78    290.79  \n",
       "1     5.70  23.75       1.08       3.48   46.17    141.01  \n",
       "2     4.90  26.88       1.10       3.46   41.79    137.06  \n",
       "3     1.77  18.17       0.21       0.00   14.01     81.70  \n",
       "4     1.38  36.63       5.47      10.36   50.22    201.23  \n",
       "5     3.38   8.04       0.16       0.55   40.01     66.03  \n",
       "6     1.53  27.17       8.14      23.60   81.26    188.10  \n",
       "7     3.71  43.21      11.92      31.59  231.95    294.95  \n",
       "8     2.53  12.71       0.13       0.55   29.49     62.16  \n",
       "9     0.84  32.74       0.02       0.00    4.04    134.51  "
      ]
     },
     "execution_count": 162,
     "metadata": {},
     "output_type": "execute_result"
    }
   ],
   "source": [
    "df_recipe_clean = df_recipe.drop(['yield_unit'], axis=1)\n",
    "df_recipe_nutrients_clean = pd.merge(df_recipe_clean, df_nutrition_healthy, on='recipe_id', how='inner')\n",
    "df_recipe_nutrients_clean.head(10)"
   ]
  },
  {
   "cell_type": "code",
   "execution_count": 163,
   "metadata": {},
   "outputs": [
    {
     "data": {
      "text/plain": [
       "(5046, 8)"
      ]
     },
     "execution_count": 163,
     "metadata": {},
     "output_type": "execute_result"
    }
   ],
   "source": [
    "df_quantity_ingredient.shape"
   ]
  },
  {
   "cell_type": "markdown",
   "metadata": {},
   "source": [
    "<br>\n",
    "\n",
    "#### Merge all the needed information into one table, drop the 'quantity_id', 'ingredient_id' and 'preparation'."
   ]
  },
  {
   "cell_type": "code",
   "execution_count": 164,
   "metadata": {},
   "outputs": [
    {
     "data": {
      "text/html": [
       "<div>\n",
       "<style scoped>\n",
       "    .dataframe tbody tr th:only-of-type {\n",
       "        vertical-align: middle;\n",
       "    }\n",
       "\n",
       "    .dataframe tbody tr th {\n",
       "        vertical-align: top;\n",
       "    }\n",
       "\n",
       "    .dataframe thead th {\n",
       "        text-align: right;\n",
       "    }\n",
       "</style>\n",
       "<table border=\"1\" class=\"dataframe\">\n",
       "  <thead>\n",
       "    <tr style=\"text-align: right;\">\n",
       "      <th></th>\n",
       "      <th>quantity_id</th>\n",
       "      <th>recipe_id</th>\n",
       "      <th>ingredient_id</th>\n",
       "      <th>unit</th>\n",
       "      <th>preparation</th>\n",
       "      <th>qty</th>\n",
       "      <th>category</th>\n",
       "      <th>name</th>\n",
       "      <th>title</th>\n",
       "      <th>servings</th>\n",
       "      <th>prep_min</th>\n",
       "      <th>cook_min</th>\n",
       "      <th>stnd_min</th>\n",
       "      <th>directions</th>\n",
       "      <th>protein</th>\n",
       "      <th>carbo</th>\n",
       "      <th>total_fat</th>\n",
       "      <th>cholestrl</th>\n",
       "      <th>sodium</th>\n",
       "      <th>calories</th>\n",
       "    </tr>\n",
       "  </thead>\n",
       "  <tbody>\n",
       "    <tr>\n",
       "      <th>0</th>\n",
       "      <td>1</td>\n",
       "      <td>214</td>\n",
       "      <td>1613</td>\n",
       "      <td>cup(s)</td>\n",
       "      <td>NaN</td>\n",
       "      <td>2.00</td>\n",
       "      <td>cookies/crackers</td>\n",
       "      <td>graham cracker crumbs</td>\n",
       "      <td>Raspberry Chiffon Pie</td>\n",
       "      <td>10</td>\n",
       "      <td>20</td>\n",
       "      <td>8</td>\n",
       "      <td>305</td>\n",
       "      <td>For crust, preheat oven to 375 degrees F.\\nIn...</td>\n",
       "      <td>5.47</td>\n",
       "      <td>41.29</td>\n",
       "      <td>11.53</td>\n",
       "      <td>1.39</td>\n",
       "      <td>260.78</td>\n",
       "      <td>290.79</td>\n",
       "    </tr>\n",
       "    <tr>\n",
       "      <th>1</th>\n",
       "      <td>2</td>\n",
       "      <td>214</td>\n",
       "      <td>3334</td>\n",
       "      <td>cup(s)</td>\n",
       "      <td>NaN</td>\n",
       "      <td>0.25</td>\n",
       "      <td>baking products</td>\n",
       "      <td>sugar</td>\n",
       "      <td>Raspberry Chiffon Pie</td>\n",
       "      <td>10</td>\n",
       "      <td>20</td>\n",
       "      <td>8</td>\n",
       "      <td>305</td>\n",
       "      <td>For crust, preheat oven to 375 degrees F.\\nIn...</td>\n",
       "      <td>5.47</td>\n",
       "      <td>41.29</td>\n",
       "      <td>11.53</td>\n",
       "      <td>1.39</td>\n",
       "      <td>260.78</td>\n",
       "      <td>290.79</td>\n",
       "    </tr>\n",
       "    <tr>\n",
       "      <th>2</th>\n",
       "      <td>3</td>\n",
       "      <td>214</td>\n",
       "      <td>2222</td>\n",
       "      <td>cup(s)</td>\n",
       "      <td>melted</td>\n",
       "      <td>0.50</td>\n",
       "      <td>dairy</td>\n",
       "      <td>margarine or butter</td>\n",
       "      <td>Raspberry Chiffon Pie</td>\n",
       "      <td>10</td>\n",
       "      <td>20</td>\n",
       "      <td>8</td>\n",
       "      <td>305</td>\n",
       "      <td>For crust, preheat oven to 375 degrees F.\\nIn...</td>\n",
       "      <td>5.47</td>\n",
       "      <td>41.29</td>\n",
       "      <td>11.53</td>\n",
       "      <td>1.39</td>\n",
       "      <td>260.78</td>\n",
       "      <td>290.79</td>\n",
       "    </tr>\n",
       "    <tr>\n",
       "      <th>3</th>\n",
       "      <td>4</td>\n",
       "      <td>214</td>\n",
       "      <td>2797</td>\n",
       "      <td>cup(s)</td>\n",
       "      <td>or water</td>\n",
       "      <td>0.25</td>\n",
       "      <td>fruit juices</td>\n",
       "      <td>raspberry juice</td>\n",
       "      <td>Raspberry Chiffon Pie</td>\n",
       "      <td>10</td>\n",
       "      <td>20</td>\n",
       "      <td>8</td>\n",
       "      <td>305</td>\n",
       "      <td>For crust, preheat oven to 375 degrees F.\\nIn...</td>\n",
       "      <td>5.47</td>\n",
       "      <td>41.29</td>\n",
       "      <td>11.53</td>\n",
       "      <td>1.39</td>\n",
       "      <td>260.78</td>\n",
       "      <td>290.79</td>\n",
       "    </tr>\n",
       "    <tr>\n",
       "      <th>4</th>\n",
       "      <td>5</td>\n",
       "      <td>214</td>\n",
       "      <td>3567</td>\n",
       "      <td>teaspoon(s)</td>\n",
       "      <td>NaN</td>\n",
       "      <td>3.00</td>\n",
       "      <td>gelatin</td>\n",
       "      <td>unflavored gelatin</td>\n",
       "      <td>Raspberry Chiffon Pie</td>\n",
       "      <td>10</td>\n",
       "      <td>20</td>\n",
       "      <td>8</td>\n",
       "      <td>305</td>\n",
       "      <td>For crust, preheat oven to 375 degrees F.\\nIn...</td>\n",
       "      <td>5.47</td>\n",
       "      <td>41.29</td>\n",
       "      <td>11.53</td>\n",
       "      <td>1.39</td>\n",
       "      <td>260.78</td>\n",
       "      <td>290.79</td>\n",
       "    </tr>\n",
       "  </tbody>\n",
       "</table>\n",
       "</div>"
      ],
      "text/plain": [
       "   quantity_id  recipe_id  ingredient_id         unit preparation   qty  \\\n",
       "0            1        214           1613       cup(s)         NaN  2.00   \n",
       "1            2        214           3334       cup(s)         NaN  0.25   \n",
       "2            3        214           2222       cup(s)      melted  0.50   \n",
       "3            4        214           2797       cup(s)    or water  0.25   \n",
       "4            5        214           3567  teaspoon(s)         NaN  3.00   \n",
       "\n",
       "           category                   name                  title  servings  \\\n",
       "0  cookies/crackers  graham cracker crumbs  Raspberry Chiffon Pie        10   \n",
       "1   baking products                  sugar  Raspberry Chiffon Pie        10   \n",
       "2             dairy    margarine or butter  Raspberry Chiffon Pie        10   \n",
       "3      fruit juices        raspberry juice  Raspberry Chiffon Pie        10   \n",
       "4           gelatin     unflavored gelatin  Raspberry Chiffon Pie        10   \n",
       "\n",
       "   prep_min  cook_min  stnd_min  \\\n",
       "0        20         8       305   \n",
       "1        20         8       305   \n",
       "2        20         8       305   \n",
       "3        20         8       305   \n",
       "4        20         8       305   \n",
       "\n",
       "                                          directions  protein  carbo  \\\n",
       "0   For crust, preheat oven to 375 degrees F.\\nIn...     5.47  41.29   \n",
       "1   For crust, preheat oven to 375 degrees F.\\nIn...     5.47  41.29   \n",
       "2   For crust, preheat oven to 375 degrees F.\\nIn...     5.47  41.29   \n",
       "3   For crust, preheat oven to 375 degrees F.\\nIn...     5.47  41.29   \n",
       "4   For crust, preheat oven to 375 degrees F.\\nIn...     5.47  41.29   \n",
       "\n",
       "   total_fat  cholestrl  sodium  calories  \n",
       "0      11.53       1.39  260.78    290.79  \n",
       "1      11.53       1.39  260.78    290.79  \n",
       "2      11.53       1.39  260.78    290.79  \n",
       "3      11.53       1.39  260.78    290.79  \n",
       "4      11.53       1.39  260.78    290.79  "
      ]
     },
     "execution_count": 164,
     "metadata": {},
     "output_type": "execute_result"
    }
   ],
   "source": [
    "df_recipe_recommender = pd.merge(df_quantity_ingredient, df_recipe_nutrients_clean, on='recipe_id', how='inner')\n",
    "df_recipe_recommender.head()"
   ]
  },
  {
   "cell_type": "code",
   "execution_count": 165,
   "metadata": {
    "scrolled": true
   },
   "outputs": [],
   "source": [
    "df_recipe_recommender = df_recipe_recommender.drop(['quantity_id', 'ingredient_id', 'preparation'], axis=1)"
   ]
  },
  {
   "cell_type": "markdown",
   "metadata": {},
   "source": [
    "<br>\n",
    "\n",
    "#### We can notice that we did not lose any data."
   ]
  },
  {
   "cell_type": "code",
   "execution_count": 166,
   "metadata": {},
   "outputs": [
    {
     "data": {
      "text/plain": [
       "(5046, 17)"
      ]
     },
     "execution_count": 166,
     "metadata": {},
     "output_type": "execute_result"
    }
   ],
   "source": [
    "df_recipe_recommender.shape"
   ]
  },
  {
   "cell_type": "markdown",
   "metadata": {},
   "source": [
    "<br>\n",
    "\n",
    "### Exports cleaned tables to csv:"
   ]
  },
  {
   "cell_type": "code",
   "execution_count": 167,
   "metadata": {},
   "outputs": [],
   "source": [
    "df_recipe_recommender.to_csv('./exports/recipe_recommender.csv', index=False)\n",
    "df_nutrients_for_health = df_recipe_nutrients_clean[['protein', 'carbo', 'total_fat', 'cholestrl', 'sodium','calories']]\n",
    "df_nutrients_for_health.to_csv('./exports/nutrients_for_health.csv', index=False)\n"
   ]
  },
  {
   "cell_type": "code",
   "execution_count": null,
   "metadata": {},
   "outputs": [],
   "source": []
  },
  {
   "cell_type": "code",
   "execution_count": 168,
   "metadata": {},
   "outputs": [
    {
     "data": {
      "text/html": [
       "<div>\n",
       "<style scoped>\n",
       "    .dataframe tbody tr th:only-of-type {\n",
       "        vertical-align: middle;\n",
       "    }\n",
       "\n",
       "    .dataframe tbody tr th {\n",
       "        vertical-align: top;\n",
       "    }\n",
       "\n",
       "    .dataframe thead th {\n",
       "        text-align: right;\n",
       "    }\n",
       "</style>\n",
       "<table border=\"1\" class=\"dataframe\">\n",
       "  <thead>\n",
       "    <tr style=\"text-align: right;\">\n",
       "      <th></th>\n",
       "      <th>protein</th>\n",
       "      <th>carbo</th>\n",
       "      <th>total_fat</th>\n",
       "      <th>cholestrl</th>\n",
       "      <th>sodium</th>\n",
       "      <th>calories</th>\n",
       "    </tr>\n",
       "  </thead>\n",
       "  <tbody>\n",
       "    <tr>\n",
       "      <th>count</th>\n",
       "      <td>878.000000</td>\n",
       "      <td>878.000000</td>\n",
       "      <td>878.000000</td>\n",
       "      <td>878.000000</td>\n",
       "      <td>878.000000</td>\n",
       "      <td>878.000000</td>\n",
       "    </tr>\n",
       "    <tr>\n",
       "      <th>mean</th>\n",
       "      <td>12.203189</td>\n",
       "      <td>26.963132</td>\n",
       "      <td>6.579032</td>\n",
       "      <td>36.166344</td>\n",
       "      <td>341.498519</td>\n",
       "      <td>217.914465</td>\n",
       "    </tr>\n",
       "    <tr>\n",
       "      <th>std</th>\n",
       "      <td>14.060335</td>\n",
       "      <td>20.391097</td>\n",
       "      <td>7.209403</td>\n",
       "      <td>57.638835</td>\n",
       "      <td>588.022379</td>\n",
       "      <td>149.079768</td>\n",
       "    </tr>\n",
       "    <tr>\n",
       "      <th>min</th>\n",
       "      <td>0.000000</td>\n",
       "      <td>0.000000</td>\n",
       "      <td>0.000000</td>\n",
       "      <td>0.000000</td>\n",
       "      <td>0.000000</td>\n",
       "      <td>0.000000</td>\n",
       "    </tr>\n",
       "    <tr>\n",
       "      <th>25%</th>\n",
       "      <td>2.030000</td>\n",
       "      <td>10.602500</td>\n",
       "      <td>0.772500</td>\n",
       "      <td>0.000000</td>\n",
       "      <td>39.822500</td>\n",
       "      <td>103.820000</td>\n",
       "    </tr>\n",
       "    <tr>\n",
       "      <th>50%</th>\n",
       "      <td>5.885000</td>\n",
       "      <td>24.340000</td>\n",
       "      <td>4.705000</td>\n",
       "      <td>6.530000</td>\n",
       "      <td>198.895000</td>\n",
       "      <td>190.160000</td>\n",
       "    </tr>\n",
       "    <tr>\n",
       "      <th>75%</th>\n",
       "      <td>20.075000</td>\n",
       "      <td>38.045000</td>\n",
       "      <td>9.785000</td>\n",
       "      <td>56.877500</td>\n",
       "      <td>470.672500</td>\n",
       "      <td>310.505000</td>\n",
       "    </tr>\n",
       "    <tr>\n",
       "      <th>max</th>\n",
       "      <td>105.650000</td>\n",
       "      <td>116.780000</td>\n",
       "      <td>53.230000</td>\n",
       "      <td>443.040000</td>\n",
       "      <td>12092.600000</td>\n",
       "      <td>892.040000</td>\n",
       "    </tr>\n",
       "  </tbody>\n",
       "</table>\n",
       "</div>"
      ],
      "text/plain": [
       "          protein       carbo   total_fat   cholestrl        sodium  \\\n",
       "count  878.000000  878.000000  878.000000  878.000000    878.000000   \n",
       "mean    12.203189   26.963132    6.579032   36.166344    341.498519   \n",
       "std     14.060335   20.391097    7.209403   57.638835    588.022379   \n",
       "min      0.000000    0.000000    0.000000    0.000000      0.000000   \n",
       "25%      2.030000   10.602500    0.772500    0.000000     39.822500   \n",
       "50%      5.885000   24.340000    4.705000    6.530000    198.895000   \n",
       "75%     20.075000   38.045000    9.785000   56.877500    470.672500   \n",
       "max    105.650000  116.780000   53.230000  443.040000  12092.600000   \n",
       "\n",
       "         calories  \n",
       "count  878.000000  \n",
       "mean   217.914465  \n",
       "std    149.079768  \n",
       "min      0.000000  \n",
       "25%    103.820000  \n",
       "50%    190.160000  \n",
       "75%    310.505000  \n",
       "max    892.040000  "
      ]
     },
     "execution_count": 168,
     "metadata": {},
     "output_type": "execute_result"
    }
   ],
   "source": [
    "df_nutrients_for_health = df_recipe_nutrients_clean[['protein', 'carbo', 'total_fat', 'cholestrl', 'sodium','calories']]\n",
    "df_nutrients_for_health.describe()"
   ]
  },
  {
   "cell_type": "markdown",
   "metadata": {},
   "source": [
    "#### From the above table we can see the exact statistics of the nutrients from all the recipes. We can notice that for all nutrients, the mean is higher than the median so we expect a right skewness in all distributions.\n",
    "#### Let`s further visualize all the above mentioned numbers."
   ]
  },
  {
   "cell_type": "code",
   "execution_count": 169,
   "metadata": {
    "scrolled": true
   },
   "outputs": [
    {
     "name": "stdout",
     "output_type": "stream",
     "text": [
      "Graph for protein/serving\n"
     ]
    },
    {
     "data": {
      "image/png": "[encoded data removed]",
      "text/plain": [
       "<Figure size 432x288 with 1 Axes>"
      ]
     },
     "metadata": {
      "needs_background": "light"
     },
     "output_type": "display_data"
    },
    {
     "name": "stdout",
     "output_type": "stream",
     "text": [
      "Graph for carbo/serving\n"
     ]
    },
    {
     "data": {
      "image/png": "[encoded data removed]",
      "text/plain": [
       "<Figure size 432x288 with 1 Axes>"
      ]
     },
     "metadata": {
      "needs_background": "light"
     },
     "output_type": "display_data"
    },
    {
     "name": "stdout",
     "output_type": "stream",
     "text": [
      "Graph for total_fat/serving\n"
     ]
    },
    {
     "data": {
      "image/png": "[encoded data removed]",
      "text/plain": [
       "<Figure size 432x288 with 1 Axes>"
      ]
     },
     "metadata": {
      "needs_background": "light"
     },
     "output_type": "display_data"
    },
    {
     "name": "stdout",
     "output_type": "stream",
     "text": [
      "Graph for cholestrl/serving\n"
     ]
    },
    {
     "data": {
      "image/png": "[encoded data removed]",
      "text/plain": [
       "<Figure size 432x288 with 1 Axes>"
      ]
     },
     "metadata": {
      "needs_background": "light"
     },
     "output_type": "display_data"
    },
    {
     "name": "stdout",
     "output_type": "stream",
     "text": [
      "Graph for sodium/serving\n"
     ]
    },
    {
     "data": {
      "image/png": "[encoded data removed]",
      "text/plain": [
       "<Figure size 432x288 with 1 Axes>"
      ]
     },
     "metadata": {
      "needs_background": "light"
     },
     "output_type": "display_data"
    },
    {
     "name": "stdout",
     "output_type": "stream",
     "text": [
      "Graph for calories/serving\n"
     ]
    },
    {
     "data": {
      "image/png": "[encoded data removed]",
      "text/plain": [
       "<Figure size 432x288 with 1 Axes>"
      ]
     },
     "metadata": {
      "needs_background": "light"
     },
     "output_type": "display_data"
    }
   ],
   "source": [
    "for i in df_nutrients_for_health.columns:\n",
    "    print(\"Graph for %s/serving\" % (i))\n",
    "    sns.histplot(x=df_nutrients_for_health[i], kde=True, shrink=.8)\n",
    "    plt.show()"
   ]
  },
  {
   "cell_type": "markdown",
   "metadata": {},
   "source": [
    "#### We can notice that all the distributions are right skewed. \n",
    "##### This means, that the majority of the recipe`s nutrients situates in a smaller range 0-n(depending on the nutrient) and there are some outlier recipes which increase the mean and also IQR (Q3-Q1) of each nutrient. We use IQR in this situation, instead of STD, because the distributions are far away from normality.\n",
    "<br>\n"
   ]
  },
  {
   "cell_type": "markdown",
   "metadata": {},
   "source": [
    "### Let`s check if there are any correlations between the nutrients"
   ]
  },
  {
   "cell_type": "code",
   "execution_count": 170,
   "metadata": {},
   "outputs": [
    {
     "data": {
      "text/plain": [
       "<AxesSubplot:>"
      ]
     },
     "execution_count": 170,
     "metadata": {},
     "output_type": "execute_result"
    },
    {
     "data": {
      "image/png": "[encoded data removed]",
      "text/plain": [
       "<Figure size 432x288 with 2 Axes>"
      ]
     },
     "metadata": {
      "needs_background": "light"
     },
     "output_type": "display_data"
    }
   ],
   "source": [
    "cmap = sns.diverging_palette(220,10, as_cmap=True)\n",
    "sns.heatmap(df_nutrients_for_health.corr(), vmax=1, center=0, cmap=cmap,\n",
    "           square=True, linewidths=.5, cbar_kws={\"shrink\": .5})"
   ]
  },
  {
   "cell_type": "markdown",
   "metadata": {},
   "source": [
    "### As we can visualize there are some correlations between the nutrients.\n",
    "Calories are correlated with:\n",
    "<ul>\n",
    "    <li>proteins</li>\n",
    "    <li>carbohydrates</li>    \n",
    "    <li>total fat</li>\n",
    "    Less with: <ul><li>cholesterol</li></ul>\n",
    "</ul>\n",
    "Sodium is not correlated with any of these.<br>\n",
    "Proteins are correlated with:\n",
    "<ul>\n",
    "    <li>total fat</li>\n",
    "    <li>cholesterol</li>\n",
    "</ul>\n",
    "Cholesterol is also correlated with: -> total fat"
   ]
  },
  {
   "cell_type": "markdown",
   "metadata": {},
   "source": [
    "<br>\n",
    "<br>\n",
    "\n",
    "### Let`s check what are the most used ingredient categories from our data set."
   ]
  },
  {
   "cell_type": "code",
   "execution_count": 171,
   "metadata": {},
   "outputs": [
    {
     "data": {
      "image/png": "[encoded data removed]",
      "text/plain": [
       "<Figure size 432x288 with 1 Axes>"
      ]
     },
     "metadata": {
      "needs_background": "light"
     },
     "output_type": "display_data"
    }
   ],
   "source": [
    "cat_num = df_ingredients['category'].value_counts()[:20]\n",
    "chart = sns.barplot(x=cat_num.index, y=cat_num)\n",
    "chart.set_xticklabels(chart.get_xticklabels(), rotation=90)\n",
    "plt.show()"
   ]
  },
  {
   "cell_type": "markdown",
   "metadata": {},
   "source": [
    "#### We can notice that by far the most used ingredients are 'fresh vegetables'. This will be helpful for our goal.\n",
    "<br>\n",
    "<br>"
   ]
  },
  {
   "cell_type": "code",
   "execution_count": 172,
   "metadata": {},
   "outputs": [
    {
     "data": {
      "image/png": "[encoded data removed]",
      "text/plain": [
       "<Figure size 432x288 with 1 Axes>"
      ]
     },
     "metadata": {
      "needs_background": "light"
     },
     "output_type": "display_data"
    }
   ],
   "source": [
    "cat_num = df_recipe_recommender['name'].value_counts()[:20]\n",
    "chart = sns.barplot(x=cat_num.index, y=cat_num)\n",
    "chart.set_xticklabels(chart.get_xticklabels(), rotation=90)\n",
    "plt.show()"
   ]
  },
  {
   "cell_type": "markdown",
   "metadata": {},
   "source": [
    "<br>\n",
    "<br>\n",
    "\n",
    "### Play with the data and check if we can find more correlations between variables."
   ]
  },
  {
   "cell_type": "markdown",
   "metadata": {},
   "source": [
    "#### Check if it any correlation between the total preparation time and the length of the 'directions' column. Suppose that if the recipe is more complicated and the instructions are larger, also the preparation time will be higher.\n",
    "#### Create a new column in the 'df_recipe' table where we sum up all durations."
   ]
  },
  {
   "cell_type": "code",
   "execution_count": 173,
   "metadata": {},
   "outputs": [],
   "source": [
    "df_recipe['total_min'] = df_recipe['prep_min'] + df_recipe['cook_min'] + df_recipe['stnd_min']\n",
    "#get direction length\n",
    "df_recipe['dir_len'] = df_recipe['directions'].apply(lambda x: len(str(x)))"
   ]
  },
  {
   "cell_type": "code",
   "execution_count": 174,
   "metadata": {},
   "outputs": [
    {
     "data": {
      "text/plain": [
       "<seaborn.axisgrid.FacetGrid at 0x1c4ef38b850>"
      ]
     },
     "execution_count": 174,
     "metadata": {},
     "output_type": "execute_result"
    },
    {
     "data": {
      "image/png": "[encoded data removed]",
      "text/plain": [
       "<Figure size 360x360 with 1 Axes>"
      ]
     },
     "metadata": {
      "needs_background": "light"
     },
     "output_type": "display_data"
    }
   ],
   "source": [
    "sns.lmplot(x=\"total_min\", y=\"dir_len\", data=df_recipe, palette=\"Set1\")"
   ]
  },
  {
   "cell_type": "markdown",
   "metadata": {},
   "source": [
    "#### We have a few outliers which may influence the output. Remove the outliers."
   ]
  },
  {
   "cell_type": "code",
   "execution_count": 175,
   "metadata": {},
   "outputs": [
    {
     "data": {
      "text/plain": [
       "<seaborn.axisgrid.FacetGrid at 0x1c4ef2dd070>"
      ]
     },
     "execution_count": 175,
     "metadata": {},
     "output_type": "execute_result"
    },
    {
     "data": {
      "image/png": "[encoded data removed]",
      "text/plain": [
       "<Figure size 360x360 with 1 Axes>"
      ]
     },
     "metadata": {
      "needs_background": "light"
     },
     "output_type": "display_data"
    }
   ],
   "source": [
    "df_recipe_helper = df_recipe[df_recipe['total_min'] < 400]\n",
    "sns.lmplot(x=\"total_min\", y=\"dir_len\", data=df_recipe_helper, palette=\"Set1\")"
   ]
  },
  {
   "cell_type": "markdown",
   "metadata": {},
   "source": [
    "<br>\n",
    "\n",
    "#### Try another correlation visualization"
   ]
  },
  {
   "cell_type": "code",
   "execution_count": 176,
   "metadata": {},
   "outputs": [
    {
     "data": {
      "text/plain": [
       "<AxesSubplot:>"
      ]
     },
     "execution_count": 176,
     "metadata": {},
     "output_type": "execute_result"
    },
    {
     "data": {
      "image/png": "[encoded data removed]",
      "text/plain": [
       "<Figure size 432x288 with 2 Axes>"
      ]
     },
     "metadata": {
      "needs_background": "light"
     },
     "output_type": "display_data"
    }
   ],
   "source": [
    "cmap = sns.diverging_palette(220,10, as_cmap=True)\n",
    "sns.heatmap(df_recipe_helper[['total_min', 'dir_len']].corr(), vmax=1, center=0, cmap=cmap,\n",
    "           square=True, linewidths=.5, cbar_kws={\"shrink\": .5})"
   ]
  },
  {
   "cell_type": "markdown",
   "metadata": {},
   "source": [
    "#### We can notice that the duration of a recipe it is not correlated with the length of the instructions."
   ]
  },
  {
   "cell_type": "code",
   "execution_count": null,
   "metadata": {},
   "outputs": [],
   "source": []
  }
 ],
 "metadata": {
  "kernelspec": {
   "display_name": "Python 3",
   "language": "python",
   "name": "python3"
  },
  "language_info": {
   "codemirror_mode": {
    "name": "ipython",
    "version": 3
   },
   "file_extension": ".py",
   "mimetype": "text/x-python",
   "name": "python",
   "nbconvert_exporter": "python",
   "pygments_lexer": "ipython3",
   "version": "3.8.5"
  }
 },
 "nbformat": 4,
 "nbformat_minor": 4
}
